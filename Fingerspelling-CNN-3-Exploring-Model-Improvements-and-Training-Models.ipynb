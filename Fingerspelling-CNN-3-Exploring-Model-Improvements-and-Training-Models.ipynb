{
 "cells": [
  {
   "cell_type": "code",
   "execution_count": 24,
   "metadata": {},
   "outputs": [],
   "source": [
    "import numpy as np\n",
    "import pandas as pd\n",
    "import matplotlib.pyplot as plt\n",
    "%matplotlib inline\n",
    "from sklearn.neural_network import MLPClassifier\n",
    "from sklearn.model_selection import train_test_split\n",
    "from sklearn.preprocessing import StandardScaler\n",
    "import seaborn as sns\n",
    "\n",
    "from tensorflow.keras.preprocessing.image import ImageDataGenerator\n",
    "from sklearn.preprocessing import LabelEncoder\n",
    "from sklearn.metrics import confusion_matrix\n"
   ]
  },
  {
   "cell_type": "markdown",
   "metadata": {},
   "source": [
    "#### Saving or loading the model as desired."
   ]
  },
  {
   "cell_type": "code",
   "execution_count": 25,
   "metadata": {},
   "outputs": [],
   "source": [
    "from tensorflow.keras.models import load_model"
   ]
  },
  {
   "cell_type": "code",
   "execution_count": 3,
   "metadata": {},
   "outputs": [],
   "source": [
    "#model.save(\"model_3_0\") creates a folder with the same name as the model"
   ]
  },
  {
   "cell_type": "code",
   "execution_count": 4,
   "metadata": {},
   "outputs": [],
   "source": [
    "#model_2 = load_model(\"model_2_after_15_epochs\") loads a model from this folder"
   ]
  },
  {
   "cell_type": "markdown",
   "metadata": {},
   "source": [
    "# Table of Contents"
   ]
  },
  {
   "cell_type": "markdown",
   "metadata": {},
   "source": [
    "[Baseline Model](#Baseline-Model)\n",
    "\n",
    "[Trying Model Improvements](#Trying-Model-Improvements)\n",
    "(sub-entries) [Viewing image](#Viewing-image), [Disabling the datagen's shuffle feature](#Disabling-the-datagen's-shuffle-feature), [Perhaps that warning when importing MobileNetV2 is actually not all bark and no bite](#Perhaps-that-warning-when-importing-MobileNetV2-is-actually-not-all-bark-and-no-bite), \n",
    "\n",
    "[Generating New Baseline Model](#Generating-New-Baseline-Model)\n"
   ]
  },
  {
   "cell_type": "markdown",
   "metadata": {},
   "source": [
    "# Baseline Model"
   ]
  },
  {
   "cell_type": "markdown",
   "metadata": {},
   "source": [
    "### Importing Data"
   ]
  },
  {
   "cell_type": "markdown",
   "metadata": {},
   "source": [
    "The following function imports a directory full of subdirectories full of photos, with each subdirectory named after the class of its stored photos.\n",
    "\n",
    "train_data/ \n",
    "\n",
    "     |\n",
    "     V     \n",
    "     |\n",
    "     |\n",
    "      >  A/ -> A_1, A_2, A_3, etc.\n",
    "     |\n",
    "      >  B/ -> B_1, B_2, B_3, etc.\n",
    "     |  \n",
    "      >  C/ -> C_1, C_2, C_3, etc.\n",
    "     |  \n",
    "      >  D/ -> D_1, D_2, D_3, etc."
   ]
  },
  {
   "cell_type": "code",
   "execution_count": 39,
   "metadata": {},
   "outputs": [],
   "source": [
    "def data_generator(image_size, path, preprocess_func=None, split_off_for_val=0.0, split_segment = None, shuf = True):\n",
    "    this_datagen = ImageDataGenerator(preprocessing_function = preprocess_func, validation_split = split_off_for_val)\n",
    "    #  note: ImageDataGenerator does not appear to have a parameter for random seeds. Be wary of train/val overlap\n",
    "    #  note: train/val/test split does not currently work\n",
    "    this_generator = this_datagen.flow_from_directory(path, \n",
    "                                                     target_size=image_size,\n",
    "                                                     subset = split_segment, #  None|'training'|'validation'\n",
    "                                                     color_mode='rgb',\n",
    "                                                     batch_size=80,\n",
    "                                                     class_mode='categorical',\n",
    "                                                     shuffle=shuf)\n",
    "    return this_generator"
   ]
  },
  {
   "cell_type": "markdown",
   "metadata": {},
   "source": [
    "As the split functionality did not work, I split the data manually into train/validation/test sets.\n",
    "\n",
    "3000 images per class became:\n",
    "\n",
    "900 test + 630 val + 1470 train\n",
    "\n",
    "87000 images total became:\n",
    "\n",
    "26100 test + 18270 val + 42630 train"
   ]
  },
  {
   "cell_type": "markdown",
   "metadata": {},
   "source": [
    "#### Training Data"
   ]
  },
  {
   "cell_type": "code",
   "execution_count": 40,
   "metadata": {},
   "outputs": [
    {
     "name": "stdout",
     "output_type": "stream",
     "text": [
      "Found 42630 images belonging to 29 classes.\n"
     ]
    },
    {
     "data": {
      "text/plain": [
       "<tensorflow.python.keras.preprocessing.image.DirectoryIterator at 0x21e225e1df0>"
      ]
     },
     "execution_count": 40,
     "metadata": {},
     "output_type": "execute_result"
    }
   ],
   "source": [
    "train_data = data_generator(image_size = [80,80],\n",
    "                            path = 'data/grassnoted split/asl_alphabet_train',\n",
    "                           )\n",
    "train_data\n"
   ]
  },
  {
   "cell_type": "markdown",
   "metadata": {},
   "source": [
    "#### Validation Data"
   ]
  },
  {
   "cell_type": "code",
   "execution_count": 41,
   "metadata": {},
   "outputs": [
    {
     "name": "stdout",
     "output_type": "stream",
     "text": [
      "Found 18270 images belonging to 29 classes.\n"
     ]
    },
    {
     "data": {
      "text/plain": [
       "<tensorflow.python.keras.preprocessing.image.DirectoryIterator at 0x21e298cf760>"
      ]
     },
     "execution_count": 41,
     "metadata": {},
     "output_type": "execute_result"
    }
   ],
   "source": [
    "validation_data = data_generator(image_size = [80,80], \n",
    "                                 path = 'data/grassnoted split/asl_alphabet_validation',\n",
    "                                )\n",
    "validation_data\n"
   ]
  },
  {
   "cell_type": "markdown",
   "metadata": {},
   "source": [
    "#### Test Data"
   ]
  },
  {
   "cell_type": "code",
   "execution_count": 43,
   "metadata": {},
   "outputs": [
    {
     "name": "stdout",
     "output_type": "stream",
     "text": [
      "Found 26100 images belonging to 29 classes.\n"
     ]
    },
    {
     "data": {
      "text/plain": [
       "<tensorflow.python.keras.preprocessing.image.DirectoryIterator at 0x21e1f9cd880>"
      ]
     },
     "execution_count": 43,
     "metadata": {},
     "output_type": "execute_result"
    }
   ],
   "source": [
    "test_data = data_generator(image_size = [80,80],\n",
    "                           path = 'data/grassnoted split/asl_alphabet_test',\n",
    "                          )\n",
    "test_data\n"
   ]
  },
  {
   "cell_type": "markdown",
   "metadata": {},
   "source": [
    "#### Creating Model"
   ]
  },
  {
   "cell_type": "code",
   "execution_count": 38,
   "metadata": {},
   "outputs": [],
   "source": [
    "from tensorflow.keras.applications import MobileNetV2\n",
    "from tensorflow.keras.applications.mobilenet_v2 import preprocess_input\n",
    "from tensorflow.keras.layers import Dense,GlobalAveragePooling2D\n",
    "from tensorflow.keras.models import Model\n",
    "from tensorflow.keras.optimizers import Adam"
   ]
  },
  {
   "cell_type": "markdown",
   "metadata": {},
   "source": [
    "Importing MobileNetV2 for use in transfer learning."
   ]
  },
  {
   "cell_type": "code",
   "execution_count": 39,
   "metadata": {
    "scrolled": true
   },
   "outputs": [
    {
     "name": "stdout",
     "output_type": "stream",
     "text": [
      "WARNING:tensorflow:`input_shape` is undefined or non-square, or `rows` is not in [96, 128, 160, 192, 224]. Weights for input shape (224, 224) will be loaded as the default.\n"
     ]
    }
   ],
   "source": [
    "experienced_model = MobileNetV2(weights='imagenet', include_top=False, input_shape = (80,80,3))\n",
    "#input shape minimum is 32x32\n",
    "#this warning is all bark and no bite"
   ]
  },
  {
   "cell_type": "markdown",
   "metadata": {},
   "source": [
    "Defining an untrained neural network to attach to the end of MobileNetV2 in order to make predictions in our current problem space."
   ]
  },
  {
   "cell_type": "code",
   "execution_count": 40,
   "metadata": {},
   "outputs": [],
   "source": [
    "# Assign the output of this base_model to a variable:\n",
    "base_model_out = experienced_model.output\n",
    "\n",
    "\n",
    "\n",
    "# Add a pooling layer:\n",
    "base_model_out = GlobalAveragePooling2D()(base_model_out)\n",
    "\n",
    "# using a softmax base_model_out activation function:\n",
    "preds = Dense(29, activation='softmax')(base_model_out)\n",
    "\n",
    "\n",
    "\n",
    "\n",
    "# Instantiate our final model, where we specify what are the inputs and \n",
    "# the outputs will look like\n",
    "model = Model(inputs = experienced_model.input, \n",
    "              outputs = preds)"
   ]
  },
  {
   "cell_type": "markdown",
   "metadata": {},
   "source": [
    "We can find the number of nodes in the topless MobileNetV2 by looking at the index of the pooling layer. These should be locked in order to preserve their weights."
   ]
  },
  {
   "cell_type": "code",
   "execution_count": 41,
   "metadata": {},
   "outputs": [
    {
     "name": "stdout",
     "output_type": "stream",
     "text": [
      "0 input_9\n",
      "1 Conv1\n",
      "2 bn_Conv1\n",
      "3 Conv1_relu\n",
      "4 expanded_conv_depthwise\n",
      "5 expanded_conv_depthwise_BN\n",
      "6 expanded_conv_depthwise_relu\n",
      "7 expanded_conv_project\n",
      "8 expanded_conv_project_BN\n",
      "9 block_1_expand\n",
      "10 block_1_expand_BN\n",
      "11 block_1_expand_relu\n",
      "12 block_1_pad\n",
      "13 block_1_depthwise\n",
      "14 block_1_depthwise_BN\n",
      "15 block_1_depthwise_relu\n",
      "16 block_1_project\n",
      "17 block_1_project_BN\n",
      "18 block_2_expand\n",
      "19 block_2_expand_BN\n",
      "20 block_2_expand_relu\n",
      "21 block_2_depthwise\n",
      "22 block_2_depthwise_BN\n",
      "23 block_2_depthwise_relu\n",
      "24 block_2_project\n",
      "25 block_2_project_BN\n",
      "26 block_2_add\n",
      "27 block_3_expand\n",
      "28 block_3_expand_BN\n",
      "29 block_3_expand_relu\n",
      "30 block_3_pad\n",
      "31 block_3_depthwise\n",
      "32 block_3_depthwise_BN\n",
      "33 block_3_depthwise_relu\n",
      "34 block_3_project\n",
      "35 block_3_project_BN\n",
      "36 block_4_expand\n",
      "37 block_4_expand_BN\n",
      "38 block_4_expand_relu\n",
      "39 block_4_depthwise\n",
      "40 block_4_depthwise_BN\n",
      "41 block_4_depthwise_relu\n",
      "42 block_4_project\n",
      "43 block_4_project_BN\n",
      "44 block_4_add\n",
      "45 block_5_expand\n",
      "46 block_5_expand_BN\n",
      "47 block_5_expand_relu\n",
      "48 block_5_depthwise\n",
      "49 block_5_depthwise_BN\n",
      "50 block_5_depthwise_relu\n",
      "51 block_5_project\n",
      "52 block_5_project_BN\n",
      "53 block_5_add\n",
      "54 block_6_expand\n",
      "55 block_6_expand_BN\n",
      "56 block_6_expand_relu\n",
      "57 block_6_pad\n",
      "58 block_6_depthwise\n",
      "59 block_6_depthwise_BN\n",
      "60 block_6_depthwise_relu\n",
      "61 block_6_project\n",
      "62 block_6_project_BN\n",
      "63 block_7_expand\n",
      "64 block_7_expand_BN\n",
      "65 block_7_expand_relu\n",
      "66 block_7_depthwise\n",
      "67 block_7_depthwise_BN\n",
      "68 block_7_depthwise_relu\n",
      "69 block_7_project\n",
      "70 block_7_project_BN\n",
      "71 block_7_add\n",
      "72 block_8_expand\n",
      "73 block_8_expand_BN\n",
      "74 block_8_expand_relu\n",
      "75 block_8_depthwise\n",
      "76 block_8_depthwise_BN\n",
      "77 block_8_depthwise_relu\n",
      "78 block_8_project\n",
      "79 block_8_project_BN\n",
      "80 block_8_add\n",
      "81 block_9_expand\n",
      "82 block_9_expand_BN\n",
      "83 block_9_expand_relu\n",
      "84 block_9_depthwise\n",
      "85 block_9_depthwise_BN\n",
      "86 block_9_depthwise_relu\n",
      "87 block_9_project\n",
      "88 block_9_project_BN\n",
      "89 block_9_add\n",
      "90 block_10_expand\n",
      "91 block_10_expand_BN\n",
      "92 block_10_expand_relu\n",
      "93 block_10_depthwise\n",
      "94 block_10_depthwise_BN\n",
      "95 block_10_depthwise_relu\n",
      "96 block_10_project\n",
      "97 block_10_project_BN\n",
      "98 block_11_expand\n",
      "99 block_11_expand_BN\n",
      "100 block_11_expand_relu\n",
      "101 block_11_depthwise\n",
      "102 block_11_depthwise_BN\n",
      "103 block_11_depthwise_relu\n",
      "104 block_11_project\n",
      "105 block_11_project_BN\n",
      "106 block_11_add\n",
      "107 block_12_expand\n",
      "108 block_12_expand_BN\n",
      "109 block_12_expand_relu\n",
      "110 block_12_depthwise\n",
      "111 block_12_depthwise_BN\n",
      "112 block_12_depthwise_relu\n",
      "113 block_12_project\n",
      "114 block_12_project_BN\n",
      "115 block_12_add\n",
      "116 block_13_expand\n",
      "117 block_13_expand_BN\n",
      "118 block_13_expand_relu\n",
      "119 block_13_pad\n",
      "120 block_13_depthwise\n",
      "121 block_13_depthwise_BN\n",
      "122 block_13_depthwise_relu\n",
      "123 block_13_project\n",
      "124 block_13_project_BN\n",
      "125 block_14_expand\n",
      "126 block_14_expand_BN\n",
      "127 block_14_expand_relu\n",
      "128 block_14_depthwise\n",
      "129 block_14_depthwise_BN\n",
      "130 block_14_depthwise_relu\n",
      "131 block_14_project\n",
      "132 block_14_project_BN\n",
      "133 block_14_add\n",
      "134 block_15_expand\n",
      "135 block_15_expand_BN\n",
      "136 block_15_expand_relu\n",
      "137 block_15_depthwise\n",
      "138 block_15_depthwise_BN\n",
      "139 block_15_depthwise_relu\n",
      "140 block_15_project\n",
      "141 block_15_project_BN\n",
      "142 block_15_add\n",
      "143 block_16_expand\n",
      "144 block_16_expand_BN\n",
      "145 block_16_expand_relu\n",
      "146 block_16_depthwise\n",
      "147 block_16_depthwise_BN\n",
      "148 block_16_depthwise_relu\n",
      "149 block_16_project\n",
      "150 block_16_project_BN\n",
      "151 Conv_1\n",
      "152 Conv_1_bn\n",
      "153 out_relu\n",
      "154 global_average_pooling2d_8\n",
      "155 dense_32\n"
     ]
    }
   ],
   "source": [
    "for i, layer in enumerate(model.layers):\n",
    "    print(i, layer.name)"
   ]
  },
  {
   "cell_type": "markdown",
   "metadata": {},
   "source": [
    "We can see that layer 154 is where our added layers begin. We will lock all layers above 154 and make them untrainable."
   ]
  },
  {
   "cell_type": "code",
   "execution_count": 42,
   "metadata": {},
   "outputs": [
    {
     "name": "stdout",
     "output_type": "stream",
     "text": [
      "global_average_pooling2d_8\n",
      "dense_32\n"
     ]
    }
   ],
   "source": [
    "for layer in model.layers[:154]:\n",
    "    layer.trainable=False\n",
    "    \n",
    "for layer in model.layers[154:]:\n",
    "    print(layer.name)\n",
    "    layer.trainable=True"
   ]
  },
  {
   "cell_type": "code",
   "execution_count": 43,
   "metadata": {},
   "outputs": [
    {
     "data": {
      "text/plain": [
       "80"
      ]
     },
     "execution_count": 43,
     "metadata": {},
     "output_type": "execute_result"
    }
   ],
   "source": [
    "train_data.batch_size"
   ]
  },
  {
   "cell_type": "code",
   "execution_count": 44,
   "metadata": {},
   "outputs": [
    {
     "data": {
      "text/plain": [
       "533"
      ]
     },
     "execution_count": 44,
     "metadata": {},
     "output_type": "execute_result"
    }
   ],
   "source": [
    "step_size_train = train_data.n//train_data.batch_size + 1\n",
    "\n",
    "# 'train_data.n' = 60,900 images\n",
    "# 'train_generator.batch_size' = 80 images per batch\n",
    "# 'step_size_train' = 762  (!needs to be int)\n",
    "step_size_train"
   ]
  },
  {
   "cell_type": "markdown",
   "metadata": {},
   "source": [
    "#### Compiling Model"
   ]
  },
  {
   "cell_type": "code",
   "execution_count": 45,
   "metadata": {},
   "outputs": [],
   "source": [
    "model.compile(loss = 'categorical_crossentropy', #loss function\n",
    "                  optimizer = 'Adam',\n",
    "                  metrics = ['accuracy']) #value to maximize"
   ]
  },
  {
   "cell_type": "markdown",
   "metadata": {},
   "source": [
    "#### Fitting Model"
   ]
  },
  {
   "cell_type": "code",
   "execution_count": 46,
   "metadata": {},
   "outputs": [
    {
     "name": "stdout",
     "output_type": "stream",
     "text": [
      "533/533 [==============================] - 231s 426ms/step - loss: 1.9089 - accuracy: 0.4958 - val_loss: 2.4178 - val_accuracy: 0.3754\n"
     ]
    },
    {
     "data": {
      "text/plain": [
       "<tensorflow.python.keras.callbacks.History at 0x22101aca430>"
      ]
     },
     "execution_count": 46,
     "metadata": {},
     "output_type": "execute_result"
    }
   ],
   "source": [
    "model.fit_generator(generator = train_data, validation_data = validation_data, steps_per_epoch = step_size_train, epochs = 1, verbose = 1)"
   ]
  },
  {
   "cell_type": "code",
   "execution_count": null,
   "metadata": {},
   "outputs": [],
   "source": [
    "model.fit()"
   ]
  },
  {
   "cell_type": "markdown",
   "metadata": {},
   "source": [
    "#### Plotting Model Progress"
   ]
  },
  {
   "cell_type": "code",
   "execution_count": null,
   "metadata": {},
   "outputs": [],
   "source": []
  },
  {
   "cell_type": "code",
   "execution_count": 18,
   "metadata": {},
   "outputs": [
    {
     "data": {
      "image/png": "[encoded data removed]",
      "text/plain": [
       "<Figure size 432x288 with 1 Axes>"
      ]
     },
     "metadata": {
      "needs_background": "light"
     },
     "output_type": "display_data"
    }
   ],
   "source": [
    "plt.figure()\n",
    "plt.plot(model.history.history['accuracy'], marker='o', label='training accuracy')\n",
    "plt.plot(model.history.history['val_accuracy'], marker='o', label='validation accuracy')\n",
    "plt.title('Training Accuracy and Validation Accuracy')\n",
    "plt.legend(loc='best')\n",
    "plt.xlabel('Epoch')\n",
    "plt.ylabel('Train Acc|Valid Acc')\n",
    "plt.show()"
   ]
  },
  {
   "cell_type": "markdown",
   "metadata": {},
   "source": [
    "# Trying Model Improvements"
   ]
  },
  {
   "cell_type": "markdown",
   "metadata": {},
   "source": [
    "## Viewing image\n",
    "TODO\n",
    "\n",
    "I do not know how to view images from the imagedatagenerator.\n",
    "However, with an accuracy of greater than 1/29, it at least is not guessing the same value for all of them."
   ]
  },
  {
   "cell_type": "markdown",
   "metadata": {},
   "source": [
    "This and many other troubleshooting steps are based on the guide [here](https://www.kdnuggets.com/2017/08/37-reasons-neural-network-not-working.html)"
   ]
  },
  {
   "cell_type": "markdown",
   "metadata": {},
   "source": [
    "## Disabling the datagen's shuffle feature\n",
    "[Rumor has it](https://stackoverflow.com/questions/41695844/keras-showing-images-from-data-generator) from Gerry P., this is used \"to maintain a correlation between the file and the associated prediction.\""
   ]
  },
  {
   "cell_type": "markdown",
   "metadata": {},
   "source": [
    "#### Training Data"
   ]
  },
  {
   "cell_type": "code",
   "execution_count": 28,
   "metadata": {},
   "outputs": [
    {
     "name": "stdout",
     "output_type": "stream",
     "text": [
      "Found 42630 images belonging to 29 classes.\n"
     ]
    },
    {
     "data": {
      "text/plain": [
       "<tensorflow.python.keras.preprocessing.image.DirectoryIterator at 0x2206fcabfd0>"
      ]
     },
     "execution_count": 28,
     "metadata": {},
     "output_type": "execute_result"
    }
   ],
   "source": [
    "train_data = data_generator(image_size = [80,80],\n",
    "                            path = 'data/grassnoted split/asl_alphabet_train',\n",
    "                            shuf = False\n",
    "                           )\n",
    "train_data\n"
   ]
  },
  {
   "cell_type": "markdown",
   "metadata": {},
   "source": [
    "#### Validation Data"
   ]
  },
  {
   "cell_type": "code",
   "execution_count": 29,
   "metadata": {},
   "outputs": [
    {
     "name": "stdout",
     "output_type": "stream",
     "text": [
      "Found 18270 images belonging to 29 classes.\n"
     ]
    },
    {
     "data": {
      "text/plain": [
       "<tensorflow.python.keras.preprocessing.image.DirectoryIterator at 0x2206fcabf40>"
      ]
     },
     "execution_count": 29,
     "metadata": {},
     "output_type": "execute_result"
    }
   ],
   "source": [
    "validation_data = data_generator(image_size = [80,80], \n",
    "                                 path = 'data/grassnoted split/asl_alphabet_validation',\n",
    "                                 shuf = False\n",
    "                                )\n",
    "validation_data\n"
   ]
  },
  {
   "cell_type": "markdown",
   "metadata": {},
   "source": [
    "#### Test Data"
   ]
  },
  {
   "cell_type": "code",
   "execution_count": 30,
   "metadata": {},
   "outputs": [
    {
     "name": "stdout",
     "output_type": "stream",
     "text": [
      "Found 26100 images belonging to 29 classes.\n"
     ]
    },
    {
     "data": {
      "text/plain": [
       "<tensorflow.python.keras.preprocessing.image.DirectoryIterator at 0x2206fcad550>"
      ]
     },
     "execution_count": 30,
     "metadata": {},
     "output_type": "execute_result"
    }
   ],
   "source": [
    "test_data = data_generator(image_size = [80,80],\n",
    "                           path = 'data/grassnoted split/asl_alphabet_test',\n",
    "                           shuf = False\n",
    "                          )\n",
    "test_data\n"
   ]
  },
  {
   "cell_type": "markdown",
   "metadata": {},
   "source": [
    "#### Compiling Model"
   ]
  },
  {
   "cell_type": "code",
   "execution_count": 31,
   "metadata": {},
   "outputs": [],
   "source": [
    "model.compile(loss = 'categorical_crossentropy', #loss function\n",
    "                  optimizer = 'Adam',\n",
    "                  metrics = ['accuracy']) #value to maximize"
   ]
  },
  {
   "cell_type": "markdown",
   "metadata": {},
   "source": [
    "#### Fitting Model"
   ]
  },
  {
   "cell_type": "code",
   "execution_count": 32,
   "metadata": {},
   "outputs": [
    {
     "name": "stderr",
     "output_type": "stream",
     "text": [
      "C:\\Users\\h\\.conda\\envs\\deeplearningcopy\\lib\\site-packages\\tensorflow\\python\\keras\\engine\\training.py:1844: UserWarning: `Model.fit_generator` is deprecated and will be removed in a future version. Please use `Model.fit`, which supports generators.\n",
      "  warnings.warn('`Model.fit_generator` is deprecated and '\n"
     ]
    },
    {
     "name": "stdout",
     "output_type": "stream",
     "text": [
      "Epoch 1/4\n",
      "533/533 [==============================] - 205s 376ms/step - loss: 1.2749 - accuracy: 0.6604 - val_loss: 3.7137 - val_accuracy: 0.2925\n",
      "Epoch 2/4\n",
      "533/533 [==============================] - 190s 357ms/step - loss: 1.1664 - accuracy: 0.6588 - val_loss: 3.5937 - val_accuracy: 0.3351\n",
      "Epoch 3/4\n",
      "533/533 [==============================] - 184s 344ms/step - loss: 1.1234 - accuracy: 0.6880 - val_loss: 3.3541 - val_accuracy: 0.3335\n",
      "Epoch 4/4\n",
      "533/533 [==============================] - 193s 362ms/step - loss: 1.1090 - accuracy: 0.6847 - val_loss: 4.2103 - val_accuracy: 0.3124\n"
     ]
    },
    {
     "data": {
      "text/plain": [
       "<tensorflow.python.keras.callbacks.History at 0x2206fff2fd0>"
      ]
     },
     "execution_count": 32,
     "metadata": {},
     "output_type": "execute_result"
    }
   ],
   "source": [
    "model.fit_generator(train_data, validation_data = validation_data, steps_per_epoch = step_size_train, epochs = 4, verbose = 1)"
   ]
  },
  {
   "cell_type": "markdown",
   "metadata": {},
   "source": [
    "#### Plotting Model Progress"
   ]
  },
  {
   "cell_type": "code",
   "execution_count": 33,
   "metadata": {},
   "outputs": [
    {
     "data": {
      "image/png": "[encoded data removed]",
      "text/plain": [
       "<Figure size 432x288 with 1 Axes>"
      ]
     },
     "metadata": {
      "needs_background": "light"
     },
     "output_type": "display_data"
    }
   ],
   "source": [
    "plt.figure()\n",
    "plt.plot(model.history.history['accuracy'], marker='o', label='training accuracy')\n",
    "plt.plot(model.history.history['val_accuracy'], marker='o', label='validation accuracy')\n",
    "plt.title('Training Accuracy and Validation Accuracy')\n",
    "plt.legend(loc='best')\n",
    "plt.xlabel('Epoch')\n",
    "plt.ylabel('Train Acc|Valid Acc')\n",
    "plt.show()"
   ]
  },
  {
   "cell_type": "markdown",
   "metadata": {},
   "source": [
    "This appears to be less effective for both training and validation accuracies.\n",
    "Returing to shuffle = True going forward."
   ]
  },
  {
   "cell_type": "markdown",
   "metadata": {},
   "source": [
    "## Perhaps that warning when importing MobileNetV2 is actually not all bark and no bite"
   ]
  },
  {
   "cell_type": "markdown",
   "metadata": {},
   "source": [
    "As the input images are 200x200, it's possible to import and use images that are larger than 80x80. A limiting factor will be found if my kernel crashes.\n",
    "\n",
    "Image shapes it prefers are \\[96, 128, 160, 192, 224\\] "
   ]
  },
  {
   "cell_type": "markdown",
   "metadata": {},
   "source": [
    "#### Training Data"
   ]
  },
  {
   "cell_type": "code",
   "execution_count": 38,
   "metadata": {},
   "outputs": [
    {
     "name": "stdout",
     "output_type": "stream",
     "text": [
      "Found 42630 images belonging to 29 classes.\n"
     ]
    },
    {
     "data": {
      "text/plain": [
       "<tensorflow.python.keras.preprocessing.image.DirectoryIterator at 0x2207a977430>"
      ]
     },
     "execution_count": 38,
     "metadata": {},
     "output_type": "execute_result"
    }
   ],
   "source": [
    "train_data = data_generator(image_size = [96,96],\n",
    "                            path = 'data/grassnoted split/asl_alphabet_train',\n",
    "                           )\n",
    "train_data\n"
   ]
  },
  {
   "cell_type": "markdown",
   "metadata": {},
   "source": [
    "#### Validation Data"
   ]
  },
  {
   "cell_type": "code",
   "execution_count": 39,
   "metadata": {},
   "outputs": [
    {
     "name": "stdout",
     "output_type": "stream",
     "text": [
      "Found 18270 images belonging to 29 classes.\n"
     ]
    },
    {
     "data": {
      "text/plain": [
       "<tensorflow.python.keras.preprocessing.image.DirectoryIterator at 0x2207a96f9d0>"
      ]
     },
     "execution_count": 39,
     "metadata": {},
     "output_type": "execute_result"
    }
   ],
   "source": [
    "validation_data = data_generator(image_size = [96,96], \n",
    "                                 path = 'data/grassnoted split/asl_alphabet_validation',\n",
    "                                )\n",
    "validation_data\n"
   ]
  },
  {
   "cell_type": "markdown",
   "metadata": {},
   "source": [
    "#### Test Data"
   ]
  },
  {
   "cell_type": "code",
   "execution_count": 40,
   "metadata": {},
   "outputs": [
    {
     "name": "stdout",
     "output_type": "stream",
     "text": [
      "Found 26100 images belonging to 29 classes.\n"
     ]
    },
    {
     "data": {
      "text/plain": [
       "<tensorflow.python.keras.preprocessing.image.DirectoryIterator at 0x2207a9776d0>"
      ]
     },
     "execution_count": 40,
     "metadata": {},
     "output_type": "execute_result"
    }
   ],
   "source": [
    "test_data = data_generator(image_size = [96,96],\n",
    "                           path = 'data/grassnoted split/asl_alphabet_test',\n",
    "                          )\n",
    "test_data\n"
   ]
  },
  {
   "cell_type": "markdown",
   "metadata": {},
   "source": [
    "#### Creating Model"
   ]
  },
  {
   "cell_type": "markdown",
   "metadata": {},
   "source": [
    "Importing MobileNetV2 for use in transfer learning."
   ]
  },
  {
   "cell_type": "code",
   "execution_count": 46,
   "metadata": {},
   "outputs": [],
   "source": [
    "experienced_model = MobileNetV2(weights='imagenet', include_top=False, input_shape = (96,96,3))\n",
    "#input shape minimum is 32x32\n",
    "#this warning is all bark and no bite"
   ]
  },
  {
   "cell_type": "markdown",
   "metadata": {},
   "source": [
    "Defining an untrained neural network to attach to the end of MobileNetV2 in order to make predictions in our current problem space."
   ]
  },
  {
   "cell_type": "code",
   "execution_count": 47,
   "metadata": {},
   "outputs": [],
   "source": [
    "# Assign the output of this base_model to a variable:\n",
    "base_model_out = experienced_model.output\n",
    "\n",
    "\n",
    "\n",
    "# Add a pooling layer:\n",
    "base_model_out = GlobalAveragePooling2D()(base_model_out)\n",
    "\n",
    "# using a softmax base_model_out activation function:\n",
    "preds = Dense(29, activation='softmax')(base_model_out)\n",
    "\n",
    "\n",
    "\n",
    "\n",
    "# Instantiate our final model, where we specify what are the inputs and \n",
    "# the outputs will look like\n",
    "model = Model(inputs = experienced_model.input, \n",
    "              outputs = preds)"
   ]
  },
  {
   "cell_type": "markdown",
   "metadata": {},
   "source": [
    "We can find the number of nodes in the topless MobileNetV2 by looking at the index of the pooling layer. These should be locked in order to preserve their weights."
   ]
  },
  {
   "cell_type": "code",
   "execution_count": 48,
   "metadata": {},
   "outputs": [
    {
     "name": "stdout",
     "output_type": "stream",
     "text": [
      "0 input_4\n",
      "1 Conv1\n",
      "2 bn_Conv1\n",
      "3 Conv1_relu\n",
      "4 expanded_conv_depthwise\n",
      "5 expanded_conv_depthwise_BN\n",
      "6 expanded_conv_depthwise_relu\n",
      "7 expanded_conv_project\n",
      "8 expanded_conv_project_BN\n",
      "9 block_1_expand\n",
      "10 block_1_expand_BN\n",
      "11 block_1_expand_relu\n",
      "12 block_1_pad\n",
      "13 block_1_depthwise\n",
      "14 block_1_depthwise_BN\n",
      "15 block_1_depthwise_relu\n",
      "16 block_1_project\n",
      "17 block_1_project_BN\n",
      "18 block_2_expand\n",
      "19 block_2_expand_BN\n",
      "20 block_2_expand_relu\n",
      "21 block_2_depthwise\n",
      "22 block_2_depthwise_BN\n",
      "23 block_2_depthwise_relu\n",
      "24 block_2_project\n",
      "25 block_2_project_BN\n",
      "26 block_2_add\n",
      "27 block_3_expand\n",
      "28 block_3_expand_BN\n",
      "29 block_3_expand_relu\n",
      "30 block_3_pad\n",
      "31 block_3_depthwise\n",
      "32 block_3_depthwise_BN\n",
      "33 block_3_depthwise_relu\n",
      "34 block_3_project\n",
      "35 block_3_project_BN\n",
      "36 block_4_expand\n",
      "37 block_4_expand_BN\n",
      "38 block_4_expand_relu\n",
      "39 block_4_depthwise\n",
      "40 block_4_depthwise_BN\n",
      "41 block_4_depthwise_relu\n",
      "42 block_4_project\n",
      "43 block_4_project_BN\n",
      "44 block_4_add\n",
      "45 block_5_expand\n",
      "46 block_5_expand_BN\n",
      "47 block_5_expand_relu\n",
      "48 block_5_depthwise\n",
      "49 block_5_depthwise_BN\n",
      "50 block_5_depthwise_relu\n",
      "51 block_5_project\n",
      "52 block_5_project_BN\n",
      "53 block_5_add\n",
      "54 block_6_expand\n",
      "55 block_6_expand_BN\n",
      "56 block_6_expand_relu\n",
      "57 block_6_pad\n",
      "58 block_6_depthwise\n",
      "59 block_6_depthwise_BN\n",
      "60 block_6_depthwise_relu\n",
      "61 block_6_project\n",
      "62 block_6_project_BN\n",
      "63 block_7_expand\n",
      "64 block_7_expand_BN\n",
      "65 block_7_expand_relu\n",
      "66 block_7_depthwise\n",
      "67 block_7_depthwise_BN\n",
      "68 block_7_depthwise_relu\n",
      "69 block_7_project\n",
      "70 block_7_project_BN\n",
      "71 block_7_add\n",
      "72 block_8_expand\n",
      "73 block_8_expand_BN\n",
      "74 block_8_expand_relu\n",
      "75 block_8_depthwise\n",
      "76 block_8_depthwise_BN\n",
      "77 block_8_depthwise_relu\n",
      "78 block_8_project\n",
      "79 block_8_project_BN\n",
      "80 block_8_add\n",
      "81 block_9_expand\n",
      "82 block_9_expand_BN\n",
      "83 block_9_expand_relu\n",
      "84 block_9_depthwise\n",
      "85 block_9_depthwise_BN\n",
      "86 block_9_depthwise_relu\n",
      "87 block_9_project\n",
      "88 block_9_project_BN\n",
      "89 block_9_add\n",
      "90 block_10_expand\n",
      "91 block_10_expand_BN\n",
      "92 block_10_expand_relu\n",
      "93 block_10_depthwise\n",
      "94 block_10_depthwise_BN\n",
      "95 block_10_depthwise_relu\n",
      "96 block_10_project\n",
      "97 block_10_project_BN\n",
      "98 block_11_expand\n",
      "99 block_11_expand_BN\n",
      "100 block_11_expand_relu\n",
      "101 block_11_depthwise\n",
      "102 block_11_depthwise_BN\n",
      "103 block_11_depthwise_relu\n",
      "104 block_11_project\n",
      "105 block_11_project_BN\n",
      "106 block_11_add\n",
      "107 block_12_expand\n",
      "108 block_12_expand_BN\n",
      "109 block_12_expand_relu\n",
      "110 block_12_depthwise\n",
      "111 block_12_depthwise_BN\n",
      "112 block_12_depthwise_relu\n",
      "113 block_12_project\n",
      "114 block_12_project_BN\n",
      "115 block_12_add\n",
      "116 block_13_expand\n",
      "117 block_13_expand_BN\n",
      "118 block_13_expand_relu\n",
      "119 block_13_pad\n",
      "120 block_13_depthwise\n",
      "121 block_13_depthwise_BN\n",
      "122 block_13_depthwise_relu\n",
      "123 block_13_project\n",
      "124 block_13_project_BN\n",
      "125 block_14_expand\n",
      "126 block_14_expand_BN\n",
      "127 block_14_expand_relu\n",
      "128 block_14_depthwise\n",
      "129 block_14_depthwise_BN\n",
      "130 block_14_depthwise_relu\n",
      "131 block_14_project\n",
      "132 block_14_project_BN\n",
      "133 block_14_add\n",
      "134 block_15_expand\n",
      "135 block_15_expand_BN\n",
      "136 block_15_expand_relu\n",
      "137 block_15_depthwise\n",
      "138 block_15_depthwise_BN\n",
      "139 block_15_depthwise_relu\n",
      "140 block_15_project\n",
      "141 block_15_project_BN\n",
      "142 block_15_add\n",
      "143 block_16_expand\n",
      "144 block_16_expand_BN\n",
      "145 block_16_expand_relu\n",
      "146 block_16_depthwise\n",
      "147 block_16_depthwise_BN\n",
      "148 block_16_depthwise_relu\n",
      "149 block_16_project\n",
      "150 block_16_project_BN\n",
      "151 Conv_1\n",
      "152 Conv_1_bn\n",
      "153 out_relu\n",
      "154 global_average_pooling2d_2\n",
      "155 dense_2\n"
     ]
    }
   ],
   "source": [
    "for i, layer in enumerate(model.layers):\n",
    "    print(i, layer.name)"
   ]
  },
  {
   "cell_type": "markdown",
   "metadata": {},
   "source": [
    "We can see that layer 154 is where our added layers begin. We will lock all layers above 154 and make them untrainable."
   ]
  },
  {
   "cell_type": "code",
   "execution_count": 49,
   "metadata": {},
   "outputs": [
    {
     "name": "stdout",
     "output_type": "stream",
     "text": [
      "global_average_pooling2d_2\n",
      "dense_2\n"
     ]
    }
   ],
   "source": [
    "for layer in model.layers[:154]:\n",
    "    layer.trainable=False\n",
    "    \n",
    "for layer in model.layers[154:]:\n",
    "    print(layer.name)\n",
    "    layer.trainable=True"
   ]
  },
  {
   "cell_type": "code",
   "execution_count": 50,
   "metadata": {},
   "outputs": [
    {
     "data": {
      "text/plain": [
       "80"
      ]
     },
     "execution_count": 50,
     "metadata": {},
     "output_type": "execute_result"
    }
   ],
   "source": [
    "train_data.batch_size"
   ]
  },
  {
   "cell_type": "code",
   "execution_count": 51,
   "metadata": {},
   "outputs": [
    {
     "data": {
      "text/plain": [
       "533"
      ]
     },
     "execution_count": 51,
     "metadata": {},
     "output_type": "execute_result"
    }
   ],
   "source": [
    "step_size_train = train_data.n//train_data.batch_size + 1\n",
    "\n",
    "# 'train_data.n' = 60,900 images\n",
    "# 'train_generator.batch_size' = 80 images per batch\n",
    "# 'step_size_train' = 762  (!needs to be int)\n",
    "step_size_train"
   ]
  },
  {
   "cell_type": "markdown",
   "metadata": {},
   "source": [
    "#### Compiling Model"
   ]
  },
  {
   "cell_type": "code",
   "execution_count": 52,
   "metadata": {},
   "outputs": [],
   "source": [
    "model.compile(loss = 'categorical_crossentropy', #loss function\n",
    "                  optimizer = 'Adam',\n",
    "                  metrics = ['accuracy']) #value to maximize"
   ]
  },
  {
   "cell_type": "markdown",
   "metadata": {},
   "source": [
    "#### Fitting Model"
   ]
  },
  {
   "cell_type": "code",
   "execution_count": 53,
   "metadata": {},
   "outputs": [
    {
     "name": "stderr",
     "output_type": "stream",
     "text": [
      "C:\\Users\\h\\.conda\\envs\\deeplearningcopy\\lib\\site-packages\\tensorflow\\python\\keras\\engine\\training.py:1844: UserWarning: `Model.fit_generator` is deprecated and will be removed in a future version. Please use `Model.fit`, which supports generators.\n",
      "  warnings.warn('`Model.fit_generator` is deprecated and '\n"
     ]
    },
    {
     "name": "stdout",
     "output_type": "stream",
     "text": [
      "Epoch 1/4\n",
      "533/533 [==============================] - 235s 436ms/step - loss: 2.0651 - accuracy: 0.4765 - val_loss: 2.4204 - val_accuracy: 0.3607\n",
      "Epoch 2/4\n",
      "533/533 [==============================] - 228s 429ms/step - loss: 0.7844 - accuracy: 0.8083 - val_loss: 2.3251 - val_accuracy: 0.4227\n",
      "Epoch 3/4\n",
      "533/533 [==============================] - 242s 454ms/step - loss: 0.5527 - accuracy: 0.8640 - val_loss: 2.3205 - val_accuracy: 0.4635\n",
      "Epoch 4/4\n",
      "533/533 [==============================] - 240s 450ms/step - loss: 0.4570 - accuracy: 0.8838 - val_loss: 2.3363 - val_accuracy: 0.4838\n"
     ]
    },
    {
     "data": {
      "text/plain": [
       "<tensorflow.python.keras.callbacks.History at 0x2207c0a39d0>"
      ]
     },
     "execution_count": 53,
     "metadata": {},
     "output_type": "execute_result"
    }
   ],
   "source": [
    "model.fit_generator(train_data, validation_data = validation_data, steps_per_epoch = step_size_train, epochs = 4, verbose = 1)"
   ]
  },
  {
   "cell_type": "markdown",
   "metadata": {},
   "source": [
    "#### Plotting Model Progress"
   ]
  },
  {
   "cell_type": "code",
   "execution_count": 18,
   "metadata": {},
   "outputs": [
    {
     "data": {
      "image/png": "[encoded data removed]",
      "text/plain": [
       "<Figure size 432x288 with 1 Axes>"
      ]
     },
     "metadata": {
      "needs_background": "light"
     },
     "output_type": "display_data"
    }
   ],
   "source": [
    "plt.figure()\n",
    "plt.plot(model.history.history['accuracy'], marker='o', label='training accuracy')\n",
    "plt.plot(model.history.history['val_accuracy'], marker='o', label='validation accuracy')\n",
    "plt.title('Training Accuracy and Validation Accuracy')\n",
    "plt.legend(loc='best')\n",
    "plt.xlabel('Epoch')\n",
    "plt.ylabel('Train Acc|Valid Acc')\n",
    "plt.show()"
   ]
  },
  {
   "cell_type": "markdown",
   "metadata": {},
   "source": [
    "This added around 40s to each epoch, and does not look much different than the baseline graph."
   ]
  },
  {
   "cell_type": "markdown",
   "metadata": {},
   "source": [
    "## Adding dense layers to the untrained side of the neural network\n",
    "I have no idea why I just noticed this, but the section of the neural network that is meant to be trainable has just one dense layer, the prediction output. Adding a few more dense layers in order to improve training with the given targets."
   ]
  },
  {
   "cell_type": "markdown",
   "metadata": {},
   "source": [
    "#### Training Data"
   ]
  },
  {
   "cell_type": "code",
   "execution_count": 5,
   "metadata": {},
   "outputs": [
    {
     "name": "stdout",
     "output_type": "stream",
     "text": [
      "Found 42630 images belonging to 29 classes.\n"
     ]
    },
    {
     "data": {
      "text/plain": [
       "<tensorflow.python.keras.preprocessing.image.DirectoryIterator at 0x1a759a359a0>"
      ]
     },
     "execution_count": 5,
     "metadata": {},
     "output_type": "execute_result"
    }
   ],
   "source": [
    "train_data = data_generator(image_size = [80,80],\n",
    "                            path = 'data/grassnoted split/asl_alphabet_train',\n",
    "                           )\n",
    "train_data\n"
   ]
  },
  {
   "cell_type": "markdown",
   "metadata": {},
   "source": [
    "#### Validation Data"
   ]
  },
  {
   "cell_type": "code",
   "execution_count": 6,
   "metadata": {},
   "outputs": [
    {
     "name": "stdout",
     "output_type": "stream",
     "text": [
      "Found 18270 images belonging to 29 classes.\n"
     ]
    },
    {
     "data": {
      "text/plain": [
       "<tensorflow.python.keras.preprocessing.image.DirectoryIterator at 0x1a74082ae80>"
      ]
     },
     "execution_count": 6,
     "metadata": {},
     "output_type": "execute_result"
    }
   ],
   "source": [
    "validation_data = data_generator(image_size = [80,80], \n",
    "                                 path = 'data/grassnoted split/asl_alphabet_validation',\n",
    "                                )\n",
    "validation_data\n"
   ]
  },
  {
   "cell_type": "markdown",
   "metadata": {},
   "source": [
    "#### Test Data"
   ]
  },
  {
   "cell_type": "code",
   "execution_count": 7,
   "metadata": {},
   "outputs": [
    {
     "name": "stdout",
     "output_type": "stream",
     "text": [
      "Found 26100 images belonging to 29 classes.\n"
     ]
    },
    {
     "data": {
      "text/plain": [
       "<tensorflow.python.keras.preprocessing.image.DirectoryIterator at 0x1a74082aa00>"
      ]
     },
     "execution_count": 7,
     "metadata": {},
     "output_type": "execute_result"
    }
   ],
   "source": [
    "test_data = data_generator(image_size = [80,80],\n",
    "                           path = 'data/grassnoted split/asl_alphabet_test',\n",
    "                          )\n",
    "test_data\n"
   ]
  },
  {
   "cell_type": "markdown",
   "metadata": {},
   "source": [
    "#### Creating Model"
   ]
  },
  {
   "cell_type": "code",
   "execution_count": 28,
   "metadata": {},
   "outputs": [],
   "source": [
    "from tensorflow.keras.applications import MobileNetV2\n",
    "from tensorflow.keras.applications.mobilenet_v2 import preprocess_input\n",
    "from tensorflow.keras.layers import Dense,GlobalAveragePooling2D\n",
    "from tensorflow.keras.models import Model\n",
    "from tensorflow.keras.optimizers import Adam"
   ]
  },
  {
   "cell_type": "markdown",
   "metadata": {},
   "source": [
    "Importing MobileNetV2 for use in transfer learning."
   ]
  },
  {
   "cell_type": "code",
   "execution_count": 9,
   "metadata": {
    "scrolled": true
   },
   "outputs": [
    {
     "name": "stdout",
     "output_type": "stream",
     "text": [
      "WARNING:tensorflow:`input_shape` is undefined or non-square, or `rows` is not in [96, 128, 160, 192, 224]. Weights for input shape (224, 224) will be loaded as the default.\n"
     ]
    }
   ],
   "source": [
    "experienced_model = MobileNetV2(weights='imagenet', include_top=False, input_shape = (80,80,3))\n",
    "#input shape minimum is 32x32\n",
    "#this warning is all bark and no bite"
   ]
  },
  {
   "cell_type": "markdown",
   "metadata": {},
   "source": [
    "Defining an untrained neural network to attach to the end of MobileNetV2 in order to make predictions in our current problem space."
   ]
  },
  {
   "cell_type": "code",
   "execution_count": 10,
   "metadata": {},
   "outputs": [],
   "source": [
    "# Assign the output of this base_model to a variable:\n",
    "base_model_out = experienced_model.output\n",
    "\n",
    "\n",
    "\n",
    "# Add a pooling layer:\n",
    "base_model_out = GlobalAveragePooling2D()(base_model_out)\n",
    "\n",
    "# Add 3 dense layers so that the model can learn aspects of our new dataset \n",
    "# and classify for better results.\n",
    "base_model_out = Dense(243, activation='relu')(base_model_out) \n",
    "base_model_out = Dense(243, activation='relu')(base_model_out)\n",
    "base_model_out = Dense(81, activation='relu')(base_model_out)\n",
    "\n",
    "# using a softmax base_model_out activation function:\n",
    "preds = Dense(29, activation='softmax')(base_model_out)\n",
    "\n",
    "\n",
    "\n",
    "\n",
    "# Instantiate our final model, where we specify what are the inputs and \n",
    "# the outputs will look like\n",
    "model = Model(inputs = experienced_model.input, \n",
    "              outputs = preds)"
   ]
  },
  {
   "cell_type": "markdown",
   "metadata": {},
   "source": [
    "We can find the number of nodes in the topless MobileNetV2 by looking at the index of the pooling layer. These should be locked in order to preserve their weights."
   ]
  },
  {
   "cell_type": "code",
   "execution_count": 11,
   "metadata": {},
   "outputs": [
    {
     "name": "stdout",
     "output_type": "stream",
     "text": [
      "0 input_1\n",
      "1 Conv1\n",
      "2 bn_Conv1\n",
      "3 Conv1_relu\n",
      "4 expanded_conv_depthwise\n",
      "5 expanded_conv_depthwise_BN\n",
      "6 expanded_conv_depthwise_relu\n",
      "7 expanded_conv_project\n",
      "8 expanded_conv_project_BN\n",
      "9 block_1_expand\n",
      "10 block_1_expand_BN\n",
      "11 block_1_expand_relu\n",
      "12 block_1_pad\n",
      "13 block_1_depthwise\n",
      "14 block_1_depthwise_BN\n",
      "15 block_1_depthwise_relu\n",
      "16 block_1_project\n",
      "17 block_1_project_BN\n",
      "18 block_2_expand\n",
      "19 block_2_expand_BN\n",
      "20 block_2_expand_relu\n",
      "21 block_2_depthwise\n",
      "22 block_2_depthwise_BN\n",
      "23 block_2_depthwise_relu\n",
      "24 block_2_project\n",
      "25 block_2_project_BN\n",
      "26 block_2_add\n",
      "27 block_3_expand\n",
      "28 block_3_expand_BN\n",
      "29 block_3_expand_relu\n",
      "30 block_3_pad\n",
      "31 block_3_depthwise\n",
      "32 block_3_depthwise_BN\n",
      "33 block_3_depthwise_relu\n",
      "34 block_3_project\n",
      "35 block_3_project_BN\n",
      "36 block_4_expand\n",
      "37 block_4_expand_BN\n",
      "38 block_4_expand_relu\n",
      "39 block_4_depthwise\n",
      "40 block_4_depthwise_BN\n",
      "41 block_4_depthwise_relu\n",
      "42 block_4_project\n",
      "43 block_4_project_BN\n",
      "44 block_4_add\n",
      "45 block_5_expand\n",
      "46 block_5_expand_BN\n",
      "47 block_5_expand_relu\n",
      "48 block_5_depthwise\n",
      "49 block_5_depthwise_BN\n",
      "50 block_5_depthwise_relu\n",
      "51 block_5_project\n",
      "52 block_5_project_BN\n",
      "53 block_5_add\n",
      "54 block_6_expand\n",
      "55 block_6_expand_BN\n",
      "56 block_6_expand_relu\n",
      "57 block_6_pad\n",
      "58 block_6_depthwise\n",
      "59 block_6_depthwise_BN\n",
      "60 block_6_depthwise_relu\n",
      "61 block_6_project\n",
      "62 block_6_project_BN\n",
      "63 block_7_expand\n",
      "64 block_7_expand_BN\n",
      "65 block_7_expand_relu\n",
      "66 block_7_depthwise\n",
      "67 block_7_depthwise_BN\n",
      "68 block_7_depthwise_relu\n",
      "69 block_7_project\n",
      "70 block_7_project_BN\n",
      "71 block_7_add\n",
      "72 block_8_expand\n",
      "73 block_8_expand_BN\n",
      "74 block_8_expand_relu\n",
      "75 block_8_depthwise\n",
      "76 block_8_depthwise_BN\n",
      "77 block_8_depthwise_relu\n",
      "78 block_8_project\n",
      "79 block_8_project_BN\n",
      "80 block_8_add\n",
      "81 block_9_expand\n",
      "82 block_9_expand_BN\n",
      "83 block_9_expand_relu\n",
      "84 block_9_depthwise\n",
      "85 block_9_depthwise_BN\n",
      "86 block_9_depthwise_relu\n",
      "87 block_9_project\n",
      "88 block_9_project_BN\n",
      "89 block_9_add\n",
      "90 block_10_expand\n",
      "91 block_10_expand_BN\n",
      "92 block_10_expand_relu\n",
      "93 block_10_depthwise\n",
      "94 block_10_depthwise_BN\n",
      "95 block_10_depthwise_relu\n",
      "96 block_10_project\n",
      "97 block_10_project_BN\n",
      "98 block_11_expand\n",
      "99 block_11_expand_BN\n",
      "100 block_11_expand_relu\n",
      "101 block_11_depthwise\n",
      "102 block_11_depthwise_BN\n",
      "103 block_11_depthwise_relu\n",
      "104 block_11_project\n",
      "105 block_11_project_BN\n",
      "106 block_11_add\n",
      "107 block_12_expand\n",
      "108 block_12_expand_BN\n",
      "109 block_12_expand_relu\n",
      "110 block_12_depthwise\n",
      "111 block_12_depthwise_BN\n",
      "112 block_12_depthwise_relu\n",
      "113 block_12_project\n",
      "114 block_12_project_BN\n",
      "115 block_12_add\n",
      "116 block_13_expand\n",
      "117 block_13_expand_BN\n",
      "118 block_13_expand_relu\n",
      "119 block_13_pad\n",
      "120 block_13_depthwise\n",
      "121 block_13_depthwise_BN\n",
      "122 block_13_depthwise_relu\n",
      "123 block_13_project\n",
      "124 block_13_project_BN\n",
      "125 block_14_expand\n",
      "126 block_14_expand_BN\n",
      "127 block_14_expand_relu\n",
      "128 block_14_depthwise\n",
      "129 block_14_depthwise_BN\n",
      "130 block_14_depthwise_relu\n",
      "131 block_14_project\n",
      "132 block_14_project_BN\n",
      "133 block_14_add\n",
      "134 block_15_expand\n",
      "135 block_15_expand_BN\n",
      "136 block_15_expand_relu\n",
      "137 block_15_depthwise\n",
      "138 block_15_depthwise_BN\n",
      "139 block_15_depthwise_relu\n",
      "140 block_15_project\n",
      "141 block_15_project_BN\n",
      "142 block_15_add\n",
      "143 block_16_expand\n",
      "144 block_16_expand_BN\n",
      "145 block_16_expand_relu\n",
      "146 block_16_depthwise\n",
      "147 block_16_depthwise_BN\n",
      "148 block_16_depthwise_relu\n",
      "149 block_16_project\n",
      "150 block_16_project_BN\n",
      "151 Conv_1\n",
      "152 Conv_1_bn\n",
      "153 out_relu\n",
      "154 global_average_pooling2d\n",
      "155 dense\n",
      "156 dense_1\n",
      "157 dense_2\n",
      "158 dense_3\n"
     ]
    }
   ],
   "source": [
    "for i, layer in enumerate(model.layers):\n",
    "    print(i, layer.name)"
   ]
  },
  {
   "cell_type": "markdown",
   "metadata": {},
   "source": [
    "We can see that layer 154 is where our added layers begin. We will lock all layers above 154 and make them untrainable."
   ]
  },
  {
   "cell_type": "code",
   "execution_count": 12,
   "metadata": {},
   "outputs": [
    {
     "name": "stdout",
     "output_type": "stream",
     "text": [
      "global_average_pooling2d\n",
      "dense\n",
      "dense_1\n",
      "dense_2\n",
      "dense_3\n"
     ]
    }
   ],
   "source": [
    "for layer in model.layers[:154]:\n",
    "    layer.trainable=False\n",
    "    \n",
    "for layer in model.layers[154:]:\n",
    "    print(layer.name)\n",
    "    layer.trainable=True"
   ]
  },
  {
   "cell_type": "markdown",
   "metadata": {},
   "source": [
    "#### Compiling Model"
   ]
  },
  {
   "cell_type": "code",
   "execution_count": 15,
   "metadata": {},
   "outputs": [],
   "source": [
    "model.compile(loss = 'categorical_crossentropy', #loss function\n",
    "                  optimizer = 'Adam',\n",
    "                  metrics = ['accuracy']) #value to maximize"
   ]
  },
  {
   "cell_type": "markdown",
   "metadata": {},
   "source": [
    "#### Fitting Model"
   ]
  },
  {
   "cell_type": "code",
   "execution_count": 13,
   "metadata": {
    "scrolled": true
   },
   "outputs": [
    {
     "data": {
      "text/plain": [
       "80"
      ]
     },
     "execution_count": 13,
     "metadata": {},
     "output_type": "execute_result"
    }
   ],
   "source": [
    "train_data.batch_size"
   ]
  },
  {
   "cell_type": "code",
   "execution_count": 14,
   "metadata": {},
   "outputs": [
    {
     "data": {
      "text/plain": [
       "533"
      ]
     },
     "execution_count": 14,
     "metadata": {},
     "output_type": "execute_result"
    }
   ],
   "source": [
    "step_size_train = train_data.n//train_data.batch_size + 1\n",
    "\n",
    "# 'train_data.n' = 60,900 images\n",
    "# 'train_generator.batch_size' = 80 images per batch\n",
    "# 'step_size_train' = 762  (!needs to be int)\n",
    "step_size_train"
   ]
  },
  {
   "cell_type": "code",
   "execution_count": 16,
   "metadata": {},
   "outputs": [
    {
     "name": "stderr",
     "output_type": "stream",
     "text": [
      "C:\\Users\\h\\.conda\\envs\\deeplearningcopy\\lib\\site-packages\\tensorflow\\python\\keras\\engine\\training.py:1844: UserWarning: `Model.fit_generator` is deprecated and will be removed in a future version. Please use `Model.fit`, which supports generators.\n",
      "  warnings.warn('`Model.fit_generator` is deprecated and '\n"
     ]
    },
    {
     "name": "stdout",
     "output_type": "stream",
     "text": [
      "Epoch 1/4\n",
      "533/533 [==============================] - 182s 335ms/step - loss: 1.9353 - accuracy: 0.4259 - val_loss: 2.3210 - val_accuracy: 0.3550\n",
      "Epoch 2/4\n",
      "533/533 [==============================] - 180s 337ms/step - loss: 0.6844 - accuracy: 0.7691 - val_loss: 2.4066 - val_accuracy: 0.3996\n",
      "Epoch 3/4\n",
      "533/533 [==============================] - 180s 338ms/step - loss: 0.5024 - accuracy: 0.8279 - val_loss: 2.4265 - val_accuracy: 0.4195\n",
      "Epoch 4/4\n",
      "533/533 [==============================] - 182s 341ms/step - loss: 0.4268 - accuracy: 0.8519 - val_loss: 2.5719 - val_accuracy: 0.4237\n"
     ]
    },
    {
     "data": {
      "text/plain": [
       "<tensorflow.python.keras.callbacks.History at 0x1a7632c4f40>"
      ]
     },
     "execution_count": 16,
     "metadata": {},
     "output_type": "execute_result"
    }
   ],
   "source": [
    "model.fit_generator(train_data, validation_data = validation_data, steps_per_epoch = step_size_train, epochs = 4, verbose = 1)"
   ]
  },
  {
   "cell_type": "markdown",
   "metadata": {},
   "source": [
    "#### Plotting Model Progress"
   ]
  },
  {
   "cell_type": "code",
   "execution_count": 18,
   "metadata": {},
   "outputs": [
    {
     "data": {
      "image/png": "[encoded data removed]",
      "text/plain": [
       "<Figure size 432x288 with 1 Axes>"
      ]
     },
     "metadata": {
      "needs_background": "light"
     },
     "output_type": "display_data"
    }
   ],
   "source": [
    "plt.figure()\n",
    "plt.plot(model.history.history['accuracy'], marker='o', label='training accuracy')\n",
    "plt.plot(model.history.history['val_accuracy'], marker='o', label='validation accuracy')\n",
    "plt.title('Training Accuracy and Validation Accuracy')\n",
    "plt.legend(loc='best')\n",
    "plt.xlabel('Epoch')\n",
    "plt.ylabel('Train Acc|Valid Acc')\n",
    "plt.show()"
   ]
  },
  {
   "cell_type": "markdown",
   "metadata": {},
   "source": [
    "This model has similar results to the baseline. It seems like adding those dense layers should do something, so I may keep them going forward."
   ]
  },
  {
   "cell_type": "markdown",
   "metadata": {},
   "source": [
    "## Optimizing hyperparameters via grid search"
   ]
  },
  {
   "cell_type": "markdown",
   "metadata": {},
   "source": [
    "### Defining grid search components"
   ]
  },
  {
   "cell_type": "markdown",
   "metadata": {},
   "source": [
    "Homemade grid search, as the sklearn wrapper does not work with our current data input/output.\n",
    "\n",
    "This generator works with square images only."
   ]
  },
  {
   "cell_type": "code",
   "execution_count": 29,
   "metadata": {},
   "outputs": [],
   "source": [
    "from tensorflow.keras.applications import MobileNetV2\n",
    "from tensorflow.keras.applications.mobilenet_v2 import preprocess_input\n",
    "from tensorflow.keras.layers import Dense,GlobalAveragePooling2D\n",
    "from tensorflow.keras.models import Model\n",
    "from tensorflow.keras import optimizers\n",
    "\n",
    "from tensorflow.keras.preprocessing.image import ImageDataGenerator\n",
    "from sklearn.preprocessing import LabelEncoder\n",
    "from sklearn.metrics import confusion_matrix\n",
    "\n",
    "import numpy\n",
    "import pandas as pd"
   ]
  },
  {
   "cell_type": "code",
   "execution_count": 30,
   "metadata": {},
   "outputs": [],
   "source": [
    "def data_generator(image_size, path, preprocess_func=None, split_off_for_val=0.0,\n",
    "                   split_segment = None, shuf = True, bat_size = 80):\n",
    "    \n",
    "    this_datagen = ImageDataGenerator(preprocessing_function = preprocess_func, validation_split = split_off_for_val)\n",
    "    #  note: ImageDataGenerator does not appear to have a parameter for random seeds. Be wary of train/val overlap\n",
    "    #  note: train/val/test split does not currently work\n",
    "    this_generator = this_datagen.flow_from_directory(path, \n",
    "                                                     target_size=image_size,\n",
    "                                                     subset = split_segment, #  None|'training'|'validation'\n",
    "                                                     color_mode='rgb',\n",
    "                                                     batch_size= bat_size,\n",
    "                                                     class_mode='categorical',\n",
    "                                                     shuffle=shuf)\n",
    "    \n",
    "    return this_generator"
   ]
  },
  {
   "cell_type": "code",
   "execution_count": 31,
   "metadata": {},
   "outputs": [],
   "source": [
    "def data_importer(im_side_len = 80, batch_size = 80):\n",
    "    \n",
    "    train_data = data_generator(image_size = [im_side_len, im_side_len],\n",
    "                                path = 'data/grassnoted split/asl_alphabet_train',\n",
    "                                bat_size = batch_size\n",
    "                               )\n",
    "    validation_data = data_generator(image_size = [im_side_len, im_side_len],\n",
    "                                     path = 'data/grassnoted split/asl_alphabet_validation',\n",
    "                                     bat_size = batch_size\n",
    "                                    )\n",
    "    test_data = data_generator(image_size = [im_side_len, im_side_len],\n",
    "                               path = 'data/grassnoted split/asl_alphabet_test',\n",
    "                               bat_size = batch_size\n",
    "                              )\n",
    "    \n",
    "    return train_data, validation_data, test_data\n",
    "\n"
   ]
  },
  {
   "cell_type": "code",
   "execution_count": 32,
   "metadata": {},
   "outputs": [],
   "source": [
    "def model_maker(im_side_len = 80):\n",
    "    \n",
    "    #assembling baseline model with three added dense layers (see above)\n",
    "    # note: these layers are given different names by the system (i.e. the first is dense_4)\n",
    "    #       but this does not seem to cause structural difference between models\n",
    "    \n",
    "    #transfer learning from experienced model\n",
    "    experienced_model = MobileNetV2(weights='imagenet', include_top=False, input_shape = (im_side_len,im_side_len,3))\n",
    "    \n",
    "    # Assign the output of this base_model to a variable:\n",
    "    base_model_out = experienced_model.output\n",
    "\n",
    "    # Add a pooling layer:\n",
    "    base_model_out = GlobalAveragePooling2D()(base_model_out)\n",
    "\n",
    "    # Add 3 dense layers so that the model can learn aspects of our new dataset \n",
    "    # and classify for better results.\n",
    "    base_model_out = Dense(243, activation='relu')(base_model_out) \n",
    "    base_model_out = Dense(243, activation='relu')(base_model_out)\n",
    "    base_model_out = Dense(81, activation='relu')(base_model_out)\n",
    "\n",
    "    # using a softmax base_model_out activation function:\n",
    "    preds = Dense(29, activation='softmax')(base_model_out)\n",
    "\n",
    "\n",
    "    # Instantiate our final model, where we specify what are the inputs and \n",
    "    # the outputs will look like\n",
    "    model = Model(inputs = experienced_model.input, \n",
    "                  outputs = preds)\n",
    "\n",
    "    \n",
    "    #The layers from MobileNetV2 will not be trained\n",
    "    for layer in model.layers[:154]:\n",
    "        layer.trainable=False\n",
    "\n",
    "    for layer in model.layers[154:]:\n",
    "        print(layer.name)\n",
    "        layer.trainable=True\n",
    "        \n",
    "    return model"
   ]
  },
  {
   "cell_type": "code",
   "execution_count": 33,
   "metadata": {},
   "outputs": [],
   "source": [
    "def model_compiler(model, loss_func = 'categorical_crossentropy', optim_choice = 'Adam', value_to_max = ['accuracy']):\n",
    "    \n",
    "    model.compile(loss = loss_func, #loss function\n",
    "                  optimizer = optim_choice,\n",
    "                  metrics = value_to_max) #value to maximize\n",
    "    compiled_model = model\n",
    "    return compiled_model"
   ]
  },
  {
   "cell_type": "code",
   "execution_count": 66,
   "metadata": {},
   "outputs": [],
   "source": [
    "def model_fitter(compiled_model, train_data, validation_data, epochs = 1):  \n",
    "    \n",
    "    #step size based on batch size\n",
    "    step_size_train = train_data.n//train_data.batch_size + 1\n",
    "    \n",
    "    print(step_size_train)\n",
    "    \n",
    "    model = compiled_model\n",
    "    \n",
    "    model.fit_generator(generator = train_data,\n",
    "                        validation_data = validation_data,\n",
    "                        steps_per_epoch = step_size_train,\n",
    "                        epochs = 1,\n",
    "                        verbose = 1)\n",
    "    \n",
    "    training_accuracy = model.history.history['categorical_accuracy']\n",
    "    validation_accuracy = model.history.history['val_categorical_accuracy']\n",
    "    \n",
    "    return training_accuracy, validation_accuracy"
   ]
  },
  {
   "cell_type": "markdown",
   "metadata": {},
   "source": [
    "### test 0"
   ]
  },
  {
   "cell_type": "code",
   "execution_count": 35,
   "metadata": {},
   "outputs": [
    {
     "name": "stdout",
     "output_type": "stream",
     "text": [
      "Found 42630 images belonging to 29 classes.\n",
      "Found 18270 images belonging to 29 classes.\n",
      "Found 26100 images belonging to 29 classes.\n",
      "global_average_pooling2d_6\n",
      "dense_24\n",
      "dense_25\n",
      "dense_26\n",
      "dense_27\n",
      "533 <class 'int'>\n",
      "533/533 [==============================] - 224s 415ms/step - loss: 1.7290 - accuracy: 0.4818 - val_loss: 2.3643 - val_accuracy: 0.4377\n"
     ]
    },
    {
     "data": {
      "text/plain": [
       "([0.6625146865844727], [0.4377121031284332])"
      ]
     },
     "execution_count": 35,
     "metadata": {},
     "output_type": "execute_result"
    }
   ],
   "source": [
    "train_data, validation_data, test_data = data_importer(im_side_len = 96)\n",
    "model_a = model_maker(im_side_len = 96)\n",
    "compiled_model_a = model_compiler(model = model_a)\n",
    "model_fitter(compiled_model = compiled_model_a, train_data = train_data, validation_data = validation_data)"
   ]
  },
  {
   "cell_type": "code",
   "execution_count": 36,
   "metadata": {},
   "outputs": [
    {
     "data": {
      "text/html": [
       "<div>\n",
       "<style scoped>\n",
       "    .dataframe tbody tr th:only-of-type {\n",
       "        vertical-align: middle;\n",
       "    }\n",
       "\n",
       "    .dataframe tbody tr th {\n",
       "        vertical-align: top;\n",
       "    }\n",
       "\n",
       "    .dataframe thead th {\n",
       "        text-align: right;\n",
       "    }\n",
       "</style>\n",
       "<table border=\"1\" class=\"dataframe\">\n",
       "  <thead>\n",
       "    <tr style=\"text-align: right;\">\n",
       "      <th></th>\n",
       "      <th>a</th>\n",
       "      <th>b</th>\n",
       "      <th>c</th>\n",
       "    </tr>\n",
       "  </thead>\n",
       "  <tbody>\n",
       "    <tr>\n",
       "      <th>0</th>\n",
       "      <td>0</td>\n",
       "      <td>0</td>\n",
       "      <td>{}</td>\n",
       "    </tr>\n",
       "    <tr>\n",
       "      <th>1</th>\n",
       "      <td>1</td>\n",
       "      <td>1</td>\n",
       "      <td>{'param1': 1}</td>\n",
       "    </tr>\n",
       "  </tbody>\n",
       "</table>\n",
       "</div>"
      ],
      "text/plain": [
       "   a  b              c\n",
       "0  0  0             {}\n",
       "1  1  1  {'param1': 1}"
      ]
     },
     "execution_count": 36,
     "metadata": {},
     "output_type": "execute_result"
    }
   ],
   "source": [
    "a = [[0,0,{}]]\n",
    "a.append([1,1,{'param1' : 1}])\n",
    "a = np.array(a)\n",
    "pd.DataFrame(a, columns = ['a', 'b','c'])"
   ]
  },
  {
   "cell_type": "markdown",
   "metadata": {},
   "source": [
    "### Defining the grid search"
   ]
  },
  {
   "cell_type": "code",
   "execution_count": 69,
   "metadata": {},
   "outputs": [],
   "source": [
    "#input parameters to search through as lists\n",
    "def grid_search(batch_sizes, image_sizes, loss_funcs, optims, values_to_max, epochs):\n",
    "    a = []\n",
    "    for i in batch_sizes:\n",
    "        for j in image_sizes:\n",
    "            train_data, validation_data, test_data = data_importer(batch_size = i, im_side_len = j)\n",
    "            model = model_maker(im_side_len = j)\n",
    "            for k in loss_funcs:\n",
    "                print(k)\n",
    "                for l in optims:\n",
    "                    print(l)\n",
    "                    for m in values_to_max:\n",
    "                        print(m)\n",
    "                        compiled_model = model_compiler(loss_func = k, optim_choice = l, value_to_max = m, model = model)\n",
    "                        for n in epochs:\n",
    "                            print(n)\n",
    "                            train_acc, valid_acc = model_fitter(epochs = n,compiled_model = compiled_model, train_data = train_data, validation_data = validation_data)\n",
    "                            \n",
    "                            param_str = f'batch size : {i}\\n image size {j} \\n loss function {k} \\n optimizer {l} \\n value to maximize {m} \\n epochs {n}'\n",
    "\n",
    "                            a.append([train_acc[0], valid_acc[0], param_str])\n",
    "    return a\n",
    "            "
   ]
  },
  {
   "cell_type": "code",
   "execution_count": 14,
   "metadata": {},
   "outputs": [
    {
     "name": "stdout",
     "output_type": "stream",
     "text": [
      "Found 42630 images belonging to 29 classes.\n",
      "Found 18270 images belonging to 29 classes.\n",
      "Found 26100 images belonging to 29 classes.\n",
      "WARNING:tensorflow:`input_shape` is undefined or non-square, or `rows` is not in [96, 128, 160, 192, 224]. Weights for input shape (224, 224) will be loaded as the default.\n",
      "global_average_pooling2d_2\n",
      "dense_8\n",
      "dense_9\n",
      "dense_10\n",
      "dense_11\n",
      "categorical_crossentropy\n",
      "Adam\n",
      "accuracy\n",
      "1\n",
      "1066 <class 'int'>\n"
     ]
    },
    {
     "name": "stderr",
     "output_type": "stream",
     "text": [
      "C:\\Users\\h\\.conda\\envs\\deeplearningcopy\\lib\\site-packages\\tensorflow\\python\\keras\\engine\\training.py:1844: UserWarning: `Model.fit_generator` is deprecated and will be removed in a future version. Please use `Model.fit`, which supports generators.\n",
      "  warnings.warn('`Model.fit_generator` is deprecated and '\n"
     ]
    },
    {
     "name": "stdout",
     "output_type": "stream",
     "text": [
      "1066/1066 [==============================] - 155s 141ms/step - loss: 1.9241 - accuracy: 0.4129 - val_loss: 2.6722 - val_accuracy: 0.2836\n",
      "Found 42630 images belonging to 29 classes.\n",
      "Found 18270 images belonging to 29 classes.\n",
      "Found 26100 images belonging to 29 classes.\n",
      "WARNING:tensorflow:`input_shape` is undefined or non-square, or `rows` is not in [96, 128, 160, 192, 224]. Weights for input shape (224, 224) will be loaded as the default.\n",
      "global_average_pooling2d_3\n",
      "dense_12\n",
      "dense_13\n",
      "dense_14\n",
      "dense_15\n",
      "categorical_crossentropy\n",
      "Adam\n",
      "accuracy\n",
      "1\n",
      "1066 <class 'int'>\n",
      "1066/1066 [==============================] - 154s 139ms/step - loss: 1.6717 - accuracy: 0.4832 - val_loss: 2.6939 - val_accuracy: 0.3037\n"
     ]
    }
   ],
   "source": [
    "test_1 = grid_search(batch_sizes = [40], \n",
    "                        image_sizes = [40, 60], \n",
    "                        loss_funcs = ['categorical_crossentropy'], \n",
    "                        optims = ['Adam'], \n",
    "                        values_to_max = ['accuracy'], \n",
    "                        epochs = [1])"
   ]
  },
  {
   "cell_type": "code",
   "execution_count": 20,
   "metadata": {},
   "outputs": [],
   "source": [
    "test_1_df = pd.DataFrame(test_1, columns = ['train_acc', 'valid_acc', 'param_str'])\n"
   ]
  },
  {
   "cell_type": "code",
   "execution_count": 21,
   "metadata": {},
   "outputs": [
    {
     "name": "stdout",
     "output_type": "stream",
     "text": [
      "batch size : 40\n",
      " image size 40 \n",
      " loss function categorical_crossentropy \n",
      " optimizer Adam \n",
      " value to maximize accuracy \n",
      " epochs 1\n"
     ]
    }
   ],
   "source": [
    "print(test_1_df.iloc[0,2])"
   ]
  },
  {
   "cell_type": "markdown",
   "metadata": {},
   "source": [
    "### test 2"
   ]
  },
  {
   "cell_type": "markdown",
   "metadata": {},
   "source": [
    "Performing a larger grid search with 3 epochs and, due to time constraints, one small batch size, one small image size, and hyperparameters chosen from research rather than every available combination of options."
   ]
  },
  {
   "cell_type": "markdown",
   "metadata": {},
   "source": [
    "**Optimizer**\n",
    "\n",
    "**Loss function** is tied in with the choice of activation function. For this multi-class-classification problem, softmax is being used as a final activation function. According to [this blog post](https://machinelearningmastery.com/loss-and-loss-functions-for-training-deep-learning-neural-networks/), this should be paired with a categorical-crossentropy function. As the classification task does not use a sparse matrix, sparse_categorical_crossentropy will not be used as a loss function.\n",
    "\n",
    "**Optimization Metric** lets the network know how well it's doing. Having multiple options here results in multiple different metrics being returned, which makes comparison difficult. In this particular task, classification with classes in the tens, the metric of choice will be categorical_accuracy. Find out more [in this post post](https://neptune.ai/blog/keras-metrics)."
   ]
  },
  {
   "cell_type": "code",
   "execution_count": 53,
   "metadata": {
    "scrolled": true
   },
   "outputs": [
    {
     "name": "stdout",
     "output_type": "stream",
     "text": [
      "Found 42630 images belonging to 29 classes.\n",
      "Found 18270 images belonging to 29 classes.\n",
      "Found 26100 images belonging to 29 classes.\n",
      "global_average_pooling2d_13\n",
      "dense_49\n",
      "dense_50\n",
      "dense_51\n",
      "dense_52\n",
      "categorical_crossentropy\n",
      "SGD\n",
      "categorical_accuracy\n",
      "4\n",
      "711\n",
      "711/711 [==============================] - 239s 331ms/step - loss: 2.7400 - categorical_accuracy: 0.2397 - val_loss: 2.8192 - val_categorical_accuracy: 0.2209\n",
      "RMSprop\n",
      "categorical_accuracy\n",
      "4\n",
      "711\n",
      "711/711 [==============================] - 249s 345ms/step - loss: 1.4407 - categorical_accuracy: 0.5536 - val_loss: 2.7043 - val_categorical_accuracy: 0.4172\n",
      "Adadelta\n",
      "categorical_accuracy\n",
      "4\n",
      "711\n",
      "711/711 [==============================] - 252s 350ms/step - loss: 0.4868 - categorical_accuracy: 0.8331 - val_loss: 2.5105 - val_categorical_accuracy: 0.4566\n",
      "Adam\n",
      "categorical_accuracy\n",
      "4\n",
      "711\n",
      "711/711 [==============================] - 265s 365ms/step - loss: 0.4231 - categorical_accuracy: 0.8509 - val_loss: 2.6641 - val_categorical_accuracy: 0.4701\n",
      "Adagrad\n",
      "categorical_accuracy\n",
      "4\n",
      "711\n",
      "711/711 [==============================] - 272s 378ms/step - loss: 0.1892 - categorical_accuracy: 0.9372 - val_loss: 2.7058 - val_categorical_accuracy: 0.5265\n",
      "Adamax\n",
      "categorical_accuracy\n",
      "4\n",
      "711\n",
      "711/711 [==============================] - 274s 380ms/step - loss: 0.1925 - categorical_accuracy: 0.9318 - val_loss: 2.9424 - val_categorical_accuracy: 0.5349\n",
      "Nadam\n",
      "categorical_accuracy\n",
      "4\n",
      "711\n",
      "711/711 [==============================] - 280s 387ms/step - loss: 0.2334 - categorical_accuracy: 0.9165 - val_loss: 3.1360 - val_categorical_accuracy: 0.5096\n",
      "Ftrl\n",
      "categorical_accuracy\n",
      "4\n",
      "711\n",
      "711/711 [==============================] - 276s 382ms/step - loss: 3.3352 - categorical_accuracy: 0.0418 - val_loss: 3.3673 - val_categorical_accuracy: 0.0345\n"
     ]
    }
   ],
   "source": [
    "test_2 = grid_search(batch_sizes = [60], \n",
    "                        image_sizes = [96], #  original train images are 200x200 but kernel may crash\n",
    "                        loss_funcs = ['categorical_crossentropy'], \n",
    "                        optims = ['SGD', 'RMSprop', 'Adadelta', 'Adam', 'Adagrad', 'Adamax', 'Nadam', 'Ftrl'], \n",
    "                        values_to_max = ['categorical_accuracy'], \n",
    "                        epochs = [4])"
   ]
  },
  {
   "cell_type": "code",
   "execution_count": 54,
   "metadata": {},
   "outputs": [],
   "source": [
    "test_2_df = pd.DataFrame(test_2,\n",
    "             columns = ['train_acc', 'valid_acc', 'param_str'])\n",
    "test_2_df.to_csv('data/test_2.csv')"
   ]
  },
  {
   "cell_type": "code",
   "execution_count": 58,
   "metadata": {},
   "outputs": [
    {
     "data": {
      "text/html": [
       "<div>\n",
       "<style scoped>\n",
       "    .dataframe tbody tr th:only-of-type {\n",
       "        vertical-align: middle;\n",
       "    }\n",
       "\n",
       "    .dataframe tbody tr th {\n",
       "        vertical-align: top;\n",
       "    }\n",
       "\n",
       "    .dataframe thead th {\n",
       "        text-align: right;\n",
       "    }\n",
       "</style>\n",
       "<table border=\"1\" class=\"dataframe\">\n",
       "  <thead>\n",
       "    <tr style=\"text-align: right;\">\n",
       "      <th></th>\n",
       "      <th>train_acc</th>\n",
       "      <th>valid_acc</th>\n",
       "      <th>param_str</th>\n",
       "    </tr>\n",
       "  </thead>\n",
       "  <tbody>\n",
       "    <tr>\n",
       "      <th>0</th>\n",
       "      <td>0.375557</td>\n",
       "      <td>0.220909</td>\n",
       "      <td>batch size : 60\\n image size 96 \\n loss functi...</td>\n",
       "    </tr>\n",
       "    <tr>\n",
       "      <th>1</th>\n",
       "      <td>0.665588</td>\n",
       "      <td>0.417241</td>\n",
       "      <td>batch size : 60\\n image size 96 \\n loss functi...</td>\n",
       "    </tr>\n",
       "    <tr>\n",
       "      <th>2</th>\n",
       "      <td>0.850317</td>\n",
       "      <td>0.456596</td>\n",
       "      <td>batch size : 60\\n image size 96 \\n loss functi...</td>\n",
       "    </tr>\n",
       "    <tr>\n",
       "      <th>3</th>\n",
       "      <td>0.867347</td>\n",
       "      <td>0.470060</td>\n",
       "      <td>batch size : 60\\n image size 96 \\n loss functi...</td>\n",
       "    </tr>\n",
       "    <tr>\n",
       "      <th>4</th>\n",
       "      <td>0.941356</td>\n",
       "      <td>0.526546</td>\n",
       "      <td>batch size : 60\\n image size 96 \\n loss functi...</td>\n",
       "    </tr>\n",
       "    <tr>\n",
       "      <th>5</th>\n",
       "      <td>0.937040</td>\n",
       "      <td>0.534921</td>\n",
       "      <td>batch size : 60\\n image size 96 \\n loss functi...</td>\n",
       "    </tr>\n",
       "    <tr>\n",
       "      <th>6</th>\n",
       "      <td>0.918836</td>\n",
       "      <td>0.509633</td>\n",
       "      <td>batch size : 60\\n image size 96 \\n loss functi...</td>\n",
       "    </tr>\n",
       "    <tr>\n",
       "      <th>7</th>\n",
       "      <td>0.033404</td>\n",
       "      <td>0.034483</td>\n",
       "      <td>batch size : 60\\n image size 96 \\n loss functi...</td>\n",
       "    </tr>\n",
       "  </tbody>\n",
       "</table>\n",
       "</div>"
      ],
      "text/plain": [
       "   train_acc  valid_acc                                          param_str\n",
       "0   0.375557   0.220909  batch size : 60\\n image size 96 \\n loss functi...\n",
       "1   0.665588   0.417241  batch size : 60\\n image size 96 \\n loss functi...\n",
       "2   0.850317   0.456596  batch size : 60\\n image size 96 \\n loss functi...\n",
       "3   0.867347   0.470060  batch size : 60\\n image size 96 \\n loss functi...\n",
       "4   0.941356   0.526546  batch size : 60\\n image size 96 \\n loss functi...\n",
       "5   0.937040   0.534921  batch size : 60\\n image size 96 \\n loss functi...\n",
       "6   0.918836   0.509633  batch size : 60\\n image size 96 \\n loss functi...\n",
       "7   0.033404   0.034483  batch size : 60\\n image size 96 \\n loss functi..."
      ]
     },
     "execution_count": 58,
     "metadata": {},
     "output_type": "execute_result"
    }
   ],
   "source": [
    "test_2_df.head(10)"
   ]
  },
  {
   "cell_type": "code",
   "execution_count": null,
   "metadata": {},
   "outputs": [],
   "source": [
    "#test_2_df = pd.read_csv('data/test_2.csv')"
   ]
  },
  {
   "cell_type": "markdown",
   "metadata": {},
   "source": [
    "After removing hyperparameters in the loss function and metric categories that caused errors, I ended up just testing optimizers. This means the results will lack in context quite a lot. \n",
    "For the sake of time, the optimizer with the highest validation accuracy given the other hyperparameters will be used."
   ]
  },
  {
   "cell_type": "code",
   "execution_count": 62,
   "metadata": {},
   "outputs": [
    {
     "name": "stdout",
     "output_type": "stream",
     "text": [
      "Highest validation accuracy among given options: 0.5349206328392029 batch size : 60\n",
      " image size 96 \n",
      " loss function categorical_crossentropy \n",
      " optimizer Adamax \n",
      " value to maximize categorical_accuracy \n",
      " epochs 4\n"
     ]
    }
   ],
   "source": [
    "print('Highest validation accuracy among given options:', test_2_df.iloc[5,1], test_2_df.iloc[5,2])"
   ]
  },
  {
   "cell_type": "markdown",
   "metadata": {},
   "source": [
    "By my current understanding, the most important hyperparameter in Adamax is the learning rate. This may be best tweaked further down the line."
   ]
  },
  {
   "cell_type": "markdown",
   "metadata": {},
   "source": [
    "### test 3"
   ]
  },
  {
   "cell_type": "markdown",
   "metadata": {},
   "source": [
    "In this test, a variety of batch sizes will be considered."
   ]
  },
  {
   "cell_type": "code",
   "execution_count": 71,
   "metadata": {
    "scrolled": true
   },
   "outputs": [
    {
     "name": "stdout",
     "output_type": "stream",
     "text": [
      "Found 42630 images belonging to 29 classes.\n",
      "Found 18270 images belonging to 29 classes.\n",
      "Found 26100 images belonging to 29 classes.\n",
      "global_average_pooling2d_16\n",
      "dense_61\n",
      "dense_62\n",
      "dense_63\n",
      "dense_64\n",
      "categorical_crossentropy\n",
      "Adamax\n",
      "categorical_accuracy\n",
      "4\n",
      "4264\n",
      "4262/4264 [============================>.] - ETA: 0s - loss: 1.6801 - categorical_accuracy: 0.4981WARNING:tensorflow:Your input ran out of data; interrupting training. Make sure that your dataset or generator can generate at least `steps_per_epoch * epochs` batches (in this case, 4264 batches). You may need to use the repeat() function when building your dataset.\n",
      "4264/4264 [==============================] - 336s 78ms/step - loss: 1.6799 - categorical_accuracy: 0.4981 - val_loss: 2.3575 - val_categorical_accuracy: 0.4278\n",
      "Found 42630 images belonging to 29 classes.\n",
      "Found 18270 images belonging to 29 classes.\n",
      "Found 26100 images belonging to 29 classes.\n",
      "global_average_pooling2d_17\n",
      "dense_65\n",
      "dense_66\n",
      "dense_67\n",
      "dense_68\n",
      "categorical_crossentropy\n",
      "Adamax\n",
      "categorical_accuracy\n",
      "4\n",
      "1066\n",
      "1066/1066 [==============================] - 274s 254ms/step - loss: 1.9228 - categorical_accuracy: 0.4429 - val_loss: 2.3953 - val_categorical_accuracy: 0.3806\n",
      "Found 42630 images belonging to 29 classes.\n",
      "Found 18270 images belonging to 29 classes.\n",
      "Found 26100 images belonging to 29 classes.\n",
      "global_average_pooling2d_18\n",
      "dense_69\n",
      "dense_70\n",
      "dense_71\n",
      "dense_72\n",
      "categorical_crossentropy\n",
      "Adamax\n",
      "categorical_accuracy\n",
      "4\n",
      "711\n",
      "711/711 [==============================] - 257s 356ms/step - loss: 2.0089 - categorical_accuracy: 0.4365 - val_loss: 2.3456 - val_categorical_accuracy: 0.3939\n",
      "Found 42630 images belonging to 29 classes.\n",
      "Found 18270 images belonging to 29 classes.\n",
      "Found 26100 images belonging to 29 classes.\n",
      "global_average_pooling2d_19\n",
      "dense_73\n",
      "dense_74\n",
      "dense_75\n",
      "dense_76\n",
      "categorical_crossentropy\n",
      "Adamax\n",
      "categorical_accuracy\n",
      "4\n",
      "474\n",
      "474/474 [==============================] - 251s 522ms/step - loss: 2.0881 - categorical_accuracy: 0.4092 - val_loss: 2.4087 - val_categorical_accuracy: 0.3745\n"
     ]
    }
   ],
   "source": [
    "test_3 = grid_search(batch_sizes = [10, 40, 60, 90], \n",
    "                        image_sizes = [96], #  original train images are 200x200 but kernel may crash\n",
    "                        loss_funcs = ['categorical_crossentropy'], \n",
    "                        optims = ['Adamax'], \n",
    "                        values_to_max = ['categorical_accuracy'], \n",
    "                        epochs = [4])"
   ]
  },
  {
   "cell_type": "code",
   "execution_count": 74,
   "metadata": {},
   "outputs": [],
   "source": [
    "test_3_df = pd.DataFrame(test_3,\n",
    "             columns = ['train_acc', 'valid_acc', 'param_str'])\n",
    "test_3_df.to_csv('data/test_3.csv')"
   ]
  },
  {
   "cell_type": "code",
   "execution_count": 75,
   "metadata": {},
   "outputs": [
    {
     "data": {
      "text/html": [
       "<div>\n",
       "<style scoped>\n",
       "    .dataframe tbody tr th:only-of-type {\n",
       "        vertical-align: middle;\n",
       "    }\n",
       "\n",
       "    .dataframe tbody tr th {\n",
       "        vertical-align: top;\n",
       "    }\n",
       "\n",
       "    .dataframe thead th {\n",
       "        text-align: right;\n",
       "    }\n",
       "</style>\n",
       "<table border=\"1\" class=\"dataframe\">\n",
       "  <thead>\n",
       "    <tr style=\"text-align: right;\">\n",
       "      <th></th>\n",
       "      <th>train_acc</th>\n",
       "      <th>valid_acc</th>\n",
       "      <th>param_str</th>\n",
       "    </tr>\n",
       "  </thead>\n",
       "  <tbody>\n",
       "    <tr>\n",
       "      <th>0</th>\n",
       "      <td>0.666268</td>\n",
       "      <td>0.427750</td>\n",
       "      <td>batch size : 10\\n image size 96 \\n loss functi...</td>\n",
       "    </tr>\n",
       "    <tr>\n",
       "      <th>1</th>\n",
       "      <td>0.616749</td>\n",
       "      <td>0.380624</td>\n",
       "      <td>batch size : 40\\n image size 96 \\n loss functi...</td>\n",
       "    </tr>\n",
       "    <tr>\n",
       "      <th>2</th>\n",
       "      <td>0.607014</td>\n",
       "      <td>0.393924</td>\n",
       "      <td>batch size : 60\\n image size 96 \\n loss functi...</td>\n",
       "    </tr>\n",
       "    <tr>\n",
       "      <th>3</th>\n",
       "      <td>0.577082</td>\n",
       "      <td>0.374548</td>\n",
       "      <td>batch size : 90\\n image size 96 \\n loss functi...</td>\n",
       "    </tr>\n",
       "  </tbody>\n",
       "</table>\n",
       "</div>"
      ],
      "text/plain": [
       "   train_acc  valid_acc                                          param_str\n",
       "0   0.666268   0.427750  batch size : 10\\n image size 96 \\n loss functi...\n",
       "1   0.616749   0.380624  batch size : 40\\n image size 96 \\n loss functi...\n",
       "2   0.607014   0.393924  batch size : 60\\n image size 96 \\n loss functi...\n",
       "3   0.577082   0.374548  batch size : 90\\n image size 96 \\n loss functi..."
      ]
     },
     "execution_count": 75,
     "metadata": {},
     "output_type": "execute_result"
    }
   ],
   "source": [
    "test_3_df.head(10)"
   ]
  },
  {
   "cell_type": "markdown",
   "metadata": {},
   "source": [
    "Batch size 10 seems to have generated a warning, so I will go with the runner-up, batch size 60."
   ]
  },
  {
   "cell_type": "markdown",
   "metadata": {},
   "source": [
    "### test 4"
   ]
  },
  {
   "cell_type": "markdown",
   "metadata": {},
   "source": [
    "In this test, a variety of image sizes will be considered.\n",
    "\n",
    "All images will be square.\n",
    "\n",
    "Most will be selected as they are more compatible with MobileNetV2."
   ]
  },
  {
   "cell_type": "code",
   "execution_count": 76,
   "metadata": {
    "scrolled": true
   },
   "outputs": [
    {
     "name": "stdout",
     "output_type": "stream",
     "text": [
      "Found 42630 images belonging to 29 classes.\n",
      "Found 18270 images belonging to 29 classes.\n",
      "Found 26100 images belonging to 29 classes.\n",
      "WARNING:tensorflow:`input_shape` is undefined or non-square, or `rows` is not in [96, 128, 160, 192, 224]. Weights for input shape (224, 224) will be loaded as the default.\n",
      "global_average_pooling2d_20\n",
      "dense_77\n",
      "dense_78\n",
      "dense_79\n",
      "dense_80\n",
      "categorical_crossentropy\n",
      "Adamax\n",
      "categorical_accuracy\n",
      "4\n",
      "711\n"
     ]
    },
    {
     "name": "stderr",
     "output_type": "stream",
     "text": [
      "C:\\Users\\h\\.conda\\envs\\deeplearningcopy\\lib\\site-packages\\tensorflow\\python\\keras\\engine\\training.py:1844: UserWarning: `Model.fit_generator` is deprecated and will be removed in a future version. Please use `Model.fit`, which supports generators.\n",
      "  warnings.warn('`Model.fit_generator` is deprecated and '\n"
     ]
    },
    {
     "name": "stdout",
     "output_type": "stream",
     "text": [
      "711/711 [==============================] - 143s 196ms/step - loss: 1.9260 - categorical_accuracy: 0.4307 - val_loss: 2.6533 - val_categorical_accuracy: 0.3192\n",
      "Found 42630 images belonging to 29 classes.\n",
      "Found 18270 images belonging to 29 classes.\n",
      "Found 26100 images belonging to 29 classes.\n",
      "global_average_pooling2d_21\n",
      "dense_81\n",
      "dense_82\n",
      "dense_83\n",
      "dense_84\n",
      "categorical_crossentropy\n",
      "Adamax\n",
      "categorical_accuracy\n",
      "4\n",
      "711\n",
      "711/711 [==============================] - 237s 329ms/step - loss: 1.9791 - categorical_accuracy: 0.4370 - val_loss: 2.4684 - val_categorical_accuracy: 0.3839\n",
      "Found 42630 images belonging to 29 classes.\n",
      "Found 18270 images belonging to 29 classes.\n",
      "Found 26100 images belonging to 29 classes.\n",
      "Downloading data from https://storage.googleapis.com/tensorflow/keras-applications/mobilenet_v2/mobilenet_v2_weights_tf_dim_ordering_tf_kernels_1.0_128_no_top.h5\n",
      "9412608/9406464 [==============================] - 4s 0us/step\n",
      "global_average_pooling2d_22\n",
      "dense_85\n",
      "dense_86\n",
      "dense_87\n",
      "dense_88\n",
      "categorical_crossentropy\n",
      "Adamax\n",
      "categorical_accuracy\n",
      "4\n",
      "711\n",
      "711/711 [==============================] - 404s 564ms/step - loss: 1.9164 - categorical_accuracy: 0.4689 - val_loss: 2.1661 - val_categorical_accuracy: 0.4488\n",
      "Found 42630 images belonging to 29 classes.\n",
      "Found 18270 images belonging to 29 classes.\n",
      "Found 26100 images belonging to 29 classes.\n",
      "Downloading data from https://storage.googleapis.com/tensorflow/keras-applications/mobilenet_v2/mobilenet_v2_weights_tf_dim_ordering_tf_kernels_1.0_160_no_top.h5\n",
      "9412608/9406464 [==============================] - 4s 0us/step\n",
      "global_average_pooling2d_23\n",
      "dense_89\n",
      "dense_90\n",
      "dense_91\n",
      "dense_92\n",
      "categorical_crossentropy\n",
      "Adamax\n",
      "categorical_accuracy\n",
      "4\n",
      "711\n",
      "711/711 [==============================] - 624s 873ms/step - loss: 1.2878 - categorical_accuracy: 0.6614 - val_loss: 1.6737 - val_categorical_accuracy: 0.5574\n",
      "Found 42630 images belonging to 29 classes.\n",
      "Found 18270 images belonging to 29 classes.\n",
      "Found 26100 images belonging to 29 classes.\n",
      "Downloading data from https://storage.googleapis.com/tensorflow/keras-applications/mobilenet_v2/mobilenet_v2_weights_tf_dim_ordering_tf_kernels_1.0_192_no_top.h5\n",
      "9412608/9406464 [==============================] - 3s 0us/step\n",
      "global_average_pooling2d_24\n",
      "dense_93\n",
      "dense_94\n",
      "dense_95\n",
      "dense_96\n",
      "categorical_crossentropy\n",
      "Adamax\n",
      "categorical_accuracy\n",
      "4\n",
      "711\n",
      "711/711 [==============================] - 883s 1s/step - loss: 1.9123 - categorical_accuracy: 0.4781 - val_loss: 2.0835 - val_categorical_accuracy: 0.4739\n"
     ]
    }
   ],
   "source": [
    "test_4 = grid_search(batch_sizes = [60], \n",
    "                        image_sizes = [60, 96, 128, 160, 192], #  original train images are 200x200 but kernel may crash\n",
    "                        loss_funcs = ['categorical_crossentropy'], \n",
    "                        optims = ['Adamax'], \n",
    "                        values_to_max = ['categorical_accuracy'], \n",
    "                        epochs = [4])"
   ]
  },
  {
   "cell_type": "code",
   "execution_count": 77,
   "metadata": {},
   "outputs": [],
   "source": [
    "test_4_df = pd.DataFrame(test_4,\n",
    "             columns = ['train_acc', 'valid_acc', 'param_str'])\n",
    "test_4_df.to_csv('data/test_4.csv')"
   ]
  },
  {
   "cell_type": "code",
   "execution_count": 78,
   "metadata": {},
   "outputs": [
    {
     "data": {
      "text/html": [
       "<div>\n",
       "<style scoped>\n",
       "    .dataframe tbody tr th:only-of-type {\n",
       "        vertical-align: middle;\n",
       "    }\n",
       "\n",
       "    .dataframe tbody tr th {\n",
       "        vertical-align: top;\n",
       "    }\n",
       "\n",
       "    .dataframe thead th {\n",
       "        text-align: right;\n",
       "    }\n",
       "</style>\n",
       "<table border=\"1\" class=\"dataframe\">\n",
       "  <thead>\n",
       "    <tr style=\"text-align: right;\">\n",
       "      <th></th>\n",
       "      <th>train_acc</th>\n",
       "      <th>valid_acc</th>\n",
       "      <th>param_str</th>\n",
       "    </tr>\n",
       "  </thead>\n",
       "  <tbody>\n",
       "    <tr>\n",
       "      <th>0</th>\n",
       "      <td>0.559442</td>\n",
       "      <td>0.319212</td>\n",
       "      <td>batch size : 60\\n image size 60 \\n loss functi...</td>\n",
       "    </tr>\n",
       "    <tr>\n",
       "      <th>1</th>\n",
       "      <td>0.607131</td>\n",
       "      <td>0.383853</td>\n",
       "      <td>batch size : 60\\n image size 96 \\n loss functi...</td>\n",
       "    </tr>\n",
       "    <tr>\n",
       "      <th>2</th>\n",
       "      <td>0.642834</td>\n",
       "      <td>0.448823</td>\n",
       "      <td>batch size : 60\\n image size 128 \\n loss funct...</td>\n",
       "    </tr>\n",
       "    <tr>\n",
       "      <th>3</th>\n",
       "      <td>0.818625</td>\n",
       "      <td>0.557362</td>\n",
       "      <td>batch size : 60\\n image size 160 \\n loss funct...</td>\n",
       "    </tr>\n",
       "    <tr>\n",
       "      <th>4</th>\n",
       "      <td>0.672038</td>\n",
       "      <td>0.473946</td>\n",
       "      <td>batch size : 60\\n image size 192 \\n loss funct...</td>\n",
       "    </tr>\n",
       "  </tbody>\n",
       "</table>\n",
       "</div>"
      ],
      "text/plain": [
       "   train_acc  valid_acc                                          param_str\n",
       "0   0.559442   0.319212  batch size : 60\\n image size 60 \\n loss functi...\n",
       "1   0.607131   0.383853  batch size : 60\\n image size 96 \\n loss functi...\n",
       "2   0.642834   0.448823  batch size : 60\\n image size 128 \\n loss funct...\n",
       "3   0.818625   0.557362  batch size : 60\\n image size 160 \\n loss funct...\n",
       "4   0.672038   0.473946  batch size : 60\\n image size 192 \\n loss funct..."
      ]
     },
     "execution_count": 78,
     "metadata": {},
     "output_type": "execute_result"
    }
   ],
   "source": [
    "test_4_df.head(10)"
   ]
  },
  {
   "cell_type": "markdown",
   "metadata": {},
   "source": [
    "It appears that 160x160 images performed best in this test. "
   ]
  },
  {
   "cell_type": "markdown",
   "metadata": {},
   "source": [
    "### Test 5"
   ]
  },
  {
   "cell_type": "markdown",
   "metadata": {},
   "source": [
    "In this test, a variety of epochs will be tested."
   ]
  },
  {
   "cell_type": "markdown",
   "metadata": {},
   "source": [
    "## Improving validation accuracy via data augmentation"
   ]
  },
  {
   "cell_type": "code",
   "execution_count": null,
   "metadata": {},
   "outputs": [],
   "source": []
  },
  {
   "cell_type": "markdown",
   "metadata": {},
   "source": [
    "# Generating New Baseline Model"
   ]
  },
  {
   "cell_type": "code",
   "execution_count": null,
   "metadata": {},
   "outputs": [],
   "source": []
  }
 ],
 "metadata": {
  "kernelspec": {
   "display_name": "Python 3",
   "language": "python",
   "name": "python3"
  },
  "language_info": {
   "codemirror_mode": {
    "name": "ipython",
    "version": 3
   },
   "file_extension": ".py",
   "mimetype": "text/x-python",
   "name": "python",
   "nbconvert_exporter": "python",
   "pygments_lexer": "ipython3",
   "version": "3.8.5"
  }
 },
 "nbformat": 4,
 "nbformat_minor": 4
}
