{
 "cells": [
  {
   "cell_type": "code",
   "execution_count": 21,
   "metadata": {},
   "outputs": [],
   "source": [
    "import numpy as np\n",
    "import pandas as pd\n",
    "import matplotlib.pyplot as plt\n",
    "%matplotlib inline\n",
    "from sklearn.neural_network import MLPClassifier\n",
    "from sklearn.model_selection import train_test_split\n",
    "from sklearn.preprocessing import StandardScaler\n",
    "import seaborn as sns\n",
    "\n",
    "from tensorflow.keras.preprocessing.image import ImageDataGenerator\n",
    "from sklearn.preprocessing import LabelEncoder\n",
    "from sklearn.metrics import confusion_matrix\n"
   ]
  },
  {
   "cell_type": "markdown",
   "metadata": {},
   "source": [
    "#### Saving or loading the model as desired."
   ]
  },
  {
   "cell_type": "code",
   "execution_count": 2,
   "metadata": {},
   "outputs": [],
   "source": [
    "from tensorflow.keras.models import load_model"
   ]
  },
  {
   "cell_type": "code",
   "execution_count": 3,
   "metadata": {},
   "outputs": [],
   "source": [
    "#model.save(\"model_3_0\") creates a folder with the same name as the model"
   ]
  },
  {
   "cell_type": "code",
   "execution_count": 4,
   "metadata": {},
   "outputs": [],
   "source": [
    "#model_2 = load_model(\"model_2_after_15_epochs\") loads a model from this folder"
   ]
  },
  {
   "cell_type": "markdown",
   "metadata": {},
   "source": [
    "# Table of Contents"
   ]
  },
  {
   "cell_type": "markdown",
   "metadata": {},
   "source": [
    "[Model 4](#Model-4)"
   ]
  },
  {
   "cell_type": "markdown",
   "metadata": {},
   "source": [
    "## Model 4"
   ]
  },
  {
   "cell_type": "markdown",
   "metadata": {},
   "source": [
    "### Importing Data"
   ]
  },
  {
   "cell_type": "markdown",
   "metadata": {},
   "source": [
    "The following function imports a directory full of subdirectories full of photos, with each subdirectory named after the class of its stored photos.\n",
    "\n",
    "train_data/ \n",
    "\n",
    "     |\n",
    "     V     \n",
    "     |\n",
    "     |\n",
    "      >  A/ -> A_1, A_2, A_3, etc.\n",
    "     |\n",
    "      >  B/ -> B_1, B_2, B_3, etc.\n",
    "     |  \n",
    "      >  C/ -> C_1, C_2, C_3, etc.\n",
    "     |  \n",
    "      >  D/ -> D_1, D_2, D_3, etc."
   ]
  },
  {
   "cell_type": "code",
   "execution_count": 22,
   "metadata": {},
   "outputs": [],
   "source": [
    "def data_generator(image_size, path, preprocess_func=None, split_off_for_val=0.0, split_segment = None):\n",
    "    this_datagen = ImageDataGenerator(preprocessing_function = preprocess_func, validation_split = split_off_for_val)\n",
    "    #  note: ImageDataGenerator does not appear to have a parameter for random seeds. Be wary of train/val overlap\n",
    "    #  note: train/val/test split does not currently work\n",
    "    this_generator = this_datagen.flow_from_directory(path, \n",
    "                                                     target_size=image_size,\n",
    "                                                     subset = split_segment, #  None|'training'|'validation'\n",
    "                                                     color_mode='rgb',\n",
    "                                                     batch_size=80,\n",
    "                                                     class_mode='categorical',\n",
    "                                                     shuffle=True)\n",
    "    return this_generator"
   ]
  },
  {
   "cell_type": "markdown",
   "metadata": {},
   "source": [
    "As the split functionality did not work, I split the data manually into train/validation/test sets.\n",
    "\n",
    "3000 images per class became:\n",
    "\n",
    "900 test + 630 val + 1470 train\n",
    "\n",
    "87000 images total became:\n",
    "\n",
    "26100 test + 18270 val + 42630 train"
   ]
  },
  {
   "cell_type": "markdown",
   "metadata": {},
   "source": [
    "#### Training Data"
   ]
  },
  {
   "cell_type": "code",
   "execution_count": 23,
   "metadata": {},
   "outputs": [
    {
     "name": "stdout",
     "output_type": "stream",
     "text": [
      "Found 42630 images belonging to 29 classes.\n"
     ]
    },
    {
     "data": {
      "text/plain": [
       "<tensorflow.python.keras.preprocessing.image.DirectoryIterator at 0x22bbe17b6d0>"
      ]
     },
     "execution_count": 23,
     "metadata": {},
     "output_type": "execute_result"
    }
   ],
   "source": [
    "train_data = data_generator(image_size = [80,80],\n",
    "                            path = 'data/grassnoted split/asl_alphabet_train',\n",
    "                           )\n",
    "train_data\n"
   ]
  },
  {
   "cell_type": "markdown",
   "metadata": {},
   "source": [
    "#### Validation Data"
   ]
  },
  {
   "cell_type": "code",
   "execution_count": 26,
   "metadata": {},
   "outputs": [
    {
     "name": "stdout",
     "output_type": "stream",
     "text": [
      "Found 18270 images belonging to 29 classes.\n"
     ]
    },
    {
     "data": {
      "text/plain": [
       "<tensorflow.python.keras.preprocessing.image.DirectoryIterator at 0x22bbe4e3eb0>"
      ]
     },
     "execution_count": 26,
     "metadata": {},
     "output_type": "execute_result"
    }
   ],
   "source": [
    "validation_data = data_generator(image_size = [80,80], \n",
    "                                 path = 'data/grassnoted split/asl_alphabet_validation',\n",
    "                                )\n",
    "validation_data\n"
   ]
  },
  {
   "cell_type": "markdown",
   "metadata": {},
   "source": [
    "#### Test Data"
   ]
  },
  {
   "cell_type": "code",
   "execution_count": 25,
   "metadata": {},
   "outputs": [
    {
     "name": "stdout",
     "output_type": "stream",
     "text": [
      "Found 26100 images belonging to 29 classes.\n"
     ]
    },
    {
     "data": {
      "text/plain": [
       "<tensorflow.python.keras.preprocessing.image.DirectoryIterator at 0x22bc48a6c10>"
      ]
     },
     "execution_count": 25,
     "metadata": {},
     "output_type": "execute_result"
    }
   ],
   "source": [
    "test_data = data_generator(image_size = [80,80],\n",
    "                           path = 'data/grassnoted split/asl_alphabet_test',\n",
    "                          )\n",
    "test_data\n"
   ]
  },
  {
   "cell_type": "markdown",
   "metadata": {},
   "source": [
    "### Creating Model"
   ]
  },
  {
   "cell_type": "code",
   "execution_count": 27,
   "metadata": {},
   "outputs": [],
   "source": [
    "from tensorflow.keras.applications import MobileNetV2\n",
    "from tensorflow.keras.applications.mobilenet_v2 import preprocess_input\n",
    "from tensorflow.keras.layers import Dense,GlobalAveragePooling2D\n",
    "from tensorflow.keras.models import Model\n",
    "from tensorflow.keras.optimizers import Adam"
   ]
  },
  {
   "cell_type": "markdown",
   "metadata": {},
   "source": [
    "Importing MobileNetV2 for use in transfer learning."
   ]
  },
  {
   "cell_type": "code",
   "execution_count": 28,
   "metadata": {},
   "outputs": [
    {
     "name": "stdout",
     "output_type": "stream",
     "text": [
      "WARNING:tensorflow:`input_shape` is undefined or non-square, or `rows` is not in [96, 128, 160, 192, 224]. Weights for input shape (224, 224) will be loaded as the default.\n"
     ]
    }
   ],
   "source": [
    "experienced_model = MobileNetV2(weights='imagenet', include_top=False, input_shape = (80,80,3))\n",
    "#input shape minimum is 32x32\n",
    "#this warning is all bark and no bite"
   ]
  },
  {
   "cell_type": "markdown",
   "metadata": {},
   "source": [
    "Defining an untrained neural network to attach to the end of MobileNetV2 in order to make predictions in our current problem space."
   ]
  },
  {
   "cell_type": "code",
   "execution_count": 29,
   "metadata": {},
   "outputs": [],
   "source": [
    "# Assign the output of this base_model to a variable:\n",
    "base_model_out = experienced_model.output\n",
    "\n",
    "\n",
    "\n",
    "# Add a pooling layer:\n",
    "base_model_out = GlobalAveragePooling2D()(base_model_out)\n",
    "\n",
    "# using a softmabase_model_out activation function:\n",
    "preds = Dense(29, activation='softmax')(base_model_out)\n",
    "\n",
    "\n",
    "\n",
    "\n",
    "# Instantiate our final model, where we specify what are the inputs and \n",
    "# the outputs will look like\n",
    "model = Model(inputs = experienced_model.input, \n",
    "              outputs = preds)"
   ]
  },
  {
   "cell_type": "markdown",
   "metadata": {},
   "source": [
    "We can find the number of nodes in the topless MobileNetV2 by looking at the index of the pooling layer. These should be locked in order to preserve their weights."
   ]
  },
  {
   "cell_type": "code",
   "execution_count": 30,
   "metadata": {},
   "outputs": [
    {
     "name": "stdout",
     "output_type": "stream",
     "text": [
      "0 input_2\n",
      "1 Conv1\n",
      "2 bn_Conv1\n",
      "3 Conv1_relu\n",
      "4 expanded_conv_depthwise\n",
      "5 expanded_conv_depthwise_BN\n",
      "6 expanded_conv_depthwise_relu\n",
      "7 expanded_conv_project\n",
      "8 expanded_conv_project_BN\n",
      "9 block_1_expand\n",
      "10 block_1_expand_BN\n",
      "11 block_1_expand_relu\n",
      "12 block_1_pad\n",
      "13 block_1_depthwise\n",
      "14 block_1_depthwise_BN\n",
      "15 block_1_depthwise_relu\n",
      "16 block_1_project\n",
      "17 block_1_project_BN\n",
      "18 block_2_expand\n",
      "19 block_2_expand_BN\n",
      "20 block_2_expand_relu\n",
      "21 block_2_depthwise\n",
      "22 block_2_depthwise_BN\n",
      "23 block_2_depthwise_relu\n",
      "24 block_2_project\n",
      "25 block_2_project_BN\n",
      "26 block_2_add\n",
      "27 block_3_expand\n",
      "28 block_3_expand_BN\n",
      "29 block_3_expand_relu\n",
      "30 block_3_pad\n",
      "31 block_3_depthwise\n",
      "32 block_3_depthwise_BN\n",
      "33 block_3_depthwise_relu\n",
      "34 block_3_project\n",
      "35 block_3_project_BN\n",
      "36 block_4_expand\n",
      "37 block_4_expand_BN\n",
      "38 block_4_expand_relu\n",
      "39 block_4_depthwise\n",
      "40 block_4_depthwise_BN\n",
      "41 block_4_depthwise_relu\n",
      "42 block_4_project\n",
      "43 block_4_project_BN\n",
      "44 block_4_add\n",
      "45 block_5_expand\n",
      "46 block_5_expand_BN\n",
      "47 block_5_expand_relu\n",
      "48 block_5_depthwise\n",
      "49 block_5_depthwise_BN\n",
      "50 block_5_depthwise_relu\n",
      "51 block_5_project\n",
      "52 block_5_project_BN\n",
      "53 block_5_add\n",
      "54 block_6_expand\n",
      "55 block_6_expand_BN\n",
      "56 block_6_expand_relu\n",
      "57 block_6_pad\n",
      "58 block_6_depthwise\n",
      "59 block_6_depthwise_BN\n",
      "60 block_6_depthwise_relu\n",
      "61 block_6_project\n",
      "62 block_6_project_BN\n",
      "63 block_7_expand\n",
      "64 block_7_expand_BN\n",
      "65 block_7_expand_relu\n",
      "66 block_7_depthwise\n",
      "67 block_7_depthwise_BN\n",
      "68 block_7_depthwise_relu\n",
      "69 block_7_project\n",
      "70 block_7_project_BN\n",
      "71 block_7_add\n",
      "72 block_8_expand\n",
      "73 block_8_expand_BN\n",
      "74 block_8_expand_relu\n",
      "75 block_8_depthwise\n",
      "76 block_8_depthwise_BN\n",
      "77 block_8_depthwise_relu\n",
      "78 block_8_project\n",
      "79 block_8_project_BN\n",
      "80 block_8_add\n",
      "81 block_9_expand\n",
      "82 block_9_expand_BN\n",
      "83 block_9_expand_relu\n",
      "84 block_9_depthwise\n",
      "85 block_9_depthwise_BN\n",
      "86 block_9_depthwise_relu\n",
      "87 block_9_project\n",
      "88 block_9_project_BN\n",
      "89 block_9_add\n",
      "90 block_10_expand\n",
      "91 block_10_expand_BN\n",
      "92 block_10_expand_relu\n",
      "93 block_10_depthwise\n",
      "94 block_10_depthwise_BN\n",
      "95 block_10_depthwise_relu\n",
      "96 block_10_project\n",
      "97 block_10_project_BN\n",
      "98 block_11_expand\n",
      "99 block_11_expand_BN\n",
      "100 block_11_expand_relu\n",
      "101 block_11_depthwise\n",
      "102 block_11_depthwise_BN\n",
      "103 block_11_depthwise_relu\n",
      "104 block_11_project\n",
      "105 block_11_project_BN\n",
      "106 block_11_add\n",
      "107 block_12_expand\n",
      "108 block_12_expand_BN\n",
      "109 block_12_expand_relu\n",
      "110 block_12_depthwise\n",
      "111 block_12_depthwise_BN\n",
      "112 block_12_depthwise_relu\n",
      "113 block_12_project\n",
      "114 block_12_project_BN\n",
      "115 block_12_add\n",
      "116 block_13_expand\n",
      "117 block_13_expand_BN\n",
      "118 block_13_expand_relu\n",
      "119 block_13_pad\n",
      "120 block_13_depthwise\n",
      "121 block_13_depthwise_BN\n",
      "122 block_13_depthwise_relu\n",
      "123 block_13_project\n",
      "124 block_13_project_BN\n",
      "125 block_14_expand\n",
      "126 block_14_expand_BN\n",
      "127 block_14_expand_relu\n",
      "128 block_14_depthwise\n",
      "129 block_14_depthwise_BN\n",
      "130 block_14_depthwise_relu\n",
      "131 block_14_project\n",
      "132 block_14_project_BN\n",
      "133 block_14_add\n",
      "134 block_15_expand\n",
      "135 block_15_expand_BN\n",
      "136 block_15_expand_relu\n",
      "137 block_15_depthwise\n",
      "138 block_15_depthwise_BN\n",
      "139 block_15_depthwise_relu\n",
      "140 block_15_project\n",
      "141 block_15_project_BN\n",
      "142 block_15_add\n",
      "143 block_16_expand\n",
      "144 block_16_expand_BN\n",
      "145 block_16_expand_relu\n",
      "146 block_16_depthwise\n",
      "147 block_16_depthwise_BN\n",
      "148 block_16_depthwise_relu\n",
      "149 block_16_project\n",
      "150 block_16_project_BN\n",
      "151 Conv_1\n",
      "152 Conv_1_bn\n",
      "153 out_relu\n",
      "154 global_average_pooling2d_1\n",
      "155 dense_1\n"
     ]
    }
   ],
   "source": [
    "for i, layer in enumerate(model.layers):\n",
    "    print(i, layer.name)"
   ]
  },
  {
   "cell_type": "markdown",
   "metadata": {},
   "source": [
    "We can see that layer 154 is where our added layers begin. We will lock all layers above 154 and make them untrainable."
   ]
  },
  {
   "cell_type": "code",
   "execution_count": 31,
   "metadata": {},
   "outputs": [
    {
     "name": "stdout",
     "output_type": "stream",
     "text": [
      "global_average_pooling2d_1\n",
      "dense_1\n"
     ]
    }
   ],
   "source": [
    "for layer in model.layers[:154]:\n",
    "    layer.trainable=False\n",
    "    \n",
    "for layer in model.layers[154:]:\n",
    "    print(layer.name)\n",
    "    layer.trainable=True"
   ]
  },
  {
   "cell_type": "code",
   "execution_count": 32,
   "metadata": {},
   "outputs": [
    {
     "data": {
      "text/plain": [
       "80"
      ]
     },
     "execution_count": 32,
     "metadata": {},
     "output_type": "execute_result"
    }
   ],
   "source": [
    "train_data.batch_size"
   ]
  },
  {
   "cell_type": "code",
   "execution_count": 33,
   "metadata": {},
   "outputs": [
    {
     "data": {
      "text/plain": [
       "533"
      ]
     },
     "execution_count": 33,
     "metadata": {},
     "output_type": "execute_result"
    }
   ],
   "source": [
    "step_size_train = train_data.n//train_data.batch_size + 1\n",
    "\n",
    "# 'train_data.n' = 60,900 images\n",
    "# 'train_generator.batch_size' = 80 images per batch\n",
    "# 'step_size_train' = 762  (!needs to be int)\n",
    "step_size_train"
   ]
  },
  {
   "cell_type": "markdown",
   "metadata": {},
   "source": [
    "### Compiling Model"
   ]
  },
  {
   "cell_type": "code",
   "execution_count": 41,
   "metadata": {},
   "outputs": [],
   "source": [
    "model.compile(loss = 'categorical_crossentropy', #loss function\n",
    "                  optimizer = 'Adam',\n",
    "                  metrics = ['accuracy']) #value to maximize"
   ]
  },
  {
   "cell_type": "markdown",
   "metadata": {},
   "source": [
    "### Fitting Model"
   ]
  },
  {
   "cell_type": "code",
   "execution_count": 39,
   "metadata": {},
   "outputs": [
    {
     "name": "stderr",
     "output_type": "stream",
     "text": [
      "C:\\Users\\h\\.conda\\envs\\deeplearningcopy\\lib\\site-packages\\tensorflow\\python\\keras\\engine\\training.py:1844: UserWarning: `Model.fit_generator` is deprecated and will be removed in a future version. Please use `Model.fit`, which supports generators.\n",
      "  warnings.warn('`Model.fit_generator` is deprecated and '\n"
     ]
    },
    {
     "name": "stdout",
     "output_type": "stream",
     "text": [
      "533/533 [==============================] - 202s 379ms/step - loss: 0.7553 - accuracy: 0.7779 - val_loss: 2.3548 - val_accuracy: 0.3888\n"
     ]
    },
    {
     "data": {
      "text/plain": [
       "<tensorflow.python.keras.callbacks.History at 0x22bcb9a8400>"
      ]
     },
     "execution_count": 39,
     "metadata": {},
     "output_type": "execute_result"
    }
   ],
   "source": [
    "model.fit_generator(train_data, validation_data = validation_data, steps_per_epoch = step_size_train, epochs = 1, verbose = 1)"
   ]
  },
  {
   "cell_type": "markdown",
   "metadata": {},
   "source": [
    "### Plotting Model Progress"
   ]
  },
  {
   "cell_type": "code",
   "execution_count": 42,
   "metadata": {},
   "outputs": [
    {
     "data": {
      "image/png": "[encoded data removed]",
      "text/plain": [
       "<Figure size 432x288 with 1 Axes>"
      ]
     },
     "metadata": {
      "needs_background": "light"
     },
     "output_type": "display_data"
    }
   ],
   "source": [
    "plt.figure()\n",
    "plt.plot(model.history.history['accuracy'], marker='o', label='training accuracy')\n",
    "plt.plot(model.history.history['val_accuracy'], marker='o', label='validation accuracy')\n",
    "plt.title('Training Accuracy and Validation Accuracy')\n",
    "plt.legend(loc='best')\n",
    "plt.xlabel('Epoch')\n",
    "plt.ylabel('Loss|Accuracy')\n",
    "plt.show()"
   ]
  },
  {
   "cell_type": "code",
   "execution_count": null,
   "metadata": {},
   "outputs": [],
   "source": []
  }
 ],
 "metadata": {
  "kernelspec": {
   "display_name": "Python 3",
   "language": "python",
   "name": "python3"
  },
  "language_info": {
   "codemirror_mode": {
    "name": "ipython",
    "version": 3
   },
   "file_extension": ".py",
   "mimetype": "text/x-python",
   "name": "python",
   "nbconvert_exporter": "python",
   "pygments_lexer": "ipython3",
   "version": "3.8.5"
  }
 },
 "nbformat": 4,
 "nbformat_minor": 4
}
