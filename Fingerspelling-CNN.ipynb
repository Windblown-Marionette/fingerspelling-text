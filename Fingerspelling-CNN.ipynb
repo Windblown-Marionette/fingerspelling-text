{
 "cells": [
  {
   "cell_type": "code",
   "execution_count": 3,
   "metadata": {},
   "outputs": [],
   "source": [
    "import numpy as np\n",
    "import pandas as pd\n",
    "import matplotlib as plt\n",
    "%matplotlib inline\n",
    "from sklearn.neural_network import MLPClassifier\n",
    "from sklearn.model_selection import train_test_split\n",
    "from sklearn.preprocessing import StandardScaler\n",
    "import seaborn as sns\n",
    "\n",
    "from tensorflow.keras.preprocessing import image\n",
    "from tensorflow.keras.preprocessing import image_dataset_from_directory\n",
    "\n"
   ]
  },
  {
   "cell_type": "markdown",
   "metadata": {},
   "source": [
    "# Table of contents\n",
    "\n",
    "Demonstrating CNN use with The ASL MNIST Dataset and a simple neural network\n",
    "\n",
    "Improvement paths from starting model\n",
    "\n",
    "Optimizing hyperparameters via grid search (useful for smaller CNN's)\n",
    "\n",
    "(pending)[Using transfer learning from Keras applications](#tlearning)\n",
    "\n",
    "(pending as well) Implementing the second data set: grassnoted archive\n",
    "\n",
    "based on instructions [here](https://stackoverflow.com/questions/49535664/how-to-hyperlink-in-a-jupyter-notebook)"
   ]
  },
  {
   "cell_type": "markdown",
   "metadata": {},
   "source": [
    "## Demonstrating CNN use with The ASL MNIST Dataset and a simple neural network"
   ]
  },
  {
   "cell_type": "code",
   "execution_count": 2,
   "metadata": {},
   "outputs": [],
   "source": [
    "train_data = pd.read_csv('data/sign_mnist_train.csv')\n",
    "\n",
    "test_data = pd.read_csv('data/sign_mnist_test.csv')\n"
   ]
  },
  {
   "cell_type": "code",
   "execution_count": 3,
   "metadata": {},
   "outputs": [
    {
     "data": {
      "text/html": [
       "<div>\n",
       "<style scoped>\n",
       "    .dataframe tbody tr th:only-of-type {\n",
       "        vertical-align: middle;\n",
       "    }\n",
       "\n",
       "    .dataframe tbody tr th {\n",
       "        vertical-align: top;\n",
       "    }\n",
       "\n",
       "    .dataframe thead th {\n",
       "        text-align: right;\n",
       "    }\n",
       "</style>\n",
       "<table border=\"1\" class=\"dataframe\">\n",
       "  <thead>\n",
       "    <tr style=\"text-align: right;\">\n",
       "      <th></th>\n",
       "      <th>label</th>\n",
       "      <th>pixel1</th>\n",
       "      <th>pixel2</th>\n",
       "      <th>pixel3</th>\n",
       "      <th>pixel4</th>\n",
       "      <th>pixel5</th>\n",
       "      <th>pixel6</th>\n",
       "      <th>pixel7</th>\n",
       "      <th>pixel8</th>\n",
       "      <th>pixel9</th>\n",
       "      <th>...</th>\n",
       "      <th>pixel775</th>\n",
       "      <th>pixel776</th>\n",
       "      <th>pixel777</th>\n",
       "      <th>pixel778</th>\n",
       "      <th>pixel779</th>\n",
       "      <th>pixel780</th>\n",
       "      <th>pixel781</th>\n",
       "      <th>pixel782</th>\n",
       "      <th>pixel783</th>\n",
       "      <th>pixel784</th>\n",
       "    </tr>\n",
       "  </thead>\n",
       "  <tbody>\n",
       "    <tr>\n",
       "      <th>0</th>\n",
       "      <td>3</td>\n",
       "      <td>107</td>\n",
       "      <td>118</td>\n",
       "      <td>127</td>\n",
       "      <td>134</td>\n",
       "      <td>139</td>\n",
       "      <td>143</td>\n",
       "      <td>146</td>\n",
       "      <td>150</td>\n",
       "      <td>153</td>\n",
       "      <td>...</td>\n",
       "      <td>207</td>\n",
       "      <td>207</td>\n",
       "      <td>207</td>\n",
       "      <td>207</td>\n",
       "      <td>206</td>\n",
       "      <td>206</td>\n",
       "      <td>206</td>\n",
       "      <td>204</td>\n",
       "      <td>203</td>\n",
       "      <td>202</td>\n",
       "    </tr>\n",
       "    <tr>\n",
       "      <th>1</th>\n",
       "      <td>6</td>\n",
       "      <td>155</td>\n",
       "      <td>157</td>\n",
       "      <td>156</td>\n",
       "      <td>156</td>\n",
       "      <td>156</td>\n",
       "      <td>157</td>\n",
       "      <td>156</td>\n",
       "      <td>158</td>\n",
       "      <td>158</td>\n",
       "      <td>...</td>\n",
       "      <td>69</td>\n",
       "      <td>149</td>\n",
       "      <td>128</td>\n",
       "      <td>87</td>\n",
       "      <td>94</td>\n",
       "      <td>163</td>\n",
       "      <td>175</td>\n",
       "      <td>103</td>\n",
       "      <td>135</td>\n",
       "      <td>149</td>\n",
       "    </tr>\n",
       "    <tr>\n",
       "      <th>2</th>\n",
       "      <td>2</td>\n",
       "      <td>187</td>\n",
       "      <td>188</td>\n",
       "      <td>188</td>\n",
       "      <td>187</td>\n",
       "      <td>187</td>\n",
       "      <td>186</td>\n",
       "      <td>187</td>\n",
       "      <td>188</td>\n",
       "      <td>187</td>\n",
       "      <td>...</td>\n",
       "      <td>202</td>\n",
       "      <td>201</td>\n",
       "      <td>200</td>\n",
       "      <td>199</td>\n",
       "      <td>198</td>\n",
       "      <td>199</td>\n",
       "      <td>198</td>\n",
       "      <td>195</td>\n",
       "      <td>194</td>\n",
       "      <td>195</td>\n",
       "    </tr>\n",
       "    <tr>\n",
       "      <th>3</th>\n",
       "      <td>2</td>\n",
       "      <td>211</td>\n",
       "      <td>211</td>\n",
       "      <td>212</td>\n",
       "      <td>212</td>\n",
       "      <td>211</td>\n",
       "      <td>210</td>\n",
       "      <td>211</td>\n",
       "      <td>210</td>\n",
       "      <td>210</td>\n",
       "      <td>...</td>\n",
       "      <td>235</td>\n",
       "      <td>234</td>\n",
       "      <td>233</td>\n",
       "      <td>231</td>\n",
       "      <td>230</td>\n",
       "      <td>226</td>\n",
       "      <td>225</td>\n",
       "      <td>222</td>\n",
       "      <td>229</td>\n",
       "      <td>163</td>\n",
       "    </tr>\n",
       "    <tr>\n",
       "      <th>4</th>\n",
       "      <td>13</td>\n",
       "      <td>164</td>\n",
       "      <td>167</td>\n",
       "      <td>170</td>\n",
       "      <td>172</td>\n",
       "      <td>176</td>\n",
       "      <td>179</td>\n",
       "      <td>180</td>\n",
       "      <td>184</td>\n",
       "      <td>185</td>\n",
       "      <td>...</td>\n",
       "      <td>92</td>\n",
       "      <td>105</td>\n",
       "      <td>105</td>\n",
       "      <td>108</td>\n",
       "      <td>133</td>\n",
       "      <td>163</td>\n",
       "      <td>157</td>\n",
       "      <td>163</td>\n",
       "      <td>164</td>\n",
       "      <td>179</td>\n",
       "    </tr>\n",
       "    <tr>\n",
       "      <th>5</th>\n",
       "      <td>16</td>\n",
       "      <td>161</td>\n",
       "      <td>168</td>\n",
       "      <td>172</td>\n",
       "      <td>173</td>\n",
       "      <td>178</td>\n",
       "      <td>184</td>\n",
       "      <td>189</td>\n",
       "      <td>193</td>\n",
       "      <td>196</td>\n",
       "      <td>...</td>\n",
       "      <td>76</td>\n",
       "      <td>74</td>\n",
       "      <td>68</td>\n",
       "      <td>62</td>\n",
       "      <td>53</td>\n",
       "      <td>55</td>\n",
       "      <td>48</td>\n",
       "      <td>238</td>\n",
       "      <td>255</td>\n",
       "      <td>255</td>\n",
       "    </tr>\n",
       "  </tbody>\n",
       "</table>\n",
       "<p>6 rows × 785 columns</p>\n",
       "</div>"
      ],
      "text/plain": [
       "   label  pixel1  pixel2  pixel3  pixel4  pixel5  pixel6  pixel7  pixel8  \\\n",
       "0      3     107     118     127     134     139     143     146     150   \n",
       "1      6     155     157     156     156     156     157     156     158   \n",
       "2      2     187     188     188     187     187     186     187     188   \n",
       "3      2     211     211     212     212     211     210     211     210   \n",
       "4     13     164     167     170     172     176     179     180     184   \n",
       "5     16     161     168     172     173     178     184     189     193   \n",
       "\n",
       "   pixel9  ...  pixel775  pixel776  pixel777  pixel778  pixel779  pixel780  \\\n",
       "0     153  ...       207       207       207       207       206       206   \n",
       "1     158  ...        69       149       128        87        94       163   \n",
       "2     187  ...       202       201       200       199       198       199   \n",
       "3     210  ...       235       234       233       231       230       226   \n",
       "4     185  ...        92       105       105       108       133       163   \n",
       "5     196  ...        76        74        68        62        53        55   \n",
       "\n",
       "   pixel781  pixel782  pixel783  pixel784  \n",
       "0       206       204       203       202  \n",
       "1       175       103       135       149  \n",
       "2       198       195       194       195  \n",
       "3       225       222       229       163  \n",
       "4       157       163       164       179  \n",
       "5        48       238       255       255  \n",
       "\n",
       "[6 rows x 785 columns]"
      ]
     },
     "execution_count": 3,
     "metadata": {},
     "output_type": "execute_result"
    }
   ],
   "source": [
    "train_data.head(6)"
   ]
  },
  {
   "cell_type": "code",
   "execution_count": 4,
   "metadata": {},
   "outputs": [
    {
     "data": {
      "text/plain": [
       "0     3\n",
       "1     6\n",
       "2     2\n",
       "3     2\n",
       "4    13\n",
       "Name: label, dtype: int64"
      ]
     },
     "execution_count": 4,
     "metadata": {},
     "output_type": "execute_result"
    }
   ],
   "source": [
    "y_train = train_data.iloc[:,0]\n",
    "y_train.head()"
   ]
  },
  {
   "cell_type": "code",
   "execution_count": 5,
   "metadata": {},
   "outputs": [
    {
     "data": {
      "text/plain": [
       "label\n",
       "0    1126\n",
       "1    1010\n",
       "2    1144\n",
       "3    1196\n",
       "4     957\n",
       "Name: label, dtype: int64"
      ]
     },
     "execution_count": 5,
     "metadata": {},
     "output_type": "execute_result"
    }
   ],
   "source": [
    "train_label_freq = y_train.groupby(y_train).count()\n",
    "train_label_freq.head()"
   ]
  },
  {
   "cell_type": "code",
   "execution_count": 6,
   "metadata": {},
   "outputs": [
    {
     "data": {
      "text/plain": [
       "<AxesSubplot:xlabel='label'>"
      ]
     },
     "execution_count": 6,
     "metadata": {},
     "output_type": "execute_result"
    },
    {
     "data": {
      "image/png": "[encoded data removed]",
      "text/plain": [
       "<Figure size 432x288 with 1 Axes>"
      ]
     },
     "metadata": {
      "needs_background": "light"
     },
     "output_type": "display_data"
    }
   ],
   "source": [
    "\n",
    "\n",
    "train_label_freq.plot.bar()"
   ]
  },
  {
   "cell_type": "markdown",
   "metadata": {},
   "source": [
    "dataset appears balanced enough for training"
   ]
  },
  {
   "cell_type": "code",
   "execution_count": 7,
   "metadata": {},
   "outputs": [
    {
     "data": {
      "text/html": [
       "<div>\n",
       "<style scoped>\n",
       "    .dataframe tbody tr th:only-of-type {\n",
       "        vertical-align: middle;\n",
       "    }\n",
       "\n",
       "    .dataframe tbody tr th {\n",
       "        vertical-align: top;\n",
       "    }\n",
       "\n",
       "    .dataframe thead th {\n",
       "        text-align: right;\n",
       "    }\n",
       "</style>\n",
       "<table border=\"1\" class=\"dataframe\">\n",
       "  <thead>\n",
       "    <tr style=\"text-align: right;\">\n",
       "      <th></th>\n",
       "      <th>pixel1</th>\n",
       "      <th>pixel2</th>\n",
       "      <th>pixel3</th>\n",
       "      <th>pixel4</th>\n",
       "      <th>pixel5</th>\n",
       "      <th>pixel6</th>\n",
       "      <th>pixel7</th>\n",
       "      <th>pixel8</th>\n",
       "      <th>pixel9</th>\n",
       "      <th>pixel10</th>\n",
       "      <th>...</th>\n",
       "      <th>pixel775</th>\n",
       "      <th>pixel776</th>\n",
       "      <th>pixel777</th>\n",
       "      <th>pixel778</th>\n",
       "      <th>pixel779</th>\n",
       "      <th>pixel780</th>\n",
       "      <th>pixel781</th>\n",
       "      <th>pixel782</th>\n",
       "      <th>pixel783</th>\n",
       "      <th>pixel784</th>\n",
       "    </tr>\n",
       "  </thead>\n",
       "  <tbody>\n",
       "    <tr>\n",
       "      <th>0</th>\n",
       "      <td>107</td>\n",
       "      <td>118</td>\n",
       "      <td>127</td>\n",
       "      <td>134</td>\n",
       "      <td>139</td>\n",
       "      <td>143</td>\n",
       "      <td>146</td>\n",
       "      <td>150</td>\n",
       "      <td>153</td>\n",
       "      <td>156</td>\n",
       "      <td>...</td>\n",
       "      <td>207</td>\n",
       "      <td>207</td>\n",
       "      <td>207</td>\n",
       "      <td>207</td>\n",
       "      <td>206</td>\n",
       "      <td>206</td>\n",
       "      <td>206</td>\n",
       "      <td>204</td>\n",
       "      <td>203</td>\n",
       "      <td>202</td>\n",
       "    </tr>\n",
       "    <tr>\n",
       "      <th>1</th>\n",
       "      <td>155</td>\n",
       "      <td>157</td>\n",
       "      <td>156</td>\n",
       "      <td>156</td>\n",
       "      <td>156</td>\n",
       "      <td>157</td>\n",
       "      <td>156</td>\n",
       "      <td>158</td>\n",
       "      <td>158</td>\n",
       "      <td>157</td>\n",
       "      <td>...</td>\n",
       "      <td>69</td>\n",
       "      <td>149</td>\n",
       "      <td>128</td>\n",
       "      <td>87</td>\n",
       "      <td>94</td>\n",
       "      <td>163</td>\n",
       "      <td>175</td>\n",
       "      <td>103</td>\n",
       "      <td>135</td>\n",
       "      <td>149</td>\n",
       "    </tr>\n",
       "    <tr>\n",
       "      <th>2</th>\n",
       "      <td>187</td>\n",
       "      <td>188</td>\n",
       "      <td>188</td>\n",
       "      <td>187</td>\n",
       "      <td>187</td>\n",
       "      <td>186</td>\n",
       "      <td>187</td>\n",
       "      <td>188</td>\n",
       "      <td>187</td>\n",
       "      <td>186</td>\n",
       "      <td>...</td>\n",
       "      <td>202</td>\n",
       "      <td>201</td>\n",
       "      <td>200</td>\n",
       "      <td>199</td>\n",
       "      <td>198</td>\n",
       "      <td>199</td>\n",
       "      <td>198</td>\n",
       "      <td>195</td>\n",
       "      <td>194</td>\n",
       "      <td>195</td>\n",
       "    </tr>\n",
       "    <tr>\n",
       "      <th>3</th>\n",
       "      <td>211</td>\n",
       "      <td>211</td>\n",
       "      <td>212</td>\n",
       "      <td>212</td>\n",
       "      <td>211</td>\n",
       "      <td>210</td>\n",
       "      <td>211</td>\n",
       "      <td>210</td>\n",
       "      <td>210</td>\n",
       "      <td>211</td>\n",
       "      <td>...</td>\n",
       "      <td>235</td>\n",
       "      <td>234</td>\n",
       "      <td>233</td>\n",
       "      <td>231</td>\n",
       "      <td>230</td>\n",
       "      <td>226</td>\n",
       "      <td>225</td>\n",
       "      <td>222</td>\n",
       "      <td>229</td>\n",
       "      <td>163</td>\n",
       "    </tr>\n",
       "    <tr>\n",
       "      <th>4</th>\n",
       "      <td>164</td>\n",
       "      <td>167</td>\n",
       "      <td>170</td>\n",
       "      <td>172</td>\n",
       "      <td>176</td>\n",
       "      <td>179</td>\n",
       "      <td>180</td>\n",
       "      <td>184</td>\n",
       "      <td>185</td>\n",
       "      <td>186</td>\n",
       "      <td>...</td>\n",
       "      <td>92</td>\n",
       "      <td>105</td>\n",
       "      <td>105</td>\n",
       "      <td>108</td>\n",
       "      <td>133</td>\n",
       "      <td>163</td>\n",
       "      <td>157</td>\n",
       "      <td>163</td>\n",
       "      <td>164</td>\n",
       "      <td>179</td>\n",
       "    </tr>\n",
       "  </tbody>\n",
       "</table>\n",
       "<p>5 rows × 784 columns</p>\n",
       "</div>"
      ],
      "text/plain": [
       "   pixel1  pixel2  pixel3  pixel4  pixel5  pixel6  pixel7  pixel8  pixel9  \\\n",
       "0     107     118     127     134     139     143     146     150     153   \n",
       "1     155     157     156     156     156     157     156     158     158   \n",
       "2     187     188     188     187     187     186     187     188     187   \n",
       "3     211     211     212     212     211     210     211     210     210   \n",
       "4     164     167     170     172     176     179     180     184     185   \n",
       "\n",
       "   pixel10  ...  pixel775  pixel776  pixel777  pixel778  pixel779  pixel780  \\\n",
       "0      156  ...       207       207       207       207       206       206   \n",
       "1      157  ...        69       149       128        87        94       163   \n",
       "2      186  ...       202       201       200       199       198       199   \n",
       "3      211  ...       235       234       233       231       230       226   \n",
       "4      186  ...        92       105       105       108       133       163   \n",
       "\n",
       "   pixel781  pixel782  pixel783  pixel784  \n",
       "0       206       204       203       202  \n",
       "1       175       103       135       149  \n",
       "2       198       195       194       195  \n",
       "3       225       222       229       163  \n",
       "4       157       163       164       179  \n",
       "\n",
       "[5 rows x 784 columns]"
      ]
     },
     "execution_count": 7,
     "metadata": {},
     "output_type": "execute_result"
    }
   ],
   "source": [
    "X_train = train_data.iloc[:,1:]\n",
    "X_train.head()"
   ]
  },
  {
   "cell_type": "code",
   "execution_count": 8,
   "metadata": {},
   "outputs": [],
   "source": [
    "y_test = test_data.iloc[:,0]\n",
    "X_test = test_data.iloc[:,1:]"
   ]
  },
  {
   "cell_type": "code",
   "execution_count": null,
   "metadata": {},
   "outputs": [],
   "source": []
  },
  {
   "cell_type": "markdown",
   "metadata": {},
   "source": [
    "    From the class notebook section BUILDING A CNN USING TENSORFLOW     "
   ]
  },
  {
   "cell_type": "code",
   "execution_count": 8,
   "metadata": {},
   "outputs": [],
   "source": [
    "# Specific neural network models & layer types\n",
    "from tensorflow.keras.models import Sequential\n",
    "\n",
    "from tensorflow.keras.layers import Dense\n",
    "from tensorflow.keras.layers import Dropout\n",
    "\n",
    "\n",
    "from tensorflow.keras.layers import Conv2D\n",
    "from tensorflow.keras.layers import MaxPooling2D\n",
    "from tensorflow.keras.layers import Flatten"
   ]
  },
  {
   "cell_type": "code",
   "execution_count": 3,
   "metadata": {},
   "outputs": [
    {
     "ename": "NameError",
     "evalue": "name 'X_train' is not defined",
     "output_type": "error",
     "traceback": [
      "\u001b[1;31m---------------------------------------------------------------------------\u001b[0m",
      "\u001b[1;31mNameError\u001b[0m                                 Traceback (most recent call last)",
      "\u001b[1;32m<ipython-input-3-cc9c4b76deb5>\u001b[0m in \u001b[0;36m<module>\u001b[1;34m\u001b[0m\n\u001b[0;32m      1\u001b[0m \u001b[1;31m# Check out the data\u001b[0m\u001b[1;33m\u001b[0m\u001b[1;33m\u001b[0m\u001b[1;33m\u001b[0m\u001b[0m\n\u001b[1;32m----> 2\u001b[1;33m \u001b[0mprint\u001b[0m\u001b[1;33m(\u001b[0m\u001b[1;34mf'X_train shape: {X_train.shape}'\u001b[0m\u001b[1;33m)\u001b[0m\u001b[1;33m\u001b[0m\u001b[1;33m\u001b[0m\u001b[0m\n\u001b[0m\u001b[0;32m      3\u001b[0m \u001b[0mprint\u001b[0m\u001b[1;33m(\u001b[0m\u001b[1;34mf'y_train shape: {y_train.shape}'\u001b[0m\u001b[1;33m)\u001b[0m\u001b[1;33m\u001b[0m\u001b[1;33m\u001b[0m\u001b[0m\n\u001b[0;32m      4\u001b[0m \u001b[0mprint\u001b[0m\u001b[1;33m(\u001b[0m\u001b[1;34mf'X_test shape: {X_test.shape}'\u001b[0m\u001b[1;33m)\u001b[0m\u001b[1;33m\u001b[0m\u001b[1;33m\u001b[0m\u001b[0m\n\u001b[0;32m      5\u001b[0m \u001b[0mprint\u001b[0m\u001b[1;33m(\u001b[0m\u001b[1;34mf'y_test shape: {y_test.shape}'\u001b[0m\u001b[1;33m)\u001b[0m\u001b[1;33m\u001b[0m\u001b[1;33m\u001b[0m\u001b[0m\n",
      "\u001b[1;31mNameError\u001b[0m: name 'X_train' is not defined"
     ]
    }
   ],
   "source": [
    "# Check out the data\n",
    "print(f'X_train shape: {X_train.shape}')\n",
    "print(f'y_train shape: {y_train.shape}')\n",
    "print(f'X_test shape: {X_test.shape}')\n",
    "print(f'y_test shape: {y_test.shape}')"
   ]
  },
  {
   "cell_type": "code",
   "execution_count": 4,
   "metadata": {},
   "outputs": [
    {
     "ename": "NameError",
     "evalue": "name 'X_train' is not defined",
     "output_type": "error",
     "traceback": [
      "\u001b[1;31m---------------------------------------------------------------------------\u001b[0m",
      "\u001b[1;31mNameError\u001b[0m                                 Traceback (most recent call last)",
      "\u001b[1;32m<ipython-input-4-dc940b0df754>\u001b[0m in \u001b[0;36m<module>\u001b[1;34m\u001b[0m\n\u001b[0;32m      1\u001b[0m \u001b[1;31m# range of x values\u001b[0m\u001b[1;33m\u001b[0m\u001b[1;33m\u001b[0m\u001b[1;33m\u001b[0m\u001b[0m\n\u001b[1;32m----> 2\u001b[1;33m \u001b[0mprint\u001b[0m\u001b[1;33m(\u001b[0m\u001b[1;34mf'X range: {X_train.min()[0]}-{X_train.max()[0]}'\u001b[0m\u001b[1;33m)\u001b[0m \u001b[1;31m#just for show\u001b[0m\u001b[1;33m\u001b[0m\u001b[1;33m\u001b[0m\u001b[0m\n\u001b[0m\u001b[0;32m      3\u001b[0m \u001b[1;31m# y unique values\u001b[0m\u001b[1;33m\u001b[0m\u001b[1;33m\u001b[0m\u001b[1;33m\u001b[0m\u001b[0m\n\u001b[0;32m      4\u001b[0m \u001b[0mprint\u001b[0m\u001b[1;33m(\u001b[0m\u001b[1;34mf'y values: {np.unique(y_train)}'\u001b[0m\u001b[1;33m)\u001b[0m\u001b[1;33m\u001b[0m\u001b[1;33m\u001b[0m\u001b[0m\n\u001b[0;32m      5\u001b[0m \u001b[0mnum_classes\u001b[0m \u001b[1;33m=\u001b[0m \u001b[0mlen\u001b[0m\u001b[1;33m(\u001b[0m\u001b[0mnp\u001b[0m\u001b[1;33m.\u001b[0m\u001b[0munique\u001b[0m\u001b[1;33m(\u001b[0m\u001b[0my_train\u001b[0m\u001b[1;33m)\u001b[0m\u001b[1;33m)\u001b[0m\u001b[1;33m\u001b[0m\u001b[1;33m\u001b[0m\u001b[0m\n",
      "\u001b[1;31mNameError\u001b[0m: name 'X_train' is not defined"
     ]
    }
   ],
   "source": [
    "# range of x values\n",
    "print(f'X range: {X_train.min()[0]}-{X_train.max()[0]}') #just for show\n",
    "# y unique values\n",
    "print(f'y values: {np.unique(y_train)}')\n",
    "num_classes = len(np.unique(y_train))\n",
    "print(f'Number of classes: {num_classes}') #no 9's present"
   ]
  },
  {
   "cell_type": "code",
   "execution_count": 12,
   "metadata": {},
   "outputs": [
    {
     "data": {
      "text/plain": [
       "<matplotlib.image.AxesImage at 0x23dcf309b80>"
      ]
     },
     "execution_count": 12,
     "metadata": {},
     "output_type": "execute_result"
    },
    {
     "data": {
      "image/png": "[encoded data removed]",
      "text/plain": [
       "<Figure size 432x288 with 1 Axes>"
      ]
     },
     "metadata": {
      "needs_background": "light"
     },
     "output_type": "display_data"
    }
   ],
   "source": [
    "# plt.pyplot.imshow(X_train.iloc[0,:]) \n",
    "# error generated: Invalid shape (784,) for image data\n",
    "#sqrt(784) = 28\n",
    "sample_image = X_train.iloc[0,:].values.reshape(28,28)\n",
    "plt.pyplot.imshow(sample_image, cmap = 'gray')"
   ]
  },
  {
   "cell_type": "markdown",
   "metadata": {},
   "source": [
    "creating an __X_train__ array of 28x28 images"
   ]
  },
  {
   "cell_type": "code",
   "execution_count": 13,
   "metadata": {},
   "outputs": [
    {
     "data": {
      "image/png": "[encoded data removed]",
      "text/plain": [
       "<Figure size 432x288 with 1 Axes>"
      ]
     },
     "metadata": {
      "needs_background": "light"
     },
     "output_type": "display_data"
    },
    {
     "data": {
      "image/png": "[encoded data removed]",
      "text/plain": [
       "<Figure size 432x288 with 1 Axes>"
      ]
     },
     "metadata": {
      "needs_background": "light"
     },
     "output_type": "display_data"
    },
    {
     "data": {
      "text/plain": [
       "(27455, 28, 28)"
      ]
     },
     "execution_count": 13,
     "metadata": {},
     "output_type": "execute_result"
    }
   ],
   "source": [
    "X_images_train = []\n",
    "for n in range(X_train.shape[0]):\n",
    "    nth_image = X_train.iloc[n,:].values.reshape(28,28)\n",
    "    X_images_train.append(nth_image)\n",
    "\n",
    "#showing results\n",
    "plt.pyplot.imshow(X_images_train[0], cmap = 'gray')\n",
    "plt.pyplot.show()\n",
    "plt.pyplot.imshow(X_images_train[1], cmap = 'gray')\n",
    "plt.pyplot.show()\n",
    "np.array(X_images_train).shape"
   ]
  },
  {
   "cell_type": "markdown",
   "metadata": {},
   "source": [
    "Creating a matching __X_test__ array of 28x28 images"
   ]
  },
  {
   "cell_type": "code",
   "execution_count": 14,
   "metadata": {},
   "outputs": [
    {
     "data": {
      "image/png": "[encoded data removed]",
      "text/plain": [
       "<Figure size 432x288 with 1 Axes>"
      ]
     },
     "metadata": {
      "needs_background": "light"
     },
     "output_type": "display_data"
    },
    {
     "data": {
      "image/png": "[encoded data removed]",
      "text/plain": [
       "<Figure size 432x288 with 1 Axes>"
      ]
     },
     "metadata": {
      "needs_background": "light"
     },
     "output_type": "display_data"
    },
    {
     "data": {
      "text/plain": [
       "(27455, 28, 28)"
      ]
     },
     "execution_count": 14,
     "metadata": {},
     "output_type": "execute_result"
    }
   ],
   "source": [
    "X_images_test = []\n",
    "for n in range(X_test.shape[0]):\n",
    "    nth_image = X_test.iloc[n,:].values.reshape(28,28)\n",
    "    X_images_test.append(nth_image)\n",
    "\n",
    "\n",
    "plt.pyplot.imshow(X_images_test[0], cmap = 'gray')\n",
    "plt.pyplot.show()\n",
    "plt.pyplot.imshow(X_images_test[1], cmap = 'gray')\n",
    "plt.pyplot.show()\n",
    "np.array(X_images_train).shape"
   ]
  },
  {
   "cell_type": "code",
   "execution_count": 15,
   "metadata": {},
   "outputs": [
    {
     "name": "stdout",
     "output_type": "stream",
     "text": [
      "X_train shape: (27455, 28, 28, 1)\n",
      "X_test shape: (7172, 28, 28, 1)\n"
     ]
    }
   ],
   "source": [
    "# Define input image dimensions\n",
    "img_rows, img_cols = 28, 28\n",
    "# Reshape for Keras model types\n",
    "X_train = X_train.values.reshape(X_train.shape[0], img_rows, img_cols, 1)\n",
    "X_test = X_test.values.reshape(X_test.shape[0], img_rows, img_cols, 1)\n",
    "\n",
    "print(f'X_train shape: {X_train.shape}')\n",
    "print(f'X_test shape: {X_test.shape}')\n"
   ]
  },
  {
   "cell_type": "markdown",
   "metadata": {},
   "source": [
    "Scaling pixel values from 0-255 to 0-1 linearly (min-max scaling)"
   ]
  },
  {
   "cell_type": "code",
   "execution_count": 16,
   "metadata": {},
   "outputs": [
    {
     "name": "stdout",
     "output_type": "stream",
     "text": [
      "X_train range: 0.0-1.0\n"
     ]
    }
   ],
   "source": [
    "X_train = X_train.astype('float32') / 255\n",
    "X_test = X_test.astype('float32') / 255\n",
    "\n",
    "print(f'X_train range: {X_train.min()}-{X_train.max()}')"
   ]
  },
  {
   "cell_type": "markdown",
   "metadata": {},
   "source": [
    "Replicating X_train and X_test for later use in cross validation"
   ]
  },
  {
   "cell_type": "code",
   "execution_count": 17,
   "metadata": {},
   "outputs": [],
   "source": [
    "X_train_copy = X_train\n",
    "X_test_copy = X_test"
   ]
  },
  {
   "cell_type": "markdown",
   "metadata": {},
   "source": [
    "Constructing the CNN model"
   ]
  },
  {
   "cell_type": "code",
   "execution_count": 20,
   "metadata": {
    "scrolled": true
   },
   "outputs": [
    {
     "name": "stdout",
     "output_type": "stream",
     "text": [
      "Model: \"sequential_2\"\n",
      "_________________________________________________________________\n",
      "Layer (type)                 Output Shape              Param #   \n",
      "=================================================================\n",
      "conv2d_4 (Conv2D)            (None, 26, 26, 32)        896       \n",
      "_________________________________________________________________\n",
      "conv2d_5 (Conv2D)            (None, 24, 24, 64)        18496     \n",
      "_________________________________________________________________\n",
      "max_pooling2d_2 (MaxPooling2 (None, 12, 12, 64)        0         \n",
      "_________________________________________________________________\n",
      "dropout_4 (Dropout)          (None, 12, 12, 64)        0         \n",
      "_________________________________________________________________\n",
      "flatten_2 (Flatten)          (None, 9216)              0         \n",
      "_________________________________________________________________\n",
      "dense_3 (Dense)              (None, 128)               1179776   \n",
      "_________________________________________________________________\n",
      "dropout_5 (Dropout)          (None, 128)               0         \n",
      "_________________________________________________________________\n",
      "dense_4 (Dense)              (None, 29)                3741      \n",
      "=================================================================\n",
      "Total params: 1,202,909\n",
      "Trainable params: 1,202,909\n",
      "Non-trainable params: 0\n",
      "_________________________________________________________________\n"
     ]
    }
   ],
   "source": [
    "CNN_model_0 = Sequential()\n",
    "\n",
    "\n",
    "\n",
    "\n",
    "\n",
    "CNN_model_0.add(Conv2D(32, kernel_size=(3, 3), activation = 'relu', input_shape = (28, 28, 1)))\n",
    "\n",
    "CNN_model_0.add(Conv2D(64, (3, 3), activation='relu'))\n",
    "CNN_model_0.add(MaxPooling2D(pool_size=(2, 2))) #avg pooling may also be used\n",
    "\n",
    "CNN_model_0.add(Dropout(0.25)) #dropout may be varied here\n",
    "\n",
    "\n",
    "\n",
    "CNN_model_0.add(Flatten())\n",
    "\n",
    "\n",
    "CNN_model_0.add(Dense(128, activation='relu'))\n",
    "CNN_model_0.add(Dropout(0.5))\n",
    "\n",
    "# num_classes was here, but as the labels are missing an int before 24,\n",
    "# num_classes is too small\n",
    "# if this results in it guessing a nonexistant class or something\n",
    "# here may be why\n",
    "CNN_model_0.add(Dense(num_classes+1, activation='softmax'))\n",
    "\n",
    "# Print out a summary of the network\n",
    "CNN_model_0.summary()"
   ]
  },
  {
   "cell_type": "markdown",
   "metadata": {},
   "source": [
    "Compiling"
   ]
  },
  {
   "cell_type": "code",
   "execution_count": 22,
   "metadata": {},
   "outputs": [],
   "source": [
    "CNN_model_0.compile(loss = 'sparse_categorical_crossentropy', #loss function\n",
    "                  optimizer = 'Adam',\n",
    "                  metrics = ['accuracy']) #value to maximize"
   ]
  },
  {
   "cell_type": "markdown",
   "metadata": {},
   "source": [
    "Training"
   ]
  },
  {
   "cell_type": "code",
   "execution_count": 20,
   "metadata": {},
   "outputs": [],
   "source": [
    "X_train, X_vali, y_train, y_vali = train_test_split(X_train, y_train,\n",
    "                                                    test_size = .32, random_state = 1)"
   ]
  },
  {
   "cell_type": "code",
   "execution_count": 21,
   "metadata": {},
   "outputs": [
    {
     "name": "stdout",
     "output_type": "stream",
     "text": [
      "Epoch 1/5\n",
      "146/146 [==============================] - 22s 150ms/step - loss: 1.8805 - accuracy: 0.4498 - val_loss: 0.4476 - val_accuracy: 0.9181\n",
      "Epoch 2/5\n",
      "146/146 [==============================] - 21s 142ms/step - loss: 0.4916 - accuracy: 0.8407 - val_loss: 0.0847 - val_accuracy: 0.9890\n",
      "Epoch 3/5\n",
      "146/146 [==============================] - 20s 140ms/step - loss: 0.2203 - accuracy: 0.9317 - val_loss: 0.0254 - val_accuracy: 0.9987\n",
      "Epoch 4/5\n",
      "146/146 [==============================] - 20s 140ms/step - loss: 0.1332 - accuracy: 0.9591 - val_loss: 0.0069 - val_accuracy: 1.0000\n",
      "Epoch 5/5\n",
      "146/146 [==============================] - 20s 140ms/step - loss: 0.0998 - accuracy: 0.9700 - val_loss: 0.0044 - val_accuracy: 1.0000\n"
     ]
    },
    {
     "data": {
      "text/plain": [
       "<tensorflow.python.keras.callbacks.History at 0x23dd2220fa0>"
      ]
     },
     "execution_count": 21,
     "metadata": {},
     "output_type": "execute_result"
    }
   ],
   "source": [
    "# Fit the model on the training data, defining desired batch_size & number of epochs,\n",
    "# running validation on the test data after each batch\n",
    "# THIS WILL TAKE A LONG TIME TO RUN!!!\n",
    "CNN_model_0.fit(X_train, y_train,\n",
    "              batch_size = 128,\n",
    "              epochs = 5,\n",
    "              verbose = 1,\n",
    "              validation_data = (X_vali, y_vali))"
   ]
  },
  {
   "cell_type": "markdown",
   "metadata": {},
   "source": [
    "evaluating via test data"
   ]
  },
  {
   "cell_type": "code",
   "execution_count": 22,
   "metadata": {},
   "outputs": [
    {
     "name": "stdout",
     "output_type": "stream",
     "text": [
      "225/225 [==============================] - 2s 10ms/step - loss: 0.5013 - accuracy: 0.8801\n",
      "Test loss: 0.5012662410736084\n",
      "Test accuracy: 0.8800892233848572\n"
     ]
    }
   ],
   "source": [
    "score = CNN_model_0.evaluate(X_test, y_test, verbose=1)\n",
    "\n",
    "print('Test loss:', score[0])\n",
    "print('Test accuracy:', score[1])"
   ]
  },
  {
   "cell_type": "markdown",
   "metadata": {},
   "source": [
    "Time required for a single image"
   ]
  },
  {
   "cell_type": "code",
   "execution_count": 23,
   "metadata": {},
   "outputs": [
    {
     "data": {
      "text/plain": [
       "(7172, 28, 28, 1)"
      ]
     },
     "execution_count": 23,
     "metadata": {},
     "output_type": "execute_result"
    }
   ],
   "source": [
    "X_test.shape"
   ]
  },
  {
   "cell_type": "code",
   "execution_count": 24,
   "metadata": {},
   "outputs": [],
   "source": [
    "X_test_one_pic = X_test[0,:,:,:]\n",
    "y_test_one_pic = y_test[0]"
   ]
  },
  {
   "cell_type": "code",
   "execution_count": 25,
   "metadata": {},
   "outputs": [
    {
     "data": {
      "text/plain": [
       "6"
      ]
     },
     "execution_count": 25,
     "metadata": {},
     "output_type": "execute_result"
    }
   ],
   "source": [
    "y_test_one_pic"
   ]
  },
  {
   "cell_type": "code",
   "execution_count": 26,
   "metadata": {},
   "outputs": [],
   "source": [
    "X_test_one_pic = X_test_one_pic.reshape(1,\n",
    "                                        X_test_one_pic.shape[0],\n",
    "                                        X_test_one_pic.shape[1],\n",
    "                                        X_test_one_pic.shape[2])\n",
    "\n",
    "y_test_one_pic = y_test_one_pic.reshape(1)"
   ]
  },
  {
   "cell_type": "code",
   "execution_count": 27,
   "metadata": {},
   "outputs": [
    {
     "data": {
      "text/plain": [
       "(1, 28, 28, 1)"
      ]
     },
     "execution_count": 27,
     "metadata": {},
     "output_type": "execute_result"
    }
   ],
   "source": [
    "X_test_one_pic.shape"
   ]
  },
  {
   "cell_type": "code",
   "execution_count": 28,
   "metadata": {},
   "outputs": [
    {
     "data": {
      "text/plain": [
       "numpy.ndarray"
      ]
     },
     "execution_count": 28,
     "metadata": {},
     "output_type": "execute_result"
    }
   ],
   "source": [
    "type(X_test_one_pic)"
   ]
  },
  {
   "cell_type": "code",
   "execution_count": 29,
   "metadata": {},
   "outputs": [
    {
     "data": {
      "text/plain": [
       "(1,)"
      ]
     },
     "execution_count": 29,
     "metadata": {},
     "output_type": "execute_result"
    }
   ],
   "source": [
    "y_test_one_pic.shape"
   ]
  },
  {
   "cell_type": "code",
   "execution_count": 30,
   "metadata": {},
   "outputs": [
    {
     "data": {
      "text/plain": [
       "numpy.ndarray"
      ]
     },
     "execution_count": 30,
     "metadata": {},
     "output_type": "execute_result"
    }
   ],
   "source": [
    "type(y_test_one_pic)"
   ]
  },
  {
   "cell_type": "code",
   "execution_count": 31,
   "metadata": {},
   "outputs": [],
   "source": [
    "y_test_one_pic = np.array(y_test_one_pic)"
   ]
  },
  {
   "cell_type": "code",
   "execution_count": 32,
   "metadata": {},
   "outputs": [
    {
     "name": "stdout",
     "output_type": "stream",
     "text": [
      "1/1 [==============================] - 0s 2ms/step\n"
     ]
    }
   ],
   "source": [
    "#finding the time for a single image recognition\n",
    "score = CNN_model.predict(X_test_one_pic, verbose=1)"
   ]
  },
  {
   "cell_type": "code",
   "execution_count": 33,
   "metadata": {},
   "outputs": [
    {
     "data": {
      "text/plain": [
       "<AxesSubplot:>"
      ]
     },
     "execution_count": 33,
     "metadata": {},
     "output_type": "execute_result"
    },
    {
     "data": {
      "image/png": "[encoded data removed]",
      "text/plain": [
       "<Figure size 432x288 with 2 Axes>"
      ]
     },
     "metadata": {
      "needs_background": "light"
     },
     "output_type": "display_data"
    }
   ],
   "source": [
    "sns.heatmap(score, cmap = 'gray')"
   ]
  },
  {
   "cell_type": "markdown",
   "metadata": {},
   "source": [
    "## Improvement paths from starting model"
   ]
  },
  {
   "cell_type": "markdown",
   "metadata": {},
   "source": [
    "Improvement paths:\n",
    "To improve **accuracy**, try optimizing for epochs and other hyperparameters via [grid search](https://mlfromscratch.com/gridsearch-keras-sklearn/#/). \n",
    "\n",
    "To improve **time**, try other short NN's.\n",
    "\n",
    "To improve **accuracy for video response**, try using the grassnoted dataset as it is more diverse in RGB and in skin tone."
   ]
  },
  {
   "cell_type": "markdown",
   "metadata": {},
   "source": [
    "## Optimizing hyperparameters via grid search (useful for smaller CNN's)\n",
    "Code from the guide [here](https://mlfromscratch.com/gridsearch-keras-sklearn/#/) by Casper Hansen."
   ]
  },
  {
   "cell_type": "code",
   "execution_count": 34,
   "metadata": {},
   "outputs": [
    {
     "data": {
      "text/plain": [
       "array([[[[0.58431375],\n",
       "         [0.58431375],\n",
       "         [0.5882353 ],\n",
       "         ...,\n",
       "         [0.5882353 ],\n",
       "         [0.5882353 ],\n",
       "         [0.58431375]],\n",
       "\n",
       "        [[0.5882353 ],\n",
       "         [0.5882353 ],\n",
       "         [0.5882353 ],\n",
       "         ...,\n",
       "         [0.5921569 ],\n",
       "         [0.5882353 ],\n",
       "         [0.5921569 ]],\n",
       "\n",
       "        [[0.5882353 ],\n",
       "         [0.5921569 ],\n",
       "         [0.5921569 ],\n",
       "         ...,\n",
       "         [0.5921569 ],\n",
       "         [0.5921569 ],\n",
       "         [0.59607846]],\n",
       "\n",
       "        ...,\n",
       "\n",
       "        [[0.27058825],\n",
       "         [0.27058825],\n",
       "         [0.3019608 ],\n",
       "         ...,\n",
       "         [0.45490196],\n",
       "         [0.44313726],\n",
       "         [0.4627451 ]],\n",
       "\n",
       "        [[0.2901961 ],\n",
       "         [0.29411766],\n",
       "         [0.29803923],\n",
       "         ...,\n",
       "         [0.43137255],\n",
       "         [0.45490196],\n",
       "         [0.44313726]],\n",
       "\n",
       "        [[0.29411766],\n",
       "         [0.2901961 ],\n",
       "         [0.2901961 ],\n",
       "         ...,\n",
       "         [0.4392157 ],\n",
       "         [0.47058824],\n",
       "         [0.41960785]]],\n",
       "\n",
       "\n",
       "       [[[0.49411765],\n",
       "         [0.5019608 ],\n",
       "         [0.5137255 ],\n",
       "         ...,\n",
       "         [0.52156866],\n",
       "         [0.5254902 ],\n",
       "         [0.5176471 ]],\n",
       "\n",
       "        [[0.5058824 ],\n",
       "         [0.5176471 ],\n",
       "         [0.5254902 ],\n",
       "         ...,\n",
       "         [0.53333336],\n",
       "         [0.53333336],\n",
       "         [0.5254902 ]],\n",
       "\n",
       "        [[0.52156866],\n",
       "         [0.5294118 ],\n",
       "         [0.5411765 ],\n",
       "         ...,\n",
       "         [0.54901963],\n",
       "         [0.54509807],\n",
       "         [0.5411765 ]],\n",
       "\n",
       "        ...,\n",
       "\n",
       "        [[0.6784314 ],\n",
       "         [0.68235296],\n",
       "         [0.69411767],\n",
       "         ...,\n",
       "         [0.72156864],\n",
       "         [0.7137255 ],\n",
       "         [0.70980394]],\n",
       "\n",
       "        [[0.6745098 ],\n",
       "         [0.68235296],\n",
       "         [0.69411767],\n",
       "         ...,\n",
       "         [0.72156864],\n",
       "         [0.7137255 ],\n",
       "         [0.70980394]],\n",
       "\n",
       "        [[0.6745098 ],\n",
       "         [0.68235296],\n",
       "         [0.69411767],\n",
       "         ...,\n",
       "         [0.72156864],\n",
       "         [0.7137255 ],\n",
       "         [0.7058824 ]]],\n",
       "\n",
       "\n",
       "       [[[0.33333334],\n",
       "         [0.34509805],\n",
       "         [0.36078432],\n",
       "         ...,\n",
       "         [0.7137255 ],\n",
       "         [0.70980394],\n",
       "         [0.69803923]],\n",
       "\n",
       "        [[0.3372549 ],\n",
       "         [0.34509805],\n",
       "         [0.3647059 ],\n",
       "         ...,\n",
       "         [0.7176471 ],\n",
       "         [0.70980394],\n",
       "         [0.7019608 ]],\n",
       "\n",
       "        [[0.3372549 ],\n",
       "         [0.34901962],\n",
       "         [0.3647059 ],\n",
       "         ...,\n",
       "         [0.7254902 ],\n",
       "         [0.7176471 ],\n",
       "         [0.70980394]],\n",
       "\n",
       "        ...,\n",
       "\n",
       "        [[0.35686275],\n",
       "         [0.36862746],\n",
       "         [0.38039216],\n",
       "         ...,\n",
       "         [0.8784314 ],\n",
       "         [0.87058824],\n",
       "         [0.8666667 ]],\n",
       "\n",
       "        [[0.3529412 ],\n",
       "         [0.36078432],\n",
       "         [0.3764706 ],\n",
       "         ...,\n",
       "         [0.88235295],\n",
       "         [0.8784314 ],\n",
       "         [0.87058824]],\n",
       "\n",
       "        [[0.34901962],\n",
       "         [0.35686275],\n",
       "         [0.36862746],\n",
       "         ...,\n",
       "         [0.88235295],\n",
       "         [0.8784314 ],\n",
       "         [0.87058824]]],\n",
       "\n",
       "\n",
       "       ...,\n",
       "\n",
       "\n",
       "       [[[0.74509805],\n",
       "         [0.7490196 ],\n",
       "         [0.74509805],\n",
       "         ...,\n",
       "         [0.7254902 ],\n",
       "         [0.72156864],\n",
       "         [0.7176471 ]],\n",
       "\n",
       "        [[0.75686276],\n",
       "         [0.75686276],\n",
       "         [0.75686276],\n",
       "         ...,\n",
       "         [0.7294118 ],\n",
       "         [0.7254902 ],\n",
       "         [0.72156864]],\n",
       "\n",
       "        [[0.7647059 ],\n",
       "         [0.7607843 ],\n",
       "         [0.7647059 ],\n",
       "         ...,\n",
       "         [0.73333335],\n",
       "         [0.7294118 ],\n",
       "         [0.73333335]],\n",
       "\n",
       "        ...,\n",
       "\n",
       "        [[0.8392157 ],\n",
       "         [0.84313726],\n",
       "         [0.8352941 ],\n",
       "         ...,\n",
       "         [0.8156863 ],\n",
       "         [0.8156863 ],\n",
       "         [0.8156863 ]],\n",
       "\n",
       "        [[0.8392157 ],\n",
       "         [0.84313726],\n",
       "         [0.81960785],\n",
       "         ...,\n",
       "         [0.81960785],\n",
       "         [0.8156863 ],\n",
       "         [0.8117647 ]],\n",
       "\n",
       "        [[0.84313726],\n",
       "         [0.84313726],\n",
       "         [0.8117647 ],\n",
       "         ...,\n",
       "         [0.827451  ],\n",
       "         [0.81960785],\n",
       "         [0.8156863 ]]],\n",
       "\n",
       "\n",
       "       [[[0.7882353 ],\n",
       "         [0.8039216 ],\n",
       "         [0.8156863 ],\n",
       "         ...,\n",
       "         [0.9372549 ],\n",
       "         [0.9372549 ],\n",
       "         [0.9372549 ]],\n",
       "\n",
       "        [[0.80784315],\n",
       "         [0.81960785],\n",
       "         [0.83137256],\n",
       "         ...,\n",
       "         [0.9490196 ],\n",
       "         [0.9490196 ],\n",
       "         [0.9490196 ]],\n",
       "\n",
       "        [[0.8235294 ],\n",
       "         [0.8392157 ],\n",
       "         [0.84705883],\n",
       "         ...,\n",
       "         [0.9647059 ],\n",
       "         [0.9607843 ],\n",
       "         [0.95686275]],\n",
       "\n",
       "        ...,\n",
       "\n",
       "        [[1.        ],\n",
       "         [1.        ],\n",
       "         [1.        ],\n",
       "         ...,\n",
       "         [1.        ],\n",
       "         [0.78431374],\n",
       "         [0.5568628 ]],\n",
       "\n",
       "        [[1.        ],\n",
       "         [1.        ],\n",
       "         [1.        ],\n",
       "         ...,\n",
       "         [0.3882353 ],\n",
       "         [0.3137255 ],\n",
       "         [0.3019608 ]],\n",
       "\n",
       "        [[1.        ],\n",
       "         [1.        ],\n",
       "         [1.        ],\n",
       "         ...,\n",
       "         [0.2627451 ],\n",
       "         [0.27450982],\n",
       "         [0.24705882]]],\n",
       "\n",
       "\n",
       "       [[[0.6784314 ],\n",
       "         [0.68235296],\n",
       "         [0.6784314 ],\n",
       "         ...,\n",
       "         [0.65882355],\n",
       "         [0.654902  ],\n",
       "         [0.6509804 ]],\n",
       "\n",
       "        [[0.6901961 ],\n",
       "         [0.6901961 ],\n",
       "         [0.6901961 ],\n",
       "         ...,\n",
       "         [0.65882355],\n",
       "         [0.65882355],\n",
       "         [0.654902  ]],\n",
       "\n",
       "        [[0.69803923],\n",
       "         [0.69411767],\n",
       "         [0.69803923],\n",
       "         ...,\n",
       "         [0.6627451 ],\n",
       "         [0.65882355],\n",
       "         [0.6627451 ]],\n",
       "\n",
       "        ...,\n",
       "\n",
       "        [[0.7764706 ],\n",
       "         [0.78039217],\n",
       "         [0.78039217],\n",
       "         ...,\n",
       "         [0.7529412 ],\n",
       "         [0.7529412 ],\n",
       "         [0.7529412 ]],\n",
       "\n",
       "        [[0.7764706 ],\n",
       "         [0.78431374],\n",
       "         [0.75686276],\n",
       "         ...,\n",
       "         [0.75686276],\n",
       "         [0.7529412 ],\n",
       "         [0.7490196 ]],\n",
       "\n",
       "        [[0.78039217],\n",
       "         [0.7882353 ],\n",
       "         [0.74509805],\n",
       "         ...,\n",
       "         [0.7647059 ],\n",
       "         [0.75686276],\n",
       "         [0.7529412 ]]]], dtype=float32)"
      ]
     },
     "execution_count": 34,
     "metadata": {},
     "output_type": "execute_result"
    }
   ],
   "source": [
    "#presenting X_train_copy and X_test_copy\n",
    "X_train_copy\n",
    "X_test_copy\n"
   ]
  },
  {
   "cell_type": "markdown",
   "metadata": {},
   "source": [
    "**! vv The code in this section is not by me. vv !**"
   ]
  },
  {
   "cell_type": "code",
   "execution_count": 9,
   "metadata": {},
   "outputs": [],
   "source": [
    "from sklearn.model_selection import GridSearchCV\n",
    "from tensorflow.keras.wrappers.scikit_learn import KerasClassifier"
   ]
  },
  {
   "cell_type": "markdown",
   "metadata": {},
   "source": [
    "Setting the input shape that the model should expect for each photo."
   ]
  },
  {
   "cell_type": "code",
   "execution_count": 36,
   "metadata": {},
   "outputs": [],
   "source": [
    "input_shape = (28, 28, 1)"
   ]
  },
  {
   "cell_type": "markdown",
   "metadata": {},
   "source": [
    "Preparing a function to create CNN models. As GridSearchCV comes from Sci-kit Learn, rather than Keras, the ways in which GridSearchCV adjusts parameters (using in-built methods) do not work. The model thus needs to be rebuilt with different parameters when testing each node in the search grid."
   ]
  },
  {
   "cell_type": "code",
   "execution_count": 37,
   "metadata": {},
   "outputs": [],
   "source": [
    "# Readying neural network model\n",
    "def build_cnn(activation = 'relu',\n",
    "              dropout_rate = 0.2,\n",
    "              optimizer = 'Adam'):\n",
    "    model = Sequential()\n",
    "    \n",
    "    model.add(Conv2D(32, kernel_size=(3, 3),\n",
    "              activation=activation,\n",
    "              input_shape=input_shape))\n",
    "    model.add(Conv2D(64, (3, 3), activation=activation))\n",
    "    model.add(MaxPooling2D(pool_size=(2, 2)))\n",
    "    model.add(Dropout(dropout_rate))\n",
    "    model.add(Flatten())\n",
    "    model.add(Dense(128, activation=activation))\n",
    "    model.add(Dropout(dropout_rate))\n",
    "    model.add(Dense(num_classes, activation='softmax')) #  M. changed input[0] to num_classes\n",
    "    \n",
    "    model.compile(\n",
    "        loss='categorical_crossentropy', \n",
    "        optimizer=optimizer, \n",
    "        metrics=['accuracy']\n",
    "    )\n",
    "    \n",
    "    return model"
   ]
  },
  {
   "cell_type": "code",
   "execution_count": 47,
   "metadata": {},
   "outputs": [],
   "source": [
    "def algorithm_pipeline(X_train_data, X_test_data, y_train_data, y_test_data, \n",
    "                       model, param_grid, cv=10, scoring_fit='neg_mean_squared_error',\n",
    "                       do_probabilities = False):\n",
    "    gs = GridSearchCV(\n",
    "        estimator=model,\n",
    "        param_grid=param_grid, \n",
    "        cv=cv, \n",
    "        n_jobs=7, #  M. -1, or the maximum, caused my OS to kill off a worker\n",
    "        scoring=scoring_fit,\n",
    "        verbose=2\n",
    "    )\n",
    "    fitted_model = gs.fit(X_train_data, y_train_data)\n",
    "    \n",
    "    if do_probabilities:\n",
    "      pred = fitted_model.predict_proba(X_test_data)\n",
    "    else:\n",
    "      pred = fitted_model.predict(X_test_data)\n",
    "    \n",
    "    return fitted_model, pred"
   ]
  },
  {
   "cell_type": "code",
   "execution_count": 39,
   "metadata": {},
   "outputs": [],
   "source": [
    "param_grid = {\n",
    "              'epochs':[1,2,3],\n",
    "              'batch_size':[128]\n",
    "              #'epochs' :              [100,150,200],\n",
    "              #'batch_size' :          [32, 128],\n",
    "              #'optimizer' :           ['Adam', 'Nadam'],\n",
    "              #'dropout_rate' :        [0.2, 0.3],\n",
    "              #'activation' :          ['relu', 'elu']\n",
    "             }"
   ]
  },
  {
   "cell_type": "code",
   "execution_count": 40,
   "metadata": {},
   "outputs": [
    {
     "name": "stdout",
     "output_type": "stream",
     "text": [
      "Fitting 5 folds for each of 3 candidates, totalling 15 fits\n"
     ]
    },
    {
     "name": "stderr",
     "output_type": "stream",
     "text": [
      "[Parallel(n_jobs=7)]: Using backend LokyBackend with 7 concurrent workers.\n",
      "[Parallel(n_jobs=7)]: Done  10 out of  15 | elapsed:  4.7min remaining:  2.3min\n",
      "[Parallel(n_jobs=7)]: Done  15 out of  15 | elapsed:  6.9min finished\n"
     ]
    },
    {
     "name": "stdout",
     "output_type": "stream",
     "text": [
      "Epoch 1/3\n",
      "146/146 [==============================] - 21s 146ms/step - loss: 1.5582 - accuracy: 0.5608\n",
      "Epoch 2/3\n",
      "146/146 [==============================] - 21s 146ms/step - loss: 0.2566 - accuracy: 0.9251\n",
      "Epoch 3/3\n",
      "146/146 [==============================] - 22s 147ms/step - loss: 0.0811 - accuracy: 0.9804\n",
      "WARNING:tensorflow:From C:\\Users\\h\\.conda\\envs\\deeplearning\\lib\\site-packages\\tensorflow\\python\\keras\\wrappers\\scikit_learn.py:241: Sequential.predict_classes (from tensorflow.python.keras.engine.sequential) is deprecated and will be removed after 2021-01-01.\n",
      "Instructions for updating:\n",
      "Please use instead:* `np.argmax(model.predict(x), axis=-1)`,   if your model does multi-class classification   (e.g. if it uses a `softmax` last-layer activation).* `(model.predict(x) > 0.5).astype(\"int32\")`,   if your model does binary classification   (e.g. if it uses a `sigmoid` last-layer activation).\n",
      "57/57 [==============================] - 2s 38ms/step\n"
     ]
    }
   ],
   "source": [
    "model = KerasClassifier(build_fn = build_cnn, verbose=1)\n",
    "\n",
    "grid_model_0, pred = algorithm_pipeline(X_train, X_test, y_train, y_test, model,\n",
    "                                        param_grid, cv=5, scoring_fit='accuracy')\n",
    "#M. optimized for accuracy via scoring_fit=\n",
    "#M. renamed optimized output model to model_1"
   ]
  },
  {
   "cell_type": "code",
   "execution_count": 49,
   "metadata": {},
   "outputs": [
    {
     "name": "stdout",
     "output_type": "stream",
     "text": [
      "0.9988215816002011\n",
      "{'batch_size': 128, 'epochs': 3}\n"
     ]
    },
    {
     "data": {
      "text/plain": [
       "GridSearchCV(cv=5,\n",
       "             estimator=<tensorflow.python.keras.wrappers.scikit_learn.KerasClassifier object at 0x0000023DD36BD0D0>,\n",
       "             n_jobs=7, param_grid={'batch_size': [128], 'epochs': [1, 2, 3]},\n",
       "             scoring='accuracy', verbose=2)"
      ]
     },
     "execution_count": 49,
     "metadata": {},
     "output_type": "execute_result"
    }
   ],
   "source": [
    "print(model_1.best_score_)\n",
    "print(model_1.best_params_)"
   ]
  },
  {
   "cell_type": "markdown",
   "metadata": {},
   "source": [
    "**! ^^ The code in this section is not by me. ^^ !**"
   ]
  },
  {
   "cell_type": "markdown",
   "metadata": {},
   "source": [
    "Next, we will declare, train and evaluate a model based on these optimized parameters"
   ]
  },
  {
   "cell_type": "code",
   "execution_count": 79,
   "metadata": {},
   "outputs": [
    {
     "name": "stdout",
     "output_type": "stream",
     "text": [
      "Model: \"sequential_3\"\n",
      "_________________________________________________________________\n",
      "Layer (type)                 Output Shape              Param #   \n",
      "=================================================================\n",
      "conv2d_5 (Conv2D)            (None, 26, 26, 32)        320       \n",
      "_________________________________________________________________\n",
      "conv2d_6 (Conv2D)            (None, 24, 24, 64)        18496     \n",
      "_________________________________________________________________\n",
      "max_pooling2d_2 (MaxPooling2 (None, 12, 12, 64)        0         \n",
      "_________________________________________________________________\n",
      "dropout_4 (Dropout)          (None, 12, 12, 64)        0         \n",
      "_________________________________________________________________\n",
      "flatten_2 (Flatten)          (None, 9216)              0         \n",
      "_________________________________________________________________\n",
      "dense_4 (Dense)              (None, 128)               1179776   \n",
      "_________________________________________________________________\n",
      "dropout_5 (Dropout)          (None, 128)               0         \n",
      "_________________________________________________________________\n",
      "dense_5 (Dense)              (None, 25)                3225      \n",
      "=================================================================\n",
      "Total params: 1,201,817\n",
      "Trainable params: 1,201,817\n",
      "Non-trainable params: 0\n",
      "_________________________________________________________________\n"
     ]
    }
   ],
   "source": [
    "CNN_model_1 = Sequential()\n",
    "\n",
    "\n",
    "\n",
    "\n",
    "\n",
    "CNN_model_1.add(Conv2D(32, kernel_size=(3, 3), activation = 'relu', input_shape = (28, 28, 1)))\n",
    "\n",
    "CNN_model_1.add(Conv2D(64, (3, 3), activation='relu'))\n",
    "CNN_model_1.add(MaxPooling2D(pool_size=(2, 2))) #avg pooling may also be used\n",
    "\n",
    "CNN_model_1.add(Dropout(0.25)) #dropout may be varied here\n",
    "\n",
    "\n",
    "\n",
    "CNN_model_1.add(Flatten())\n",
    "\n",
    "\n",
    "CNN_model_1.add(Dense(128, activation='relu'))\n",
    "CNN_model_1.add(Dropout(0.5))\n",
    "\n",
    "# num_classes was here, but as the labels are missing an int before 24,\n",
    "# num_classes is too small\n",
    "# if this results in it guessing a nonexistant class or something\n",
    "# here may be why\n",
    "CNN_model_1.add(Dense(num_classes+1, activation='softmax'))\n",
    "\n",
    "# Print out a summary of the network\n",
    "CNN_model_1.summary()"
   ]
  },
  {
   "cell_type": "markdown",
   "metadata": {},
   "source": [
    "Compiling"
   ]
  },
  {
   "cell_type": "code",
   "execution_count": 83,
   "metadata": {},
   "outputs": [],
   "source": [
    "CNN_model_1.compile(loss = 'sparse_categorical_crossentropy', #loss function\n",
    "                  optimizer = 'Adam',\n",
    "                  metrics = ['accuracy']) #value to maximize"
   ]
  },
  {
   "cell_type": "markdown",
   "metadata": {},
   "source": [
    "Training"
   ]
  },
  {
   "cell_type": "code",
   "execution_count": 84,
   "metadata": {},
   "outputs": [
    {
     "name": "stdout",
     "output_type": "stream",
     "text": [
      "Epoch 1/3\n",
      "146/146 [==============================] - 25s 173ms/step - loss: 2.3360 - accuracy: 0.3051 - val_loss: 0.7460 - val_accuracy: 0.8485\n",
      "Epoch 2/3\n",
      "146/146 [==============================] - 24s 165ms/step - loss: 0.8438 - accuracy: 0.7236 - val_loss: 0.1818 - val_accuracy: 0.9696\n",
      "Epoch 3/3\n",
      "146/146 [==============================] - 24s 163ms/step - loss: 0.4318 - accuracy: 0.8560 - val_loss: 0.0603 - val_accuracy: 0.9942\n"
     ]
    },
    {
     "data": {
      "text/plain": [
       "<tensorflow.python.keras.callbacks.History at 0x23de7aeb3d0>"
      ]
     },
     "execution_count": 84,
     "metadata": {},
     "output_type": "execute_result"
    }
   ],
   "source": [
    "CNN_model_1.fit(X_train, y_train,\n",
    "              batch_size = 128,\n",
    "              epochs = 3,\n",
    "              verbose = 1,\n",
    "              validation_data = (X_vali, y_vali))"
   ]
  },
  {
   "cell_type": "code",
   "execution_count": 85,
   "metadata": {},
   "outputs": [
    {
     "name": "stdout",
     "output_type": "stream",
     "text": [
      "225/225 [==============================] - 3s 12ms/step - loss: 0.4821 - accuracy: 0.8558\n",
      "Test loss: 0.4821213483810425\n",
      "Test accuracy: 0.8558282256126404\n"
     ]
    }
   ],
   "source": [
    "score = CNN_model_1.evaluate(X_test, y_test, verbose=1)\n",
    "\n",
    "print('Test loss:', score[0])\n",
    "print('Test accuracy:', score[1])"
   ]
  },
  {
   "cell_type": "code",
   "execution_count": 50,
   "metadata": {},
   "outputs": [],
   "source": [
    "# from sklearn.metrics import SCORERS\n",
    "# sorted(SCORERS.keys())"
   ]
  },
  {
   "cell_type": "markdown",
   "metadata": {},
   "source": [
    "## (pending as well) Implementing the second data set: grassnoted archive\n",
    "<a id='tlearning'></a>"
   ]
  },
  {
   "cell_type": "markdown",
   "metadata": {},
   "source": [
    "To learn more about dataset pipelines in keras, see [its documentation](https://www.tensorflow.org/guide/data#using_tfdata_with_tfkeras)"
   ]
  },
  {
   "cell_type": "code",
   "execution_count": 4,
   "metadata": {},
   "outputs": [
    {
     "name": "stdout",
     "output_type": "stream",
     "text": [
      "Found 87000 files belonging to 29 classes.\n"
     ]
    }
   ],
   "source": [
    "#import data from local directory\n",
    "train_ds = image_dataset_from_directory(\n",
    "                                          'data/grassnoted/asl_alphabet_train',#\n",
    "                                          labels=\"inferred\", #\n",
    "                                          label_mode=\"int\",\n",
    "                                          class_names=None,\n",
    "                                          color_mode=\"rgb\", #\n",
    "                                          batch_size=32,\n",
    "                                          image_size=(28, 28), # default 256,256\n",
    "                                          shuffle=True,\n",
    "                                          seed=None,\n",
    "                                          validation_split=None,\n",
    "                                          subset=None,\n",
    "                                          interpolation=\"bilinear\",\n",
    "                                          follow_links=False\n",
    "                                          )"
   ]
  },
  {
   "cell_type": "code",
   "execution_count": 5,
   "metadata": {},
   "outputs": [],
   "source": [
    "num_classes = 29"
   ]
  },
  {
   "cell_type": "markdown",
   "metadata": {},
   "source": [
    "Dataset objects function quite smoothly within keras. "
   ]
  },
  {
   "cell_type": "code",
   "execution_count": 24,
   "metadata": {
    "scrolled": true
   },
   "outputs": [
    {
     "name": "stdout",
     "output_type": "stream",
     "text": [
      "Epoch 1/2\n",
      "2719/2719 [==============================] - 250s 92ms/step - loss: 3.3684 - accuracy: 0.0329\n",
      "Epoch 2/2\n",
      "2719/2719 [==============================] - 255s 94ms/step - loss: 3.3677 - accuracy: 0.0327\n"
     ]
    },
    {
     "data": {
      "text/plain": [
       "<tensorflow.python.keras.callbacks.History at 0x1d995c5fb50>"
      ]
     },
     "execution_count": 24,
     "metadata": {},
     "output_type": "execute_result"
    }
   ],
   "source": [
    "CNN_model_0.fit(train_ds, epochs = 2)"
   ]
  },
  {
   "cell_type": "code",
   "execution_count": 25,
   "metadata": {
    "scrolled": true
   },
   "outputs": [
    {
     "name": "stdout",
     "output_type": "stream",
     "text": [
      "2719/2719 [==============================] - 122s 45ms/step - loss: 3.3674 - accuracy: 0.0345\n",
      "Loss : 3.367393970489502\n",
      "Accuracy : 0.03448275849223137\n"
     ]
    }
   ],
   "source": [
    "loss, accuracy = CNN_model_0.evaluate(train_data)\n",
    "print(\"Loss :\", loss)\n",
    "print(\"Accuracy :\", accuracy)"
   ]
  },
  {
   "cell_type": "markdown",
   "metadata": {},
   "source": [
    "This was a quick test run with the previously-built CNN_model_0."
   ]
  },
  {
   "cell_type": "markdown",
   "metadata": {},
   "source": [
    "Its accuracy seems rather low. In order to improve the accuracy, I will test, with CNN_model_1, cross-validation and larger images, separately."
   ]
  },
  {
   "cell_type": "markdown",
   "metadata": {},
   "source": [
    "##### Test with Validation"
   ]
  },
  {
   "cell_type": "code",
   "execution_count": 28,
   "metadata": {},
   "outputs": [
    {
     "name": "stdout",
     "output_type": "stream",
     "text": [
      "Found 87000 files belonging to 29 classes.\n",
      "Using 60900 files for training.\n",
      "Found 87000 files belonging to 29 classes.\n",
      "Using 26100 files for validation.\n"
     ]
    }
   ],
   "source": [
    "#import data from local directory\n",
    "#split into training and validation\n",
    "grassnoted_train_ds = image_dataset_from_directory(\n",
    "                                          'data/grassnoted/asl_alphabet_train',#\n",
    "                                          labels=\"inferred\", #\n",
    "                                          label_mode=\"int\",\n",
    "                                          class_names=None,\n",
    "                                          color_mode=\"rgb\", #\n",
    "                                          batch_size=32,\n",
    "                                          image_size=(28, 28), # default 256,256\n",
    "                                          shuffle=True,\n",
    "                                          seed=1, #\n",
    "                                          validation_split=.3, #\n",
    "                                          subset=\"training\", #\n",
    "                                          interpolation=\"bilinear\",\n",
    "                                          follow_links=False\n",
    "                                          )\n",
    "grassnoted_vali_ds = image_dataset_from_directory(\n",
    "                                          'data/grassnoted/asl_alphabet_train',#\n",
    "                                          labels=\"inferred\", #\n",
    "                                          label_mode=\"int\",\n",
    "                                          class_names=None,\n",
    "                                          color_mode=\"rgb\", #\n",
    "                                          batch_size=32,\n",
    "                                          image_size=(28, 28), # default 256,256\n",
    "                                          shuffle=True,\n",
    "                                          seed=1, #seeds must match to prevent overlap\n",
    "                                          validation_split=.3, #\n",
    "                                          subset=\"validation\", #\n",
    "                                          interpolation=\"bilinear\",\n",
    "                                          follow_links=False\n",
    "                                          )"
   ]
  },
  {
   "cell_type": "code",
   "execution_count": 29,
   "metadata": {},
   "outputs": [
    {
     "name": "stdout",
     "output_type": "stream",
     "text": [
      "Model: \"sequential_2\"\n",
      "_________________________________________________________________\n",
      "Layer (type)                 Output Shape              Param #   \n",
      "=================================================================\n",
      "conv2d_4 (Conv2D)            (None, 26, 26, 32)        896       \n",
      "_________________________________________________________________\n",
      "conv2d_5 (Conv2D)            (None, 24, 24, 64)        18496     \n",
      "_________________________________________________________________\n",
      "max_pooling2d_2 (MaxPooling2 (None, 12, 12, 64)        0         \n",
      "_________________________________________________________________\n",
      "dropout_4 (Dropout)          (None, 12, 12, 64)        0         \n",
      "_________________________________________________________________\n",
      "flatten_2 (Flatten)          (None, 9216)              0         \n",
      "_________________________________________________________________\n",
      "dense_4 (Dense)              (None, 128)               1179776   \n",
      "_________________________________________________________________\n",
      "dropout_5 (Dropout)          (None, 128)               0         \n",
      "_________________________________________________________________\n",
      "dense_5 (Dense)              (None, 29)                3741      \n",
      "=================================================================\n",
      "Total params: 1,202,909\n",
      "Trainable params: 1,202,909\n",
      "Non-trainable params: 0\n",
      "_________________________________________________________________\n"
     ]
    }
   ],
   "source": [
    "#declaring model\n",
    "CNN_model_1 = Sequential()\n",
    "\n",
    "\n",
    "\n",
    "\n",
    "\n",
    "CNN_model_1.add(Conv2D(32, kernel_size=(3, 3), activation = 'relu', input_shape = (28, 28, 3)))\n",
    "\n",
    "CNN_model_1.add(Conv2D(64, (3, 3), activation='relu'))\n",
    "CNN_model_1.add(MaxPooling2D(pool_size=(2, 2))) #avg pooling may also be used\n",
    "\n",
    "CNN_model_1.add(Dropout(0.25)) #dropout may be varied here\n",
    "\n",
    "\n",
    "\n",
    "CNN_model_1.add(Flatten())\n",
    "\n",
    "\n",
    "CNN_model_1.add(Dense(128, activation='relu'))\n",
    "CNN_model_1.add(Dropout(0.5))\n",
    "\n",
    "# num_classes was here, but as the labels are missing an int before 24,\n",
    "# num_classes is too small\n",
    "# if this results in it guessing a nonexistant class or something\n",
    "# here may be why\n",
    "CNN_model_1.add(Dense(num_classes, activation='softmax'))\n",
    "\n",
    "# Print out a summary of the network\n",
    "CNN_model_1.summary()"
   ]
  },
  {
   "cell_type": "code",
   "execution_count": 30,
   "metadata": {},
   "outputs": [],
   "source": [
    "CNN_model_1.compile(loss = 'sparse_categorical_crossentropy', #loss function\n",
    "                  optimizer = 'Adam',\n",
    "                  metrics = ['accuracy']) #value to maximize"
   ]
  },
  {
   "cell_type": "code",
   "execution_count": 31,
   "metadata": {},
   "outputs": [
    {
     "name": "stdout",
     "output_type": "stream",
     "text": [
      "Epoch 1/2\n",
      "1904/1904 [==============================] - 185s 97ms/step - loss: 5.3472 - accuracy: 0.0341 - val_loss: 3.3677 - val_accuracy: 0.0330\n",
      "Epoch 2/2\n",
      "1904/1904 [==============================] - 197s 103ms/step - loss: 3.3676 - accuracy: 0.0310 - val_loss: 3.3677 - val_accuracy: 0.0332\n"
     ]
    },
    {
     "data": {
      "text/plain": [
       "<tensorflow.python.keras.callbacks.History at 0x254c8c8e8e0>"
      ]
     },
     "execution_count": 31,
     "metadata": {},
     "output_type": "execute_result"
    }
   ],
   "source": [
    "CNN_model_1.fit(grassnoted_train_ds, epochs = 2, validation_data = grassnoted_vali_ds)"
   ]
  },
  {
   "cell_type": "code",
   "execution_count": 37,
   "metadata": {
    "scrolled": true
   },
   "outputs": [
    {
     "name": "stdout",
     "output_type": "stream",
     "text": [
      "1904/1904 [==============================] - 88s 46ms/step - loss: 3.3673 - accuracy: 0.0350\n",
      "Loss : 3.3673107624053955\n",
      "Accuracy : 0.03502463176846504\n"
     ]
    }
   ],
   "source": [
    "loss, accuracy = CNN_model_1.evaluate(grassnoted_train_ds)\n",
    "print(\"Loss :\", loss)\n",
    "print(\"Accuracy :\", accuracy)"
   ]
  },
  {
   "cell_type": "markdown",
   "metadata": {},
   "source": [
    "The use of validation data has slightly improved training performance. Accuracy has increased from .0345 to .0350. "
   ]
  },
  {
   "cell_type": "code",
   "execution_count": 39,
   "metadata": {},
   "outputs": [
    {
     "name": "stdout",
     "output_type": "stream",
     "text": [
      "1904/1904 [==============================] - 192s 101ms/step - loss: 3.3676 - accuracy: 0.0330 - val_loss: 3.3677 - val_accuracy: 0.0332\n"
     ]
    },
    {
     "data": {
      "text/plain": [
       "<tensorflow.python.keras.callbacks.History at 0x254c8cbff70>"
      ]
     },
     "execution_count": 39,
     "metadata": {},
     "output_type": "execute_result"
    }
   ],
   "source": [
    "CNN_model_1.fit(grassnoted_train_ds, epochs = 1, validation_data = grassnoted_vali_ds, verbose = 1)"
   ]
  },
  {
   "cell_type": "markdown",
   "metadata": {},
   "source": [
    "Attempting to gain plottable info about training accuracy and validation accuracy per epoch.\n",
    "As described in [this thread](https://stackoverflow.com/questions/36952763/how-to-return-history-of-validation-loss-in-keras)"
   ]
  },
  {
   "cell_type": "code",
   "execution_count": 40,
   "metadata": {},
   "outputs": [
    {
     "name": "stdout",
     "output_type": "stream",
     "text": [
      "dict_keys(['loss', 'accuracy', 'val_loss', 'val_accuracy'])\n"
     ]
    }
   ],
   "source": [
    "print(CNN_model_1.history.history.keys())"
   ]
  },
  {
   "cell_type": "code",
   "execution_count": 49,
   "metadata": {},
   "outputs": [
    {
     "name": "stdout",
     "output_type": "stream",
     "text": [
      "Validation accuracy:[0.0332183912396431]\n",
      "Training accuracy:[0.03298850730061531]\n"
     ]
    }
   ],
   "source": [
    "print(f\"Validation accuracy:{CNN_model_1.history.history['val_accuracy']}\")\n",
    "print(f\"Training accuracy:{CNN_model_1.history.history['accuracy']}\")"
   ]
  },
  {
   "cell_type": "markdown",
   "metadata": {},
   "source": [
    "This information will be useful when optimizing the hyperparameter epochs.\n",
    "As such, a validation set will be used going forward."
   ]
  },
  {
   "cell_type": "markdown",
   "metadata": {},
   "source": [
    "##### Test with Larger Images"
   ]
  },
  {
   "cell_type": "markdown",
   "metadata": {},
   "source": [
    "As an image_size of the original photo is 600x600 and that goes beyond my computer's memory,  and the default 256x256 images made my kernel into a dead kernel, this test will be run with lengths the positive square root of 600, 30."
   ]
  },
  {
   "cell_type": "code",
   "execution_count": 13,
   "metadata": {},
   "outputs": [
    {
     "name": "stdout",
     "output_type": "stream",
     "text": [
      "Found 87000 files belonging to 29 classes.\n"
     ]
    }
   ],
   "source": [
    "#plain data photos are 600x600\n",
    "#import data from local directory\n",
    "grassnoted_image_size_30_ds = image_dataset_from_directory(\n",
    "                                          'data/grassnoted/asl_alphabet_train',#\n",
    "                                          labels=\"inferred\", #\n",
    "                                          label_mode=\"int\",\n",
    "                                          class_names=None,\n",
    "                                          color_mode=\"rgb\", #\n",
    "                                          batch_size=32,\n",
    "                                          image_size=(30, 30), # default 256,256\n",
    "                                          shuffle=True,\n",
    "                                          seed=None,\n",
    "                                          validation_split=None,\n",
    "                                          subset=None,\n",
    "                                          interpolation=\"bilinear\",\n",
    "                                          follow_links=False\n",
    "                                          )"
   ]
  },
  {
   "cell_type": "code",
   "execution_count": 15,
   "metadata": {},
   "outputs": [
    {
     "name": "stdout",
     "output_type": "stream",
     "text": [
      "Model: \"sequential_1\"\n",
      "_________________________________________________________________\n",
      "Layer (type)                 Output Shape              Param #   \n",
      "=================================================================\n",
      "conv2d_2 (Conv2D)            (None, 28, 28, 32)        896       \n",
      "_________________________________________________________________\n",
      "conv2d_3 (Conv2D)            (None, 26, 26, 64)        18496     \n",
      "_________________________________________________________________\n",
      "max_pooling2d_1 (MaxPooling2 (None, 13, 13, 64)        0         \n",
      "_________________________________________________________________\n",
      "dropout_2 (Dropout)          (None, 13, 13, 64)        0         \n",
      "_________________________________________________________________\n",
      "flatten_1 (Flatten)          (None, 10816)             0         \n",
      "_________________________________________________________________\n",
      "dense_2 (Dense)              (None, 128)               1384576   \n",
      "_________________________________________________________________\n",
      "dropout_3 (Dropout)          (None, 128)               0         \n",
      "_________________________________________________________________\n",
      "dense_3 (Dense)              (None, 29)                3741      \n",
      "=================================================================\n",
      "Total params: 1,407,709\n",
      "Trainable params: 1,407,709\n",
      "Non-trainable params: 0\n",
      "_________________________________________________________________\n"
     ]
    }
   ],
   "source": [
    "#declaring model\n",
    "CNN_model_1 = Sequential()\n",
    "\n",
    "\n",
    "\n",
    "\n",
    "\n",
    "CNN_model_1.add(Conv2D(32, kernel_size=(3, 3), activation = 'relu', input_shape = (30, 30, 3)))\n",
    "\n",
    "CNN_model_1.add(Conv2D(64, (3, 3), activation='relu'))\n",
    "CNN_model_1.add(MaxPooling2D(pool_size=(2, 2))) #avg pooling may also be used\n",
    "\n",
    "CNN_model_1.add(Dropout(0.25)) #dropout may be varied here\n",
    "\n",
    "\n",
    "\n",
    "CNN_model_1.add(Flatten())\n",
    "\n",
    "\n",
    "CNN_model_1.add(Dense(128, activation='relu'))\n",
    "CNN_model_1.add(Dropout(0.5))\n",
    "\n",
    "\n",
    "CNN_model_1.add(Dense(num_classes, activation='softmax'))\n",
    "\n",
    "# Print out a summary of the network\n",
    "CNN_model_1.summary()"
   ]
  },
  {
   "cell_type": "code",
   "execution_count": 16,
   "metadata": {},
   "outputs": [],
   "source": [
    "CNN_model_1.compile(loss = 'sparse_categorical_crossentropy', #loss function\n",
    "                  optimizer = 'Adam',\n",
    "                  metrics = ['accuracy']) #value to maximize"
   ]
  },
  {
   "cell_type": "code",
   "execution_count": 18,
   "metadata": {
    "scrolled": true
   },
   "outputs": [
    {
     "name": "stdout",
     "output_type": "stream",
     "text": [
      "Epoch 1/2\n",
      "2719/2719 [==============================] - 240s 88ms/step - loss: 1.4811 - accuracy: 0.5155\n",
      "Epoch 2/2\n",
      "2719/2719 [==============================] - 239s 88ms/step - loss: 0.7525 - accuracy: 0.7409\n"
     ]
    },
    {
     "data": {
      "text/plain": [
       "<tensorflow.python.keras.callbacks.History at 0x254c39b6fa0>"
      ]
     },
     "execution_count": 18,
     "metadata": {},
     "output_type": "execute_result"
    }
   ],
   "source": [
    "CNN_model_1.fit(grassnoted_image_size_30_ds, epochs = 2, verbose = 1)"
   ]
  },
  {
   "cell_type": "code",
   "execution_count": 25,
   "metadata": {
    "scrolled": true
   },
   "outputs": [
    {
     "name": "stdout",
     "output_type": "stream",
     "text": [
      "2719/2719 [==============================] - 122s 45ms/step - loss: 3.3674 - accuracy: 0.0345\n",
      "Loss : 3.367393970489502\n",
      "Accuracy : 0.03448275849223137\n"
     ]
    }
   ],
   "source": [
    "loss, accuracy = CNN_model_1.evaluate(grassnoted_image_size_30_ds)\n",
    "print(\"Loss :\", loss)\n",
    "print(\"Accuracy :\", accuracy)"
   ]
  },
  {
   "cell_type": "markdown",
   "metadata": {},
   "source": [
    "Increasing the image size to 30x30 has increased the accuracy from .0345 to .03"
   ]
  },
  {
   "cell_type": "code",
   "execution_count": null,
   "metadata": {},
   "outputs": [],
   "source": [
    "As increasing the image size to "
   ]
  },
  {
   "cell_type": "markdown",
   "metadata": {},
   "source": [
    "## Creating a single photo of my hand signing 'A' for demo purposes"
   ]
  },
  {
   "cell_type": "markdown",
   "metadata": {},
   "source": [
    "[Keras documentation](https://keras.io/api/preprocessing/image/) shows an easy way to load images and to convert them into numpy arrays."
   ]
  },
  {
   "cell_type": "code",
   "execution_count": 6,
   "metadata": {},
   "outputs": [],
   "source": []
  },
  {
   "cell_type": "code",
   "execution_count": 59,
   "metadata": {},
   "outputs": [
    {
     "data": {
      "image/png": "[encoded data removed]",
      "text/plain": [
       "<PIL.JpegImagePlugin.JpegImageFile image mode=RGB size=541x566 at 0x23DD52FE970>"
      ]
     },
     "execution_count": 59,
     "metadata": {},
     "output_type": "execute_result"
    }
   ],
   "source": [
    "my_a = image.load_img('data/self_photos/a_crop_with_plant.jpg',\n",
    "               grayscale=False,\n",
    "               color_mode=\"rgb\",\n",
    "               target_size=None,\n",
    "               interpolation=\"nearest\")\n",
    "my_a"
   ]
  },
  {
   "cell_type": "code",
   "execution_count": 60,
   "metadata": {},
   "outputs": [
    {
     "data": {
      "image/png": "[encoded data removed]",
      "text/plain": [
       "<PIL.Image.Image image mode=L size=28x28 at 0x23DD529C220>"
      ]
     },
     "execution_count": 60,
     "metadata": {},
     "output_type": "execute_result"
    }
   ],
   "source": [
    "my_a = image.load_img('data/self_photos/a_crop_with_plant.jpg',\n",
    "               color_mode=\"grayscale\",\n",
    "               target_size=[28,28],\n",
    "               interpolation=\"nearest\")\n",
    "my_a"
   ]
  },
  {
   "cell_type": "code",
   "execution_count": 67,
   "metadata": {},
   "outputs": [
    {
     "data": {
      "image/png": "[encoded data removed]",
      "text/plain": [
       "<PIL.Image.Image image mode=L size=28x28 at 0x23DE78C8E20>"
      ]
     },
     "execution_count": 67,
     "metadata": {},
     "output_type": "execute_result"
    }
   ],
   "source": [
    "my_o = image.load_img('data/self_photos/o_crop.jpg',\n",
    "               color_mode=\"grayscale\",\n",
    "               target_size=[28,28],\n",
    "               interpolation=\"nearest\")\n",
    "my_o"
   ]
  },
  {
   "cell_type": "code",
   "execution_count": 68,
   "metadata": {},
   "outputs": [
    {
     "data": {
      "image/png": "[encoded data removed]",
      "text/plain": [
       "<PIL.Image.Image image mode=L size=28x28 at 0x23DB540F250>"
      ]
     },
     "execution_count": 68,
     "metadata": {},
     "output_type": "execute_result"
    }
   ],
   "source": [
    "my_k = image.load_img('data/self_photos/k_crop.jpg',\n",
    "               color_mode=\"grayscale\",\n",
    "               target_size=[28,28],\n",
    "               interpolation=\"nearest\")\n",
    "my_k"
   ]
  },
  {
   "cell_type": "markdown",
   "metadata": {},
   "source": [
    "Predictions for my signs: 'a' (0), 'o' (13), and 'k' (9)"
   ]
  },
  {
   "cell_type": "code",
   "execution_count": 90,
   "metadata": {},
   "outputs": [
    {
     "name": "stdout",
     "output_type": "stream",
     "text": [
      "Testing my a, correct answer 0, model predicts 0:\n"
     ]
    },
    {
     "data": {
      "text/plain": [
       "array([[9.9980074e-01, 0.0000000e+00, 0.0000000e+00, 0.0000000e+00,\n",
       "        0.0000000e+00, 0.0000000e+00, 0.0000000e+00, 0.0000000e+00,\n",
       "        0.0000000e+00, 0.0000000e+00, 0.0000000e+00, 0.0000000e+00,\n",
       "        0.0000000e+00, 0.0000000e+00, 0.0000000e+00, 0.0000000e+00,\n",
       "        0.0000000e+00, 0.0000000e+00, 1.9928021e-04, 0.0000000e+00,\n",
       "        0.0000000e+00, 0.0000000e+00, 0.0000000e+00, 0.0000000e+00,\n",
       "        0.0000000e+00]], dtype=float32)"
      ]
     },
     "execution_count": 90,
     "metadata": {},
     "output_type": "execute_result"
    }
   ],
   "source": [
    "input_arr = image.img_to_array(my_a)\n",
    "input_arr = np.array([input_arr])  # Convert single image to a batch.\n",
    "predictions = CNN_model_1.predict(input_arr)\n",
    "print(f'Testing my a, correct answer 0, model predicts 0:')\n",
    "predictions"
   ]
  },
  {
   "cell_type": "code",
   "execution_count": 92,
   "metadata": {},
   "outputs": [
    {
     "name": "stdout",
     "output_type": "stream",
     "text": [
      "Testing my o, correct answer 13, model predicts 15:\n"
     ]
    },
    {
     "data": {
      "text/plain": [
       "array([[0.0000000e+00, 0.0000000e+00, 0.0000000e+00, 0.0000000e+00,\n",
       "        0.0000000e+00, 0.0000000e+00, 0.0000000e+00, 0.0000000e+00,\n",
       "        0.0000000e+00, 0.0000000e+00, 0.0000000e+00, 0.0000000e+00,\n",
       "        0.0000000e+00, 0.0000000e+00, 0.0000000e+00, 1.0000000e+00,\n",
       "        0.0000000e+00, 0.0000000e+00, 0.0000000e+00, 0.0000000e+00,\n",
       "        0.0000000e+00, 0.0000000e+00, 0.0000000e+00, 0.0000000e+00,\n",
       "        6.6767954e-33]], dtype=float32)"
      ]
     },
     "execution_count": 92,
     "metadata": {},
     "output_type": "execute_result"
    }
   ],
   "source": [
    "input_arr = image.img_to_array(my_o)\n",
    "input_arr = np.array([input_arr])  # Convert single image to a batch.\n",
    "predictions = CNN_model_1.predict(input_arr)\n",
    "print(f'Testing my o, correct answer 13, model predicts 15:')\n",
    "predictions"
   ]
  },
  {
   "cell_type": "code",
   "execution_count": 94,
   "metadata": {},
   "outputs": [
    {
     "name": "stdout",
     "output_type": "stream",
     "text": [
      "Testing my k, correct answer 9, model predicts 10:\n"
     ]
    },
    {
     "data": {
      "text/plain": [
       "array([[0., 0., 0., 0., 0., 0., 0., 0., 0., 0., 1., 0., 0., 0., 0., 0.,\n",
       "        0., 0., 0., 0., 0., 0., 0., 0., 0.]], dtype=float32)"
      ]
     },
     "execution_count": 94,
     "metadata": {},
     "output_type": "execute_result"
    }
   ],
   "source": [
    "input_arr = image.img_to_array(my_k)\n",
    "input_arr = np.array([input_arr])  # Convert single image to a batch.\n",
    "predictions = CNN_model_1.predict(input_arr)\n",
    "print(f'Testing my k, correct answer 9, model predicts 10:')\n",
    "predictions"
   ]
  },
  {
   "cell_type": "markdown",
   "metadata": {},
   "source": [
    "This is not A-OK."
   ]
  },
  {
   "cell_type": "markdown",
   "metadata": {},
   "source": [
    "## (pending)Using transfer learning from Keras applications"
   ]
  },
  {
   "cell_type": "markdown",
   "metadata": {},
   "source": [
    "In order to improve recognition accuracy without sacrificing too much reaction time, I will use MobileNetV2. It is currently the smallest application [on Keras](https://keras.io/api/applications/). It is also a network architecture designed with hyperparameters that can trade-off between latency and accuracy, giving us case-specific optimization options.\n",
    "\n",
    "Transfer learning involves importing new NN architecture that has been trained on a different dataset. Keras applications are usually trained with the imagenet dataset, which has over 14 million images and over 100 categories. This broad experience may improve recognition accuracy for the task at hand."
   ]
  },
  {
   "cell_type": "code",
   "execution_count": 7,
   "metadata": {},
   "outputs": [],
   "source": [
    "from tensorflow.keras.applications import MobileNetV2\n",
    "from tensorflow.keras.applications.mobilenet_v2 import preprocess_input"
   ]
  },
  {
   "cell_type": "markdown",
   "metadata": {},
   "source": [
    "First, the model is imported and the final classification layers are removed."
   ]
  },
  {
   "cell_type": "code",
   "execution_count": 8,
   "metadata": {},
   "outputs": [
    {
     "name": "stdout",
     "output_type": "stream",
     "text": [
      "WARNING:tensorflow:`input_shape` is undefined or non-square, or `rows` is not in [96, 128, 160, 192, 224]. Weights for input shape (224, 224) will be loaded as the default.\n",
      "Downloading data from https://storage.googleapis.com/tensorflow/keras-applications/mobilenet_v2/mobilenet_v2_weights_tf_dim_ordering_tf_kernels_1.0_224_no_top.h5\n",
      "9412608/9406464 [==============================] - 1s 0us/step\n"
     ]
    }
   ],
   "source": [
    "experienced_model = MobileNetV2(weights='imagenet', include_top=False)"
   ]
  },
  {
   "cell_type": "code",
   "execution_count": 9,
   "metadata": {},
   "outputs": [
    {
     "ename": "NameError",
     "evalue": "name 'base_model' is not defined",
     "output_type": "error",
     "traceback": [
      "\u001b[1;31m---------------------------------------------------------------------------\u001b[0m",
      "\u001b[1;31mNameError\u001b[0m                                 Traceback (most recent call last)",
      "\u001b[1;32m<ipython-input-9-c496dedc4aa9>\u001b[0m in \u001b[0;36m<module>\u001b[1;34m\u001b[0m\n\u001b[0;32m      1\u001b[0m \u001b[1;31m# Assign the output of this base_model to a variable:\u001b[0m\u001b[1;33m\u001b[0m\u001b[1;33m\u001b[0m\u001b[1;33m\u001b[0m\u001b[0m\n\u001b[1;32m----> 2\u001b[1;33m \u001b[0mbase_model_out\u001b[0m \u001b[1;33m=\u001b[0m \u001b[0mbase_model\u001b[0m\u001b[1;33m.\u001b[0m\u001b[0moutput\u001b[0m\u001b[1;33m\u001b[0m\u001b[1;33m\u001b[0m\u001b[0m\n\u001b[0m\u001b[0;32m      3\u001b[0m \u001b[1;33m\u001b[0m\u001b[0m\n\u001b[0;32m      4\u001b[0m \u001b[1;33m\u001b[0m\u001b[0m\n\u001b[0;32m      5\u001b[0m \u001b[1;33m\u001b[0m\u001b[0m\n",
      "\u001b[1;31mNameError\u001b[0m: name 'base_model' is not defined"
     ]
    }
   ],
   "source": [
    "# Assign the output of this base_model to a variable:\n",
    "base_model_out = base_model.output\n",
    "\n",
    "\n",
    "\n",
    "# Add a pooling layer:\n",
    "base_model_out = GlobalAveragePooling2D()(base_model_out)\n",
    "\n",
    "# Add 3 dense layers so that the model can learn aspects of our new dataset \n",
    "# and classify for better results.\n",
    "base_model_out = Dense(243, activation='relu')(base_model_out) \n",
    "base_model_out = Dense(243, activation='relu')(base_model_out)\n",
    "base_model_out = Dense(81, activation='relu')(base_model_out)\n",
    "\n",
    "# Add a final layer with 3 neurons, one for each class in our dataset \n",
    "# using a softmabase_model_out activation function:\n",
    "preds = Dense(3, activation='softmax')(base_model_out)\n",
    "\n",
    "\n",
    "\n",
    "\n",
    "# Instantiate our final model, where we specify what are the inputs and \n",
    "# the outputs will look like\n",
    "model = Model(inputs = base_model.input, \n",
    "              outputs = preds)"
   ]
  },
  {
   "cell_type": "code",
   "execution_count": null,
   "metadata": {},
   "outputs": [],
   "source": []
  },
  {
   "cell_type": "code",
   "execution_count": null,
   "metadata": {},
   "outputs": [],
   "source": []
  }
 ],
 "metadata": {
  "kernelspec": {
   "display_name": "Python 3",
   "language": "python",
   "name": "python3"
  },
  "language_info": {
   "codemirror_mode": {
    "name": "ipython",
    "version": 3
   },
   "file_extension": ".py",
   "mimetype": "text/x-python",
   "name": "python",
   "nbconvert_exporter": "python",
   "pygments_lexer": "ipython3",
   "version": "3.8.5"
  }
 },
 "nbformat": 4,
 "nbformat_minor": 4
}
