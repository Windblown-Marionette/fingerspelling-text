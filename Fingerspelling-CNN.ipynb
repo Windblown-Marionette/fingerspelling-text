{
 "cells": [
  {
   "cell_type": "code",
   "execution_count": 1,
   "metadata": {},
   "outputs": [],
   "source": [
    "import numpy as np\n",
    "import pandas as pd\n",
    "import matplotlib as plt\n",
    "%matplotlib inline\n",
    "from sklearn.neural_network import MLPClassifier\n",
    "from sklearn.datasets import load_iris #for validation\n",
    "from sklearn.model_selection import train_test_split\n",
    "from sklearn.preprocessing import StandardScaler\n",
    "from tensorflow.keras.datasets import mnist #for validation\n",
    "\n",
    "\n"
   ]
  },
  {
   "cell_type": "code",
   "execution_count": 2,
   "metadata": {},
   "outputs": [],
   "source": [
    "train_data = pd.read_csv('data/sign_mnist_train.csv')\n",
    "\n",
    "test_data = pd.read_csv('data/sign_mnist_test.csv')\n"
   ]
  },
  {
   "cell_type": "code",
   "execution_count": 3,
   "metadata": {},
   "outputs": [
    {
     "data": {
      "text/html": [
       "<div>\n",
       "<style scoped>\n",
       "    .dataframe tbody tr th:only-of-type {\n",
       "        vertical-align: middle;\n",
       "    }\n",
       "\n",
       "    .dataframe tbody tr th {\n",
       "        vertical-align: top;\n",
       "    }\n",
       "\n",
       "    .dataframe thead th {\n",
       "        text-align: right;\n",
       "    }\n",
       "</style>\n",
       "<table border=\"1\" class=\"dataframe\">\n",
       "  <thead>\n",
       "    <tr style=\"text-align: right;\">\n",
       "      <th></th>\n",
       "      <th>label</th>\n",
       "      <th>pixel1</th>\n",
       "      <th>pixel2</th>\n",
       "      <th>pixel3</th>\n",
       "      <th>pixel4</th>\n",
       "      <th>pixel5</th>\n",
       "      <th>pixel6</th>\n",
       "      <th>pixel7</th>\n",
       "      <th>pixel8</th>\n",
       "      <th>pixel9</th>\n",
       "      <th>...</th>\n",
       "      <th>pixel775</th>\n",
       "      <th>pixel776</th>\n",
       "      <th>pixel777</th>\n",
       "      <th>pixel778</th>\n",
       "      <th>pixel779</th>\n",
       "      <th>pixel780</th>\n",
       "      <th>pixel781</th>\n",
       "      <th>pixel782</th>\n",
       "      <th>pixel783</th>\n",
       "      <th>pixel784</th>\n",
       "    </tr>\n",
       "  </thead>\n",
       "  <tbody>\n",
       "    <tr>\n",
       "      <th>0</th>\n",
       "      <td>3</td>\n",
       "      <td>107</td>\n",
       "      <td>118</td>\n",
       "      <td>127</td>\n",
       "      <td>134</td>\n",
       "      <td>139</td>\n",
       "      <td>143</td>\n",
       "      <td>146</td>\n",
       "      <td>150</td>\n",
       "      <td>153</td>\n",
       "      <td>...</td>\n",
       "      <td>207</td>\n",
       "      <td>207</td>\n",
       "      <td>207</td>\n",
       "      <td>207</td>\n",
       "      <td>206</td>\n",
       "      <td>206</td>\n",
       "      <td>206</td>\n",
       "      <td>204</td>\n",
       "      <td>203</td>\n",
       "      <td>202</td>\n",
       "    </tr>\n",
       "    <tr>\n",
       "      <th>1</th>\n",
       "      <td>6</td>\n",
       "      <td>155</td>\n",
       "      <td>157</td>\n",
       "      <td>156</td>\n",
       "      <td>156</td>\n",
       "      <td>156</td>\n",
       "      <td>157</td>\n",
       "      <td>156</td>\n",
       "      <td>158</td>\n",
       "      <td>158</td>\n",
       "      <td>...</td>\n",
       "      <td>69</td>\n",
       "      <td>149</td>\n",
       "      <td>128</td>\n",
       "      <td>87</td>\n",
       "      <td>94</td>\n",
       "      <td>163</td>\n",
       "      <td>175</td>\n",
       "      <td>103</td>\n",
       "      <td>135</td>\n",
       "      <td>149</td>\n",
       "    </tr>\n",
       "    <tr>\n",
       "      <th>2</th>\n",
       "      <td>2</td>\n",
       "      <td>187</td>\n",
       "      <td>188</td>\n",
       "      <td>188</td>\n",
       "      <td>187</td>\n",
       "      <td>187</td>\n",
       "      <td>186</td>\n",
       "      <td>187</td>\n",
       "      <td>188</td>\n",
       "      <td>187</td>\n",
       "      <td>...</td>\n",
       "      <td>202</td>\n",
       "      <td>201</td>\n",
       "      <td>200</td>\n",
       "      <td>199</td>\n",
       "      <td>198</td>\n",
       "      <td>199</td>\n",
       "      <td>198</td>\n",
       "      <td>195</td>\n",
       "      <td>194</td>\n",
       "      <td>195</td>\n",
       "    </tr>\n",
       "    <tr>\n",
       "      <th>3</th>\n",
       "      <td>2</td>\n",
       "      <td>211</td>\n",
       "      <td>211</td>\n",
       "      <td>212</td>\n",
       "      <td>212</td>\n",
       "      <td>211</td>\n",
       "      <td>210</td>\n",
       "      <td>211</td>\n",
       "      <td>210</td>\n",
       "      <td>210</td>\n",
       "      <td>...</td>\n",
       "      <td>235</td>\n",
       "      <td>234</td>\n",
       "      <td>233</td>\n",
       "      <td>231</td>\n",
       "      <td>230</td>\n",
       "      <td>226</td>\n",
       "      <td>225</td>\n",
       "      <td>222</td>\n",
       "      <td>229</td>\n",
       "      <td>163</td>\n",
       "    </tr>\n",
       "    <tr>\n",
       "      <th>4</th>\n",
       "      <td>13</td>\n",
       "      <td>164</td>\n",
       "      <td>167</td>\n",
       "      <td>170</td>\n",
       "      <td>172</td>\n",
       "      <td>176</td>\n",
       "      <td>179</td>\n",
       "      <td>180</td>\n",
       "      <td>184</td>\n",
       "      <td>185</td>\n",
       "      <td>...</td>\n",
       "      <td>92</td>\n",
       "      <td>105</td>\n",
       "      <td>105</td>\n",
       "      <td>108</td>\n",
       "      <td>133</td>\n",
       "      <td>163</td>\n",
       "      <td>157</td>\n",
       "      <td>163</td>\n",
       "      <td>164</td>\n",
       "      <td>179</td>\n",
       "    </tr>\n",
       "    <tr>\n",
       "      <th>5</th>\n",
       "      <td>16</td>\n",
       "      <td>161</td>\n",
       "      <td>168</td>\n",
       "      <td>172</td>\n",
       "      <td>173</td>\n",
       "      <td>178</td>\n",
       "      <td>184</td>\n",
       "      <td>189</td>\n",
       "      <td>193</td>\n",
       "      <td>196</td>\n",
       "      <td>...</td>\n",
       "      <td>76</td>\n",
       "      <td>74</td>\n",
       "      <td>68</td>\n",
       "      <td>62</td>\n",
       "      <td>53</td>\n",
       "      <td>55</td>\n",
       "      <td>48</td>\n",
       "      <td>238</td>\n",
       "      <td>255</td>\n",
       "      <td>255</td>\n",
       "    </tr>\n",
       "  </tbody>\n",
       "</table>\n",
       "<p>6 rows × 785 columns</p>\n",
       "</div>"
      ],
      "text/plain": [
       "   label  pixel1  pixel2  pixel3  pixel4  pixel5  pixel6  pixel7  pixel8  \\\n",
       "0      3     107     118     127     134     139     143     146     150   \n",
       "1      6     155     157     156     156     156     157     156     158   \n",
       "2      2     187     188     188     187     187     186     187     188   \n",
       "3      2     211     211     212     212     211     210     211     210   \n",
       "4     13     164     167     170     172     176     179     180     184   \n",
       "5     16     161     168     172     173     178     184     189     193   \n",
       "\n",
       "   pixel9  ...  pixel775  pixel776  pixel777  pixel778  pixel779  pixel780  \\\n",
       "0     153  ...       207       207       207       207       206       206   \n",
       "1     158  ...        69       149       128        87        94       163   \n",
       "2     187  ...       202       201       200       199       198       199   \n",
       "3     210  ...       235       234       233       231       230       226   \n",
       "4     185  ...        92       105       105       108       133       163   \n",
       "5     196  ...        76        74        68        62        53        55   \n",
       "\n",
       "   pixel781  pixel782  pixel783  pixel784  \n",
       "0       206       204       203       202  \n",
       "1       175       103       135       149  \n",
       "2       198       195       194       195  \n",
       "3       225       222       229       163  \n",
       "4       157       163       164       179  \n",
       "5        48       238       255       255  \n",
       "\n",
       "[6 rows x 785 columns]"
      ]
     },
     "execution_count": 3,
     "metadata": {},
     "output_type": "execute_result"
    }
   ],
   "source": [
    "train_data.head(6)"
   ]
  },
  {
   "cell_type": "code",
   "execution_count": 4,
   "metadata": {},
   "outputs": [
    {
     "data": {
      "text/plain": [
       "0     3\n",
       "1     6\n",
       "2     2\n",
       "3     2\n",
       "4    13\n",
       "Name: label, dtype: int64"
      ]
     },
     "execution_count": 4,
     "metadata": {},
     "output_type": "execute_result"
    }
   ],
   "source": [
    "y_train = train_data.iloc[:,0]\n",
    "y_train.head()"
   ]
  },
  {
   "cell_type": "code",
   "execution_count": 5,
   "metadata": {},
   "outputs": [
    {
     "data": {
      "text/plain": [
       "label\n",
       "0    1126\n",
       "1    1010\n",
       "2    1144\n",
       "3    1196\n",
       "4     957\n",
       "Name: label, dtype: int64"
      ]
     },
     "execution_count": 5,
     "metadata": {},
     "output_type": "execute_result"
    }
   ],
   "source": [
    "train_label_freq = y_train.groupby(y_train).count()\n",
    "train_label_freq.head()"
   ]
  },
  {
   "cell_type": "code",
   "execution_count": 6,
   "metadata": {},
   "outputs": [
    {
     "data": {
      "text/plain": [
       "<AxesSubplot:xlabel='label'>"
      ]
     },
     "execution_count": 6,
     "metadata": {},
     "output_type": "execute_result"
    },
    {
     "data": {
      "image/png": "[encoded data removed]",
      "text/plain": [
       "<Figure size 432x288 with 1 Axes>"
      ]
     },
     "metadata": {
      "needs_background": "light"
     },
     "output_type": "display_data"
    }
   ],
   "source": [
    "\n",
    "\n",
    "train_label_freq.plot.bar()"
   ]
  },
  {
   "cell_type": "markdown",
   "metadata": {},
   "source": [
    "dataset appears balances enough for use"
   ]
  },
  {
   "cell_type": "code",
   "execution_count": 7,
   "metadata": {},
   "outputs": [
    {
     "data": {
      "text/html": [
       "<div>\n",
       "<style scoped>\n",
       "    .dataframe tbody tr th:only-of-type {\n",
       "        vertical-align: middle;\n",
       "    }\n",
       "\n",
       "    .dataframe tbody tr th {\n",
       "        vertical-align: top;\n",
       "    }\n",
       "\n",
       "    .dataframe thead th {\n",
       "        text-align: right;\n",
       "    }\n",
       "</style>\n",
       "<table border=\"1\" class=\"dataframe\">\n",
       "  <thead>\n",
       "    <tr style=\"text-align: right;\">\n",
       "      <th></th>\n",
       "      <th>pixel1</th>\n",
       "      <th>pixel2</th>\n",
       "      <th>pixel3</th>\n",
       "      <th>pixel4</th>\n",
       "      <th>pixel5</th>\n",
       "      <th>pixel6</th>\n",
       "      <th>pixel7</th>\n",
       "      <th>pixel8</th>\n",
       "      <th>pixel9</th>\n",
       "      <th>pixel10</th>\n",
       "      <th>...</th>\n",
       "      <th>pixel775</th>\n",
       "      <th>pixel776</th>\n",
       "      <th>pixel777</th>\n",
       "      <th>pixel778</th>\n",
       "      <th>pixel779</th>\n",
       "      <th>pixel780</th>\n",
       "      <th>pixel781</th>\n",
       "      <th>pixel782</th>\n",
       "      <th>pixel783</th>\n",
       "      <th>pixel784</th>\n",
       "    </tr>\n",
       "  </thead>\n",
       "  <tbody>\n",
       "    <tr>\n",
       "      <th>0</th>\n",
       "      <td>107</td>\n",
       "      <td>118</td>\n",
       "      <td>127</td>\n",
       "      <td>134</td>\n",
       "      <td>139</td>\n",
       "      <td>143</td>\n",
       "      <td>146</td>\n",
       "      <td>150</td>\n",
       "      <td>153</td>\n",
       "      <td>156</td>\n",
       "      <td>...</td>\n",
       "      <td>207</td>\n",
       "      <td>207</td>\n",
       "      <td>207</td>\n",
       "      <td>207</td>\n",
       "      <td>206</td>\n",
       "      <td>206</td>\n",
       "      <td>206</td>\n",
       "      <td>204</td>\n",
       "      <td>203</td>\n",
       "      <td>202</td>\n",
       "    </tr>\n",
       "    <tr>\n",
       "      <th>1</th>\n",
       "      <td>155</td>\n",
       "      <td>157</td>\n",
       "      <td>156</td>\n",
       "      <td>156</td>\n",
       "      <td>156</td>\n",
       "      <td>157</td>\n",
       "      <td>156</td>\n",
       "      <td>158</td>\n",
       "      <td>158</td>\n",
       "      <td>157</td>\n",
       "      <td>...</td>\n",
       "      <td>69</td>\n",
       "      <td>149</td>\n",
       "      <td>128</td>\n",
       "      <td>87</td>\n",
       "      <td>94</td>\n",
       "      <td>163</td>\n",
       "      <td>175</td>\n",
       "      <td>103</td>\n",
       "      <td>135</td>\n",
       "      <td>149</td>\n",
       "    </tr>\n",
       "    <tr>\n",
       "      <th>2</th>\n",
       "      <td>187</td>\n",
       "      <td>188</td>\n",
       "      <td>188</td>\n",
       "      <td>187</td>\n",
       "      <td>187</td>\n",
       "      <td>186</td>\n",
       "      <td>187</td>\n",
       "      <td>188</td>\n",
       "      <td>187</td>\n",
       "      <td>186</td>\n",
       "      <td>...</td>\n",
       "      <td>202</td>\n",
       "      <td>201</td>\n",
       "      <td>200</td>\n",
       "      <td>199</td>\n",
       "      <td>198</td>\n",
       "      <td>199</td>\n",
       "      <td>198</td>\n",
       "      <td>195</td>\n",
       "      <td>194</td>\n",
       "      <td>195</td>\n",
       "    </tr>\n",
       "    <tr>\n",
       "      <th>3</th>\n",
       "      <td>211</td>\n",
       "      <td>211</td>\n",
       "      <td>212</td>\n",
       "      <td>212</td>\n",
       "      <td>211</td>\n",
       "      <td>210</td>\n",
       "      <td>211</td>\n",
       "      <td>210</td>\n",
       "      <td>210</td>\n",
       "      <td>211</td>\n",
       "      <td>...</td>\n",
       "      <td>235</td>\n",
       "      <td>234</td>\n",
       "      <td>233</td>\n",
       "      <td>231</td>\n",
       "      <td>230</td>\n",
       "      <td>226</td>\n",
       "      <td>225</td>\n",
       "      <td>222</td>\n",
       "      <td>229</td>\n",
       "      <td>163</td>\n",
       "    </tr>\n",
       "    <tr>\n",
       "      <th>4</th>\n",
       "      <td>164</td>\n",
       "      <td>167</td>\n",
       "      <td>170</td>\n",
       "      <td>172</td>\n",
       "      <td>176</td>\n",
       "      <td>179</td>\n",
       "      <td>180</td>\n",
       "      <td>184</td>\n",
       "      <td>185</td>\n",
       "      <td>186</td>\n",
       "      <td>...</td>\n",
       "      <td>92</td>\n",
       "      <td>105</td>\n",
       "      <td>105</td>\n",
       "      <td>108</td>\n",
       "      <td>133</td>\n",
       "      <td>163</td>\n",
       "      <td>157</td>\n",
       "      <td>163</td>\n",
       "      <td>164</td>\n",
       "      <td>179</td>\n",
       "    </tr>\n",
       "  </tbody>\n",
       "</table>\n",
       "<p>5 rows × 784 columns</p>\n",
       "</div>"
      ],
      "text/plain": [
       "   pixel1  pixel2  pixel3  pixel4  pixel5  pixel6  pixel7  pixel8  pixel9  \\\n",
       "0     107     118     127     134     139     143     146     150     153   \n",
       "1     155     157     156     156     156     157     156     158     158   \n",
       "2     187     188     188     187     187     186     187     188     187   \n",
       "3     211     211     212     212     211     210     211     210     210   \n",
       "4     164     167     170     172     176     179     180     184     185   \n",
       "\n",
       "   pixel10  ...  pixel775  pixel776  pixel777  pixel778  pixel779  pixel780  \\\n",
       "0      156  ...       207       207       207       207       206       206   \n",
       "1      157  ...        69       149       128        87        94       163   \n",
       "2      186  ...       202       201       200       199       198       199   \n",
       "3      211  ...       235       234       233       231       230       226   \n",
       "4      186  ...        92       105       105       108       133       163   \n",
       "\n",
       "   pixel781  pixel782  pixel783  pixel784  \n",
       "0       206       204       203       202  \n",
       "1       175       103       135       149  \n",
       "2       198       195       194       195  \n",
       "3       225       222       229       163  \n",
       "4       157       163       164       179  \n",
       "\n",
       "[5 rows x 784 columns]"
      ]
     },
     "execution_count": 7,
     "metadata": {},
     "output_type": "execute_result"
    }
   ],
   "source": [
    "X_train = train_data.iloc[:,1:]\n",
    "X_train.head()"
   ]
  },
  {
   "cell_type": "code",
   "execution_count": 8,
   "metadata": {},
   "outputs": [],
   "source": [
    "y_test = test_data.iloc[:,0]\n",
    "X_test = test_data.iloc[:,1:]"
   ]
  },
  {
   "cell_type": "code",
   "execution_count": null,
   "metadata": {},
   "outputs": [],
   "source": []
  },
  {
   "cell_type": "markdown",
   "metadata": {},
   "source": [
    "    From the class notebook section BUILDING A CNN USING TENSORFLOW     "
   ]
  },
  {
   "cell_type": "code",
   "execution_count": 9,
   "metadata": {},
   "outputs": [],
   "source": [
    "# Specific neural network models & layer types\n",
    "from tensorflow.keras.models import Sequential\n",
    "\n",
    "from tensorflow.keras.layers import Dense\n",
    "from tensorflow.keras.layers import Dropout\n",
    "\n",
    "\n",
    "from tensorflow.keras.layers import Conv2D\n",
    "from tensorflow.keras.layers import MaxPooling2D\n",
    "from tensorflow.keras.layers import Flatten"
   ]
  },
  {
   "cell_type": "code",
   "execution_count": 10,
   "metadata": {},
   "outputs": [
    {
     "name": "stdout",
     "output_type": "stream",
     "text": [
      "X_train shape: (27455, 784)\n",
      "y_train shape: (27455,)\n",
      "X_test shape: (7172, 784)\n",
      "y_test shape: (7172,)\n"
     ]
    }
   ],
   "source": [
    "# Check out the data\n",
    "print(f'X_train shape: {X_train.shape}')\n",
    "print(f'y_train shape: {y_train.shape}')\n",
    "print(f'X_test shape: {X_test.shape}')\n",
    "print(f'y_test shape: {y_test.shape}')"
   ]
  },
  {
   "cell_type": "code",
   "execution_count": 11,
   "metadata": {},
   "outputs": [
    {
     "name": "stdout",
     "output_type": "stream",
     "text": [
      "X range: 0-255\n",
      "y values: [ 0  1  2  3  4  5  6  7  8 10 11 12 13 14 15 16 17 18 19 20 21 22 23 24]\n",
      "Number of classes: 24\n"
     ]
    }
   ],
   "source": [
    "# range of x values\n",
    "print(f'X range: {X_train.min()[0]}-{X_train.max()[0]}') #just for show\n",
    "# y unique values\n",
    "print(f'y values: {np.unique(y_train)}')\n",
    "num_classes = len(np.unique(y_train))\n",
    "print(f'Number of classes: {num_classes}') #no 9's present"
   ]
  },
  {
   "cell_type": "code",
   "execution_count": 12,
   "metadata": {},
   "outputs": [
    {
     "data": {
      "text/plain": [
       "<matplotlib.image.AxesImage at 0x2b5ae822df0>"
      ]
     },
     "execution_count": 12,
     "metadata": {},
     "output_type": "execute_result"
    },
    {
     "data": {
      "image/png": "[encoded data removed]",
      "text/plain": [
       "<Figure size 432x288 with 1 Axes>"
      ]
     },
     "metadata": {
      "needs_background": "light"
     },
     "output_type": "display_data"
    }
   ],
   "source": [
    "# plt.pyplot.imshow(X_train.iloc[0,:]) \n",
    "# error generated: Invalid shape (784,) for image data\n",
    "#sqrt(784) = 28\n",
    "sample_image = X_train.iloc[0,:].values.reshape(28,28)\n",
    "plt.pyplot.imshow(sample_image, cmap = 'gray')"
   ]
  },
  {
   "cell_type": "markdown",
   "metadata": {},
   "source": [
    "creating an __X_train__ array of 28x28 images"
   ]
  },
  {
   "cell_type": "code",
   "execution_count": 13,
   "metadata": {},
   "outputs": [
    {
     "data": {
      "image/png": "[encoded data removed]",
      "text/plain": [
       "<Figure size 432x288 with 1 Axes>"
      ]
     },
     "metadata": {
      "needs_background": "light"
     },
     "output_type": "display_data"
    },
    {
     "data": {
      "image/png": "[encoded data removed]",
      "text/plain": [
       "<Figure size 432x288 with 1 Axes>"
      ]
     },
     "metadata": {
      "needs_background": "light"
     },
     "output_type": "display_data"
    },
    {
     "data": {
      "text/plain": [
       "(27455, 28, 28)"
      ]
     },
     "execution_count": 13,
     "metadata": {},
     "output_type": "execute_result"
    }
   ],
   "source": [
    "X_images_train = []\n",
    "for n in range(X_train.shape[0]):\n",
    "    nth_image = X_train.iloc[n,:].values.reshape(28,28)\n",
    "    X_images_train.append(nth_image)\n",
    "\n",
    "#showing results\n",
    "plt.pyplot.imshow(X_images_train[0], cmap = 'gray')\n",
    "plt.pyplot.show()\n",
    "plt.pyplot.imshow(X_images_train[1], cmap = 'gray')\n",
    "plt.pyplot.show()\n",
    "np.array(X_images_train).shape"
   ]
  },
  {
   "cell_type": "markdown",
   "metadata": {},
   "source": [
    "Creating a matching __X_test__ array of 28x28 images"
   ]
  },
  {
   "cell_type": "code",
   "execution_count": 14,
   "metadata": {},
   "outputs": [
    {
     "data": {
      "image/png": "[encoded data removed]",
      "text/plain": [
       "<Figure size 432x288 with 1 Axes>"
      ]
     },
     "metadata": {
      "needs_background": "light"
     },
     "output_type": "display_data"
    },
    {
     "data": {
      "image/png": "[encoded data removed]",
      "text/plain": [
       "<Figure size 432x288 with 1 Axes>"
      ]
     },
     "metadata": {
      "needs_background": "light"
     },
     "output_type": "display_data"
    },
    {
     "data": {
      "text/plain": [
       "(27455, 28, 28)"
      ]
     },
     "execution_count": 14,
     "metadata": {},
     "output_type": "execute_result"
    }
   ],
   "source": [
    "X_images_test = []\n",
    "for n in range(X_test.shape[0]):\n",
    "    nth_image = X_test.iloc[n,:].values.reshape(28,28)\n",
    "    X_images_test.append(nth_image)\n",
    "\n",
    "\n",
    "plt.pyplot.imshow(X_images_test[0], cmap = 'gray')\n",
    "plt.pyplot.show()\n",
    "plt.pyplot.imshow(X_images_test[1], cmap = 'gray')\n",
    "plt.pyplot.show()\n",
    "np.array(X_images_train).shape"
   ]
  },
  {
   "cell_type": "code",
   "execution_count": 15,
   "metadata": {},
   "outputs": [
    {
     "name": "stdout",
     "output_type": "stream",
     "text": [
      "X_train shape: (27455, 28, 28, 1)\n",
      "X_test shape: (7172, 28, 28, 1)\n"
     ]
    }
   ],
   "source": [
    "# Define input image dimensions\n",
    "img_rows, img_cols = 28, 28\n",
    "# Reshape for Keras model types\n",
    "X_train = X_train.values.reshape(X_train.shape[0], img_rows, img_cols, 1)\n",
    "X_test = X_test.values.reshape(X_test.shape[0], img_rows, img_cols, 1)\n",
    "\n",
    "print(f'X_train shape: {X_train.shape}')\n",
    "print(f'X_test shape: {X_test.shape}')\n"
   ]
  },
  {
   "cell_type": "markdown",
   "metadata": {},
   "source": [
    "Scaling pixel values from 0-255 to 0-1 linearly (min-max scaling)"
   ]
  },
  {
   "cell_type": "code",
   "execution_count": 16,
   "metadata": {},
   "outputs": [
    {
     "name": "stdout",
     "output_type": "stream",
     "text": [
      "X_train range: 0.0-1.0\n"
     ]
    }
   ],
   "source": [
    "X_train = X_train.astype('float32') / 255\n",
    "X_test = X_test.astype('float32') / 255\n",
    "\n",
    "print(f'X_train range: {X_train.min()}-{X_train.max()}')"
   ]
  },
  {
   "cell_type": "markdown",
   "metadata": {},
   "source": [
    "Constructing the CNN model"
   ]
  },
  {
   "cell_type": "code",
   "execution_count": 17,
   "metadata": {},
   "outputs": [
    {
     "name": "stdout",
     "output_type": "stream",
     "text": [
      "Model: \"sequential\"\n",
      "_________________________________________________________________\n",
      "Layer (type)                 Output Shape              Param #   \n",
      "=================================================================\n",
      "conv2d (Conv2D)              (None, 26, 26, 32)        320       \n",
      "_________________________________________________________________\n",
      "conv2d_1 (Conv2D)            (None, 24, 24, 64)        18496     \n",
      "_________________________________________________________________\n",
      "max_pooling2d (MaxPooling2D) (None, 12, 12, 64)        0         \n",
      "_________________________________________________________________\n",
      "dropout (Dropout)            (None, 12, 12, 64)        0         \n",
      "_________________________________________________________________\n",
      "flatten (Flatten)            (None, 9216)              0         \n",
      "_________________________________________________________________\n",
      "dense (Dense)                (None, 128)               1179776   \n",
      "_________________________________________________________________\n",
      "dropout_1 (Dropout)          (None, 128)               0         \n",
      "_________________________________________________________________\n",
      "dense_1 (Dense)              (None, 25)                3225      \n",
      "=================================================================\n",
      "Total params: 1,201,817\n",
      "Trainable params: 1,201,817\n",
      "Non-trainable params: 0\n",
      "_________________________________________________________________\n"
     ]
    }
   ],
   "source": [
    "CNN_model = Sequential()\n",
    "\n",
    "\n",
    "\n",
    "\n",
    "\n",
    "CNN_model.add(Conv2D(32, kernel_size=(3, 3), activation = 'relu', input_shape = (28, 28, 1)))\n",
    "\n",
    "CNN_model.add(Conv2D(64, (3, 3), activation='relu'))\n",
    "CNN_model.add(MaxPooling2D(pool_size=(2, 2))) #avg pooling may also be used\n",
    "\n",
    "CNN_model.add(Dropout(0.25)) #dropout may be varied here\n",
    "\n",
    "\n",
    "\n",
    "CNN_model.add(Flatten())\n",
    "\n",
    "\n",
    "CNN_model.add(Dense(128, activation='relu'))\n",
    "CNN_model.add(Dropout(0.5))\n",
    "\n",
    "# num_classes was here, but as the labels are missing an int before 24m\n",
    "# num_classes is too small\n",
    "# if this results in it guessing a nonexistant class or something\n",
    "# here may be why\n",
    "CNN_model.add(Dense(num_classes+1, activation='softmax'))\n",
    "\n",
    "# Print out a summary of the network\n",
    "CNN_model.summary()"
   ]
  },
  {
   "cell_type": "markdown",
   "metadata": {},
   "source": [
    "Compiling"
   ]
  },
  {
   "cell_type": "code",
   "execution_count": 25,
   "metadata": {},
   "outputs": [],
   "source": [
    "CNN_model.compile(loss = 'sparse_categorical_crossentropy', #loss function\n",
    "                  optimizer = 'Adam',\n",
    "                  metrics = ['accuracy']) #value to maximize"
   ]
  },
  {
   "cell_type": "markdown",
   "metadata": {},
   "source": [
    "Training"
   ]
  },
  {
   "cell_type": "code",
   "execution_count": 19,
   "metadata": {},
   "outputs": [],
   "source": [
    "X_train, X_vali, y_train, y_vali = train_test_split(X_train, y_train, test_size = .32)"
   ]
  },
  {
   "cell_type": "code",
   "execution_count": 26,
   "metadata": {},
   "outputs": [
    {
     "name": "stdout",
     "output_type": "stream",
     "text": [
      "Epoch 1/15\n",
      "146/146 [==============================] - 22s 154ms/step - loss: 0.0486 - accuracy: 0.9831 - val_loss: 6.9047e-04 - val_accuracy: 0.9999\n",
      "Epoch 2/15\n",
      "146/146 [==============================] - 23s 155ms/step - loss: 0.0437 - accuracy: 0.9861 - val_loss: 4.5489e-04 - val_accuracy: 1.0000\n",
      "Epoch 3/15\n",
      "146/146 [==============================] - 22s 150ms/step - loss: 0.0412 - accuracy: 0.9855 - val_loss: 1.9994e-04 - val_accuracy: 1.0000\n",
      "Epoch 4/15\n",
      "146/146 [==============================] - 22s 149ms/step - loss: 0.0374 - accuracy: 0.9882 - val_loss: 2.2713e-04 - val_accuracy: 1.0000\n",
      "Epoch 5/15\n",
      "146/146 [==============================] - 22s 148ms/step - loss: 0.0311 - accuracy: 0.9894 - val_loss: 1.6691e-04 - val_accuracy: 1.0000\n",
      "Epoch 6/15\n",
      "146/146 [==============================] - 21s 145ms/step - loss: 0.0350 - accuracy: 0.9878 - val_loss: 8.3616e-05 - val_accuracy: 1.0000\n",
      "Epoch 7/15\n",
      "146/146 [==============================] - 22s 151ms/step - loss: 0.0289 - accuracy: 0.9898 - val_loss: 1.0309e-04 - val_accuracy: 1.0000\n",
      "Epoch 8/15\n",
      "146/146 [==============================] - 21s 143ms/step - loss: 0.0268 - accuracy: 0.9910 - val_loss: 1.2595e-04 - val_accuracy: 1.0000\n",
      "Epoch 9/15\n",
      "146/146 [==============================] - 21s 146ms/step - loss: 0.0255 - accuracy: 0.9908 - val_loss: 7.9435e-05 - val_accuracy: 1.0000\n",
      "Epoch 10/15\n",
      "146/146 [==============================] - 21s 146ms/step - loss: 0.0236 - accuracy: 0.9913 - val_loss: 3.7419e-05 - val_accuracy: 1.0000\n",
      "Epoch 11/15\n",
      "146/146 [==============================] - 21s 147ms/step - loss: 0.0240 - accuracy: 0.9917 - val_loss: 1.1915e-04 - val_accuracy: 1.0000\n",
      "Epoch 12/15\n",
      "146/146 [==============================] - 21s 147ms/step - loss: 0.0229 - accuracy: 0.9924 - val_loss: 2.7131e-04 - val_accuracy: 0.9999\n",
      "Epoch 13/15\n",
      "146/146 [==============================] - 21s 145ms/step - loss: 0.0230 - accuracy: 0.9923 - val_loss: 4.9589e-05 - val_accuracy: 1.0000\n",
      "Epoch 14/15\n",
      "146/146 [==============================] - 21s 147ms/step - loss: 0.0203 - accuracy: 0.9930 - val_loss: 2.2852e-04 - val_accuracy: 0.9999\n",
      "Epoch 15/15\n",
      "146/146 [==============================] - 21s 145ms/step - loss: 0.0222 - accuracy: 0.9921 - val_loss: 3.6501e-05 - val_accuracy: 1.0000\n"
     ]
    },
    {
     "data": {
      "text/plain": [
       "<tensorflow.python.keras.callbacks.History at 0x2b5af8d54f0>"
      ]
     },
     "execution_count": 26,
     "metadata": {},
     "output_type": "execute_result"
    }
   ],
   "source": [
    "# Fit the model on the training data, defining desired batch_size & number of epochs,\n",
    "# running validation on the test data after each batch\n",
    "# THIS WILL TAKE A LONG TIME TO RUN!!!\n",
    "CNN_model.fit(X_train, y_train,\n",
    "              batch_size = 128,\n",
    "              epochs = 15,\n",
    "              verbose = 1,\n",
    "              validation_data = (X_vali, y_vali))"
   ]
  },
  {
   "cell_type": "markdown",
   "metadata": {},
   "source": [
    "evaluating via test data"
   ]
  },
  {
   "cell_type": "code",
   "execution_count": 27,
   "metadata": {},
   "outputs": [
    {
     "name": "stdout",
     "output_type": "stream",
     "text": [
      "225/225 [==============================] - 2s 10ms/step - loss: 0.5956 - accuracy: 0.9126\n",
      "Test loss: 0.595599353313446\n",
      "Test accuracy: 0.9125766754150391\n"
     ]
    }
   ],
   "source": [
    "score = CNN_model.evaluate(X_test, y_test, verbose=1)\n",
    "\n",
    "print('Test loss:', score[0])\n",
    "print('Test accuracy:', score[1])"
   ]
  },
  {
   "cell_type": "markdown",
   "metadata": {},
   "source": [
    "This evaluation step seems pretty quick - perhaps input multiple images from video feed at once and let it return the mode?"
   ]
  },
  {
   "cell_type": "code",
   "execution_count": 28,
   "metadata": {},
   "outputs": [
    {
     "name": "stdout",
     "output_type": "stream",
     "text": [
      "[[[[0.7019608 ]\n",
      "   [0.7176471 ]\n",
      "   [0.7294118 ]\n",
      "   ...\n",
      "   [0.79607844]\n",
      "   [0.7921569 ]\n",
      "   [0.79607844]]\n",
      "\n",
      "  [[0.72156864]\n",
      "   [0.73333335]\n",
      "   [0.7529412 ]\n",
      "   ...\n",
      "   [0.8117647 ]\n",
      "   [0.80784315]\n",
      "   [0.8       ]]\n",
      "\n",
      "  [[0.7372549 ]\n",
      "   [0.7529412 ]\n",
      "   [0.76862746]\n",
      "   ...\n",
      "   [0.827451  ]\n",
      "   [0.8235294 ]\n",
      "   [0.8156863 ]]\n",
      "\n",
      "  ...\n",
      "\n",
      "  [[0.77254903]\n",
      "   [0.8       ]\n",
      "   [0.83137256]\n",
      "   ...\n",
      "   [1.        ]\n",
      "   [1.        ]\n",
      "   [1.        ]]\n",
      "\n",
      "  [[0.45882353]\n",
      "   [0.4627451 ]\n",
      "   [0.4745098 ]\n",
      "   ...\n",
      "   [1.        ]\n",
      "   [1.        ]\n",
      "   [1.        ]]\n",
      "\n",
      "  [[0.49411765]\n",
      "   [0.49019608]\n",
      "   [0.49019608]\n",
      "   ...\n",
      "   [0.8980392 ]\n",
      "   [0.91764706]\n",
      "   [1.        ]]]\n",
      "\n",
      "\n",
      " [[[0.6784314 ]\n",
      "   [0.68235296]\n",
      "   [0.6901961 ]\n",
      "   ...\n",
      "   [0.654902  ]\n",
      "   [0.64705884]\n",
      "   [0.6392157 ]]\n",
      "\n",
      "  [[0.6862745 ]\n",
      "   [0.6901961 ]\n",
      "   [0.69803923]\n",
      "   ...\n",
      "   [0.6627451 ]\n",
      "   [0.65882355]\n",
      "   [0.64705884]]\n",
      "\n",
      "  [[0.6901961 ]\n",
      "   [0.69803923]\n",
      "   [0.70980394]\n",
      "   ...\n",
      "   [0.67058825]\n",
      "   [0.6666667 ]\n",
      "   [0.6627451 ]]\n",
      "\n",
      "  ...\n",
      "\n",
      "  [[0.5254902 ]\n",
      "   [0.5294118 ]\n",
      "   [0.52156866]\n",
      "   ...\n",
      "   [0.31764707]\n",
      "   [0.2784314 ]\n",
      "   [0.30980393]]\n",
      "\n",
      "  [[0.5372549 ]\n",
      "   [0.5254902 ]\n",
      "   [0.53333336]\n",
      "   ...\n",
      "   [0.36862746]\n",
      "   [0.28627452]\n",
      "   [0.2784314 ]]\n",
      "\n",
      "  [[0.5372549 ]\n",
      "   [0.5372549 ]\n",
      "   [0.53333336]\n",
      "   ...\n",
      "   [0.4117647 ]\n",
      "   [0.31764707]\n",
      "   [0.26666668]]]\n",
      "\n",
      "\n",
      " [[[0.6392157 ]\n",
      "   [0.6431373 ]\n",
      "   [0.64705884]\n",
      "   ...\n",
      "   [0.67058825]\n",
      "   [0.6666667 ]\n",
      "   [0.6627451 ]]\n",
      "\n",
      "  [[0.6431373 ]\n",
      "   [0.6509804 ]\n",
      "   [0.654902  ]\n",
      "   ...\n",
      "   [0.6745098 ]\n",
      "   [0.6745098 ]\n",
      "   [0.6666667 ]]\n",
      "\n",
      "  [[0.6509804 ]\n",
      "   [0.654902  ]\n",
      "   [0.6666667 ]\n",
      "   ...\n",
      "   [0.68235296]\n",
      "   [0.6862745 ]\n",
      "   [0.68235296]]\n",
      "\n",
      "  ...\n",
      "\n",
      "  [[0.7607843 ]\n",
      "   [0.75686276]\n",
      "   [0.8039216 ]\n",
      "   ...\n",
      "   [0.8117647 ]\n",
      "   [0.80784315]\n",
      "   [0.80784315]]\n",
      "\n",
      "  [[0.7607843 ]\n",
      "   [0.7607843 ]\n",
      "   [0.827451  ]\n",
      "   ...\n",
      "   [0.81960785]\n",
      "   [0.8117647 ]\n",
      "   [0.8117647 ]]\n",
      "\n",
      "  [[0.74509805]\n",
      "   [0.79607844]\n",
      "   [0.6666667 ]\n",
      "   ...\n",
      "   [0.8156863 ]\n",
      "   [0.8117647 ]\n",
      "   [0.80784315]]]\n",
      "\n",
      "\n",
      " ...\n",
      "\n",
      "\n",
      " [[[0.57254905]\n",
      "   [0.58431375]\n",
      "   [0.5921569 ]\n",
      "   ...\n",
      "   [0.7254902 ]\n",
      "   [0.72156864]\n",
      "   [0.7176471 ]]\n",
      "\n",
      "  [[0.5764706 ]\n",
      "   [0.58431375]\n",
      "   [0.5921569 ]\n",
      "   ...\n",
      "   [0.7294118 ]\n",
      "   [0.7254902 ]\n",
      "   [0.7254902 ]]\n",
      "\n",
      "  [[0.5764706 ]\n",
      "   [0.5882353 ]\n",
      "   [0.5921569 ]\n",
      "   ...\n",
      "   [0.73333335]\n",
      "   [0.7294118 ]\n",
      "   [0.73333335]]\n",
      "\n",
      "  ...\n",
      "\n",
      "  [[0.67058825]\n",
      "   [0.7137255 ]\n",
      "   [0.7254902 ]\n",
      "   ...\n",
      "   [0.81960785]\n",
      "   [0.8156863 ]\n",
      "   [0.8156863 ]]\n",
      "\n",
      "  [[0.46666667]\n",
      "   [0.6156863 ]\n",
      "   [0.6313726 ]\n",
      "   ...\n",
      "   [0.81960785]\n",
      "   [0.81960785]\n",
      "   [0.8156863 ]]\n",
      "\n",
      "  [[0.23137255]\n",
      "   [0.3019608 ]\n",
      "   [0.4       ]\n",
      "   ...\n",
      "   [0.8235294 ]\n",
      "   [0.81960785]\n",
      "   [0.8156863 ]]]\n",
      "\n",
      "\n",
      " [[[0.70980394]\n",
      "   [0.70980394]\n",
      "   [0.70980394]\n",
      "   ...\n",
      "   [0.15686275]\n",
      "   [0.16862746]\n",
      "   [0.23137255]]\n",
      "\n",
      "  [[0.7137255 ]\n",
      "   [0.7176471 ]\n",
      "   [0.72156864]\n",
      "   ...\n",
      "   [0.18039216]\n",
      "   [0.19607843]\n",
      "   [0.3019608 ]]\n",
      "\n",
      "  [[0.7294118 ]\n",
      "   [0.73333335]\n",
      "   [0.73333335]\n",
      "   ...\n",
      "   [0.1882353 ]\n",
      "   [0.2627451 ]\n",
      "   [0.3647059 ]]\n",
      "\n",
      "  ...\n",
      "\n",
      "  [[0.48235294]\n",
      "   [0.4745098 ]\n",
      "   [0.4745098 ]\n",
      "   ...\n",
      "   [0.8980392 ]\n",
      "   [0.5529412 ]\n",
      "   [0.6784314 ]]\n",
      "\n",
      "  [[0.48235294]\n",
      "   [0.4862745 ]\n",
      "   [0.48235294]\n",
      "   ...\n",
      "   [0.827451  ]\n",
      "   [0.49803922]\n",
      "   [0.7490196 ]]\n",
      "\n",
      "  [[0.48235294]\n",
      "   [0.48235294]\n",
      "   [0.4862745 ]\n",
      "   ...\n",
      "   [0.7921569 ]\n",
      "   [0.5137255 ]\n",
      "   [0.7411765 ]]]\n",
      "\n",
      "\n",
      " [[[0.5294118 ]\n",
      "   [0.54509807]\n",
      "   [0.5568628 ]\n",
      "   ...\n",
      "   [0.62352943]\n",
      "   [0.61960787]\n",
      "   [0.6156863 ]]\n",
      "\n",
      "  [[0.53333336]\n",
      "   [0.5529412 ]\n",
      "   [0.57254905]\n",
      "   ...\n",
      "   [0.6313726 ]\n",
      "   [0.627451  ]\n",
      "   [0.62352943]]\n",
      "\n",
      "  [[0.54509807]\n",
      "   [0.5686275 ]\n",
      "   [0.5803922 ]\n",
      "   ...\n",
      "   [0.6392157 ]\n",
      "   [0.63529414]\n",
      "   [0.6313726 ]]\n",
      "\n",
      "  ...\n",
      "\n",
      "  [[0.69411767]\n",
      "   [0.72156864]\n",
      "   [0.74509805]\n",
      "   ...\n",
      "   [0.80784315]\n",
      "   [0.8039216 ]\n",
      "   [0.79607844]]\n",
      "\n",
      "  [[0.69411767]\n",
      "   [0.72156864]\n",
      "   [0.74509805]\n",
      "   ...\n",
      "   [0.8117647 ]\n",
      "   [0.80784315]\n",
      "   [0.8       ]]\n",
      "\n",
      "  [[0.69803923]\n",
      "   [0.72156864]\n",
      "   [0.7411765 ]\n",
      "   ...\n",
      "   [0.8156863 ]\n",
      "   [0.8117647 ]\n",
      "   [0.8039216 ]]]]\n"
     ]
    }
   ],
   "source": [
    "print(X_train)"
   ]
  },
  {
   "cell_type": "markdown",
   "metadata": {},
   "source": [
    "Trying the second data set."
   ]
  },
  {
   "cell_type": "code",
   "execution_count": 23,
   "metadata": {},
   "outputs": [
    {
     "ename": "SyntaxError",
     "evalue": "invalid syntax (<ipython-input-23-179e8bd63ab0>, line 1)",
     "output_type": "error",
     "traceback": [
      "\u001b[1;36m  File \u001b[1;32m\"<ipython-input-23-179e8bd63ab0>\"\u001b[1;36m, line \u001b[1;32m1\u001b[0m\n\u001b[1;33m    train_col_data =\u001b[0m\n\u001b[1;37m                     ^\u001b[0m\n\u001b[1;31mSyntaxError\u001b[0m\u001b[1;31m:\u001b[0m invalid syntax\n"
     ]
    }
   ],
   "source": [
    "train_col_data = "
   ]
  }
 ],
 "metadata": {
  "kernelspec": {
   "display_name": "Python 3",
   "language": "python",
   "name": "python3"
  },
  "language_info": {
   "codemirror_mode": {
    "name": "ipython",
    "version": 3
   },
   "file_extension": ".py",
   "mimetype": "text/x-python",
   "name": "python",
   "nbconvert_exporter": "python",
   "pygments_lexer": "ipython3",
   "version": "3.8.5"
  }
 },
 "nbformat": 4,
 "nbformat_minor": 4
}
