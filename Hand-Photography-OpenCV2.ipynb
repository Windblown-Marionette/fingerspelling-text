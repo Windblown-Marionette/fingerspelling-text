{
 "cells": [
  {
   "cell_type": "code",
   "execution_count": 1,
   "metadata": {},
   "outputs": [],
   "source": [
    "import numpy\n",
    "import cv2 as cv\n",
    "import sys"
   ]
  },
  {
   "cell_type": "markdown",
   "metadata": {},
   "source": [
    "cv2 = [opencv-python](https://pypi.org/project/opencv-python/) 4.4.0.46\n",
    "\n",
    "opencv-python is a python wrapper for cv2, which runs on c++ code, allowing for code that is both easy and fast.\n",
    "\n",
    "cv2 creates numpy arrays, so importing numpy may come in handy."
   ]
  },
  {
   "cell_type": "markdown",
   "metadata": {},
   "source": [
    "## Table of contents\n",
    "\n",
    "[Capturing an image from my laptop camera](#Capturing-an-image-from-my-laptop-camera)\n",
    "\n",
    "Foreground Extraction"
   ]
  },
  {
   "cell_type": "markdown",
   "metadata": {},
   "source": [
    "### Opening an image with cv2 and optionally saving"
   ]
  },
  {
   "cell_type": "markdown",
   "metadata": {},
   "source": [
    "Made using this [documentation tutorial](https://docs.opencv.org/master/db/deb/tutorial_display_image.html) and [this tutorial](https://opencv-python-tutroals.readthedocs.io/en/latest/py_tutorials/py_gui/py_image_display/py_image_display.html)."
   ]
  },
  {
   "cell_type": "code",
   "execution_count": 3,
   "metadata": {},
   "outputs": [],
   "source": [
    "# read image from folder\n",
    "# if image read works then imread() returns numpy array\n",
    "# if image read fails then imread() returns None\n",
    "img = cv.imread('data/self_photos/capture.png')  \n",
    "if img is None:\n",
    "    sys.exit(\"Could not read the image.\")\n",
    "\n",
    "# pops up a window named 'image' that has the image img\n",
    "cv.imshow('image',img)  \n",
    "\n",
    "# cv.waitKey(0) waits indefinitely for a key press,\n",
    "# returning that pressed key as a string\n",
    "k = cv.waitKey(0) \n",
    "\n",
    "# press 's' to save the image into the following directory with the following name\n",
    "if k == ord(\"s\"):\n",
    "    cv.imwrite('data/opencv_images/capturecopy.png', img)\n",
    "\n",
    "#closes all windows opened by cv\n",
    "cv.destroyAllWindows()\n"
   ]
  },
  {
   "cell_type": "markdown",
   "metadata": {},
   "source": [
    "### Capturing an image from my laptop camera"
   ]
  },
  {
   "cell_type": "markdown",
   "metadata": {},
   "source": [
    "Made using [this stack overflow discussion](https://stackoverflow.com/questions/34588464/python-how-to-capture-image-from-webcam-on-click-using-opencv#34588758)."
   ]
  },
  {
   "cell_type": "code",
   "execution_count": 4,
   "metadata": {},
   "outputs": [
    {
     "name": "stdout",
     "output_type": "stream",
     "text": [
      "video feed launching\n",
      "quit\n"
     ]
    }
   ],
   "source": [
    "vid_feed = cv.VideoCapture(0) #  goes with the first camera it can find in this device\n",
    "\n",
    "#  creates a new window titled by the input string\n",
    "cv.namedWindow('test')\n",
    "print('video feed launching')\n",
    "while True:\n",
    "    success_bool, frame = vid_feed.read()\n",
    "    \n",
    "    if (not success_bool):\n",
    "        print('error reading video feed')\n",
    "        break        \n",
    "    \n",
    "    cv.imshow('test', frame)\n",
    "    # cv.waitKey(1) waits 1ms for a key press,\n",
    "    # returning that pressed key as a string\n",
    "    k = cv.waitKey(1) \n",
    "\n",
    "    # press 's' to save the image into the following directory with the following name\n",
    "    if k == ord(\"s\"):\n",
    "        cv.imwrite('data/opencv_images/capturecopy.png', frame)\n",
    "        print('image saved')\n",
    "    elif k == ord(\"q\"):\n",
    "        print('quit')\n",
    "        break\n",
    "    else:\n",
    "        pass\n",
    "\n",
    "#closes all windows opened by cv\n",
    "cv.destroyAllWindows()    \n",
    "    "
   ]
  },
  {
   "cell_type": "markdown",
   "metadata": {},
   "source": [
    "## Capturing an image of just my hands via cropping, for now"
   ]
  },
  {
   "cell_type": "markdown",
   "metadata": {},
   "source": [
    "As explained in [this stackexchange post](https://stackoverflow.com/questions/15589517/how-to-crop-an-image-in-opencv-using-python), cropping can be simply achieved by using numpy slicing.\n",
    "\n",
    "As a quick fix, the frame will be set manually and the hand will be moved until it is in frame."
   ]
  },
  {
   "cell_type": "code",
   "execution_count": 3,
   "metadata": {},
   "outputs": [
    {
     "name": "stdout",
     "output_type": "stream",
     "text": [
      "video feed launching\n",
      "quit\n"
     ]
    }
   ],
   "source": [
    "vid_feed = cv.VideoCapture(0) #  goes with the first camera it can find in this device\n",
    "\n",
    "#  creates a new window titled by the input string\n",
    "cv.namedWindow('test')\n",
    "print('video feed launching')\n",
    "while True:\n",
    "    success_bool, frame = vid_feed.read()\n",
    "    \n",
    "    if (not success_bool):\n",
    "        print('error reading video feed')\n",
    "        break        \n",
    "    \n",
    "    #cropping frame\n",
    "    frame = frame[150:420, 0:250] #  [ V , > ]\n",
    "    \n",
    "    cv.imshow('test', frame)\n",
    "    # cv.waitKey(1) waits 1ms for a key press,\n",
    "    # returning that pressed key as a string\n",
    "    k = cv.waitKey(1) \n",
    "\n",
    "    # press 's' to save the image into the following directory with the following name\n",
    "    if k == ord(\"s\"):\n",
    "        cv.imwrite('data/opencv_images/capturecopy.png', frame)\n",
    "        print('image saved')\n",
    "    elif k == ord(\"q\"):\n",
    "        print('quit')\n",
    "        break\n",
    "    else:\n",
    "        pass\n",
    "\n",
    "#closes all windows opened by cv\n",
    "cv.destroyAllWindows()    \n",
    "    "
   ]
  },
  {
   "cell_type": "markdown",
   "metadata": {},
   "source": [
    "## Foreground detection"
   ]
  },
  {
   "cell_type": "markdown",
   "metadata": {},
   "source": [
    "By subtracting the background from images, the background may contribute less to CNN readings."
   ]
  },
  {
   "cell_type": "markdown",
   "metadata": {},
   "source": [
    "First try, subtracting an image of the background from the current image.\n",
    "This may mess up the hand's pixel values a lot."
   ]
  },
  {
   "cell_type": "code",
   "execution_count": null,
   "metadata": {},
   "outputs": [
    {
     "name": "stdout",
     "output_type": "stream",
     "text": [
      "video feed launching\n"
     ]
    }
   ],
   "source": [
    "vid_feed = cv.VideoCapture(0) #  goes with the first camera it can find in this device\n",
    "\n",
    "#  creates a new window titled by the input string\n",
    "cv.namedWindow('test')\n",
    "print('video feed launching')\n",
    "\n",
    "success_bool, bg_frame = vid_feed.read()\n",
    "    \n",
    "if (not success_bool):\n",
    "    print('error reading video feed')\n",
    "    \n",
    "while True:\n",
    "    success_bool, bg_frame = vid_feed.read()\n",
    "    \n",
    "    if (not success_bool):\n",
    "        print('error reading video feed')\n",
    "        break \n",
    "        \n",
    "    success_bool, frame = vid_feed.read()\n",
    "    \n",
    "    if (not success_bool):\n",
    "        print('error reading video feed')\n",
    "        break \n",
    "        \n",
    "    #background subtraction\n",
    "    frame = frame - bg_frame\n",
    "        \n",
    "    #cropping frame\n",
    "    frame = frame[150:420, 0:250] #  [ V , > ]\n",
    "\n",
    "    #showing image\n",
    "    cv.imshow('test', frame)\n",
    "    \n",
    "    # cv.waitKey(1) waits 1ms for a key press,\n",
    "    # returning that pressed key as a string\n",
    "    k = cv.waitKey(1) \n",
    "\n",
    "    # press 's' to save the image into the following directory with the following name\n",
    "    if k == ord(\"s\"):\n",
    "        cv.imwrite('data/opencv_images/capturecopy.png', frame)\n",
    "        print('image saved')\n",
    "    elif k == ord(\"q\"):\n",
    "        print('quit')\n",
    "        break\n",
    "    else:\n",
    "        pass\n",
    "\n",
    "#closes all windows opened by cv\n",
    "cv.destroyAllWindows()    \n",
    "    "
   ]
  },
  {
   "cell_type": "markdown",
   "metadata": {},
   "source": [
    "This was very cool looking. It made a print of the bookshelf appear along the silhouette of my hand, and multicolor noise filled the background, seeming to vary as the camera experienced noise and as it automatically adjusted its settings to maintain image quality."
   ]
  },
  {
   "cell_type": "code",
   "execution_count": 18,
   "metadata": {},
   "outputs": [
    {
     "data": {
      "text/plain": [
       "array([[[ 96, 117, 113],\n",
       "        [ 94, 118, 118],\n",
       "        [ 86, 116, 117],\n",
       "        ...,\n",
       "        [ 19,  48,  76],\n",
       "        [ 14,  43,  71],\n",
       "        [ 16,  45,  73]],\n",
       "\n",
       "       [[ 97, 118, 114],\n",
       "        [ 94, 118, 118],\n",
       "        [ 86, 116, 117],\n",
       "        ...,\n",
       "        [  7,  36,  64],\n",
       "        [  2,  31,  59],\n",
       "        [  1,  30,  58]],\n",
       "\n",
       "       [[ 93, 118, 113],\n",
       "        [ 90, 118, 119],\n",
       "        [ 86, 117, 124],\n",
       "        ...,\n",
       "        [  2,  26,  54],\n",
       "        [  3,  29,  57],\n",
       "        [  0,  28,  56]],\n",
       "\n",
       "       ...,\n",
       "\n",
       "       [[156, 142, 125],\n",
       "        [155, 138, 123],\n",
       "        [152, 135, 120],\n",
       "        ...,\n",
       "        [206, 204, 193],\n",
       "        [204, 205, 193],\n",
       "        [203, 204, 192]],\n",
       "\n",
       "       [[156, 145, 124],\n",
       "        [156, 142, 123],\n",
       "        [153, 139, 120],\n",
       "        ...,\n",
       "        [211, 204, 191],\n",
       "        [208, 204, 190],\n",
       "        [207, 202, 191]],\n",
       "\n",
       "       [[157, 146, 125],\n",
       "        [158, 144, 125],\n",
       "        [155, 141, 122],\n",
       "        ...,\n",
       "        [211, 204, 191],\n",
       "        [208, 204, 190],\n",
       "        [207, 202, 191]]], dtype=uint8)"
      ]
     },
     "execution_count": 18,
     "metadata": {},
     "output_type": "execute_result"
    }
   ],
   "source": [
    "frame"
   ]
  },
  {
   "cell_type": "code",
   "execution_count": 19,
   "metadata": {},
   "outputs": [
    {
     "data": {
      "text/plain": [
       "array([[[0, 0, 0],\n",
       "        [0, 0, 0],\n",
       "        [0, 0, 0],\n",
       "        ...,\n",
       "        [0, 0, 0],\n",
       "        [0, 0, 0],\n",
       "        [0, 0, 0]],\n",
       "\n",
       "       [[0, 0, 0],\n",
       "        [0, 0, 0],\n",
       "        [0, 0, 0],\n",
       "        ...,\n",
       "        [0, 0, 0],\n",
       "        [0, 0, 0],\n",
       "        [0, 0, 0]],\n",
       "\n",
       "       [[0, 0, 0],\n",
       "        [0, 0, 0],\n",
       "        [0, 0, 0],\n",
       "        ...,\n",
       "        [0, 0, 0],\n",
       "        [0, 0, 0],\n",
       "        [0, 0, 0]],\n",
       "\n",
       "       ...,\n",
       "\n",
       "       [[0, 0, 0],\n",
       "        [0, 0, 0],\n",
       "        [0, 0, 0],\n",
       "        ...,\n",
       "        [0, 0, 0],\n",
       "        [0, 0, 0],\n",
       "        [0, 0, 0]],\n",
       "\n",
       "       [[0, 0, 0],\n",
       "        [0, 0, 0],\n",
       "        [0, 0, 0],\n",
       "        ...,\n",
       "        [0, 0, 0],\n",
       "        [0, 0, 0],\n",
       "        [0, 0, 0]],\n",
       "\n",
       "       [[0, 0, 0],\n",
       "        [0, 0, 0],\n",
       "        [0, 0, 0],\n",
       "        ...,\n",
       "        [0, 0, 0],\n",
       "        [0, 0, 0],\n",
       "        [0, 0, 0]]], dtype=uint8)"
      ]
     },
     "execution_count": 19,
     "metadata": {},
     "output_type": "execute_result"
    }
   ],
   "source": [
    "frame -= frame\n",
    "\n",
    "frame"
   ]
  },
  {
   "cell_type": "markdown",
   "metadata": {},
   "source": [
    "## Cropping based on hand presence\n",
    "(possibly using machine learning models to crop hands well)"
   ]
  },
  {
   "cell_type": "code",
   "execution_count": null,
   "metadata": {},
   "outputs": [],
   "source": []
  }
 ],
 "metadata": {
  "kernelspec": {
   "display_name": "Python 3",
   "language": "python",
   "name": "python3"
  },
  "language_info": {
   "codemirror_mode": {
    "name": "ipython",
    "version": 3
   },
   "file_extension": ".py",
   "mimetype": "text/x-python",
   "name": "python",
   "nbconvert_exporter": "python",
   "pygments_lexer": "ipython3",
   "version": "3.8.5"
  }
 },
 "nbformat": 4,
 "nbformat_minor": 4
}
