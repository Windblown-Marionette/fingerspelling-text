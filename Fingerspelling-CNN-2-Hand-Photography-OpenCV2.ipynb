{
 "cells": [
  {
   "cell_type": "code",
   "execution_count": 1,
   "metadata": {},
   "outputs": [],
   "source": [
    "import numpy\n",
    "import cv2 as cv\n",
    "import sys"
   ]
  },
  {
   "cell_type": "markdown",
   "metadata": {},
   "source": [
    "cv2 = [opencv-python](https://pypi.org/project/opencv-python/) 4.4.0.46\n",
    "\n",
    "opencv-python is a python wrapper for cv2, which runs on c++ code, allowing for code that is both easy and fast.\n",
    "\n",
    "cv2 creates numpy arrays, so importing numpy may come in handy."
   ]
  },
  {
   "attachments": {},
   "cell_type": "markdown",
   "metadata": {},
   "source": [
    "## Table of contents\n",
    "\n",
    "[Opening an image with cv2 and optionally saving](#Opening-an-image-with-cv2-and-optionally-saving)\n",
    "\n",
    "[Capturing an image from my laptop camera](#Capturing-an-image-from-my-laptop-camera)\n",
    "\n",
    "[Capturing an image of just my hands via cropping, for now](#Capturing-an-image-of-just-my-hands-via-cropping,-for-now)\n",
    "\n",
    "[Foreground detection](#Foreground-detection)\n",
    "\n",
    "[Cropping based on hand presence](#Cropping-based-on-hand-presence)"
   ]
  },
  {
   "cell_type": "markdown",
   "metadata": {},
   "source": [
    "## Opening an image with cv2 and optionally saving"
   ]
  },
  {
   "cell_type": "markdown",
   "metadata": {},
   "source": [
    "Made using this [documentation tutorial](https://docs.opencv.org/master/db/deb/tutorial_display_image.html) and [this tutorial](https://opencv-python-tutroals.readthedocs.io/en/latest/py_tutorials/py_gui/py_image_display/py_image_display.html)."
   ]
  },
  {
   "cell_type": "code",
   "execution_count": 3,
   "metadata": {},
   "outputs": [],
   "source": [
    "# read image from folder\n",
    "# if image read works then imread() returns numpy array\n",
    "# if image read fails then imread() returns None\n",
    "img = cv.imread('data/self_photos/capture.png')  \n",
    "if img is None:\n",
    "    sys.exit(\"Could not read the image.\")\n",
    "\n",
    "# pops up a window named 'image' that has the image img\n",
    "cv.imshow('image',img)  \n",
    "\n",
    "# cv.waitKey(0) waits indefinitely for a key press,\n",
    "# returning that pressed key as a string\n",
    "k = cv.waitKey(0) \n",
    "\n",
    "# press 's' to save the image into the following directory with the following name\n",
    "if k == ord(\"s\"):\n",
    "    cv.imwrite('data/opencv_images/capturecopy.png', img)\n",
    "\n",
    "#closes all windows opened by cv\n",
    "cv.destroyAllWindows()\n"
   ]
  },
  {
   "cell_type": "markdown",
   "metadata": {},
   "source": [
    "## Capturing an image from my laptop camera"
   ]
  },
  {
   "cell_type": "markdown",
   "metadata": {},
   "source": [
    "Made using [this stack overflow discussion](https://stackoverflow.com/questions/34588464/python-how-to-capture-image-from-webcam-on-click-using-opencv#34588758)."
   ]
  },
  {
   "cell_type": "code",
   "execution_count": 4,
   "metadata": {},
   "outputs": [
    {
     "name": "stdout",
     "output_type": "stream",
     "text": [
      "video feed launching\n",
      "quit\n"
     ]
    }
   ],
   "source": [
    "vid_feed = cv.VideoCapture(0) #  goes with the first camera it can find in this device\n",
    "\n",
    "#  creates a new window titled by the input string\n",
    "cv.namedWindow('test')\n",
    "print('video feed launching')\n",
    "while True:\n",
    "    success_bool, frame = vid_feed.read()\n",
    "    \n",
    "    if (not success_bool):\n",
    "        print('error reading video feed')\n",
    "        break        \n",
    "    \n",
    "    cv.imshow('test', frame)\n",
    "    # cv.waitKey(1) waits 1ms for a key press,\n",
    "    # returning that pressed key as a string\n",
    "    k = cv.waitKey(1) \n",
    "\n",
    "    # press 's' to save the image into the following directory with the following name\n",
    "    if k == ord(\"s\"):\n",
    "        cv.imwrite('data/opencv_images/capturecopy.png', frame)\n",
    "        print('image saved')\n",
    "    elif k == ord(\"q\"):\n",
    "        print('quit')\n",
    "        break\n",
    "    else:\n",
    "        pass\n",
    "\n",
    "#closes all windows opened by cv\n",
    "cv.destroyAllWindows()    \n",
    "    "
   ]
  },
  {
   "cell_type": "markdown",
   "metadata": {},
   "source": [
    "## Capturing an image of just my hands via cropping, for now"
   ]
  },
  {
   "cell_type": "markdown",
   "metadata": {},
   "source": [
    "As explained in [this stackexchange post](https://stackoverflow.com/questions/15589517/how-to-crop-an-image-in-opencv-using-python), cropping can be simply achieved by using numpy slicing.\n",
    "\n",
    "As a quick fix, the frame will be set manually and the hand will be moved until it is in frame."
   ]
  },
  {
   "cell_type": "code",
   "execution_count": 3,
   "metadata": {},
   "outputs": [
    {
     "name": "stdout",
     "output_type": "stream",
     "text": [
      "video feed launching\n",
      "quit\n"
     ]
    }
   ],
   "source": [
    "vid_feed = cv.VideoCapture(0) #  goes with the first camera it can find in this device\n",
    "\n",
    "#  creates a new window titled by the input string\n",
    "cv.namedWindow('test')\n",
    "print('video feed launching')\n",
    "while True:\n",
    "    success_bool, frame = vid_feed.read()\n",
    "    \n",
    "    if (not success_bool):\n",
    "        print('error reading video feed')\n",
    "        break        \n",
    "    \n",
    "    #cropping frame\n",
    "    frame = frame[150:420, 0:250] #  [ V , > ]\n",
    "    \n",
    "    cv.imshow('test', frame)\n",
    "    # cv.waitKey(1) waits 1ms for a key press,\n",
    "    # returning that pressed key as a string\n",
    "    k = cv.waitKey(1) \n",
    "\n",
    "    # press 's' to save the image into the following directory with the following name\n",
    "    if k == ord(\"s\"):\n",
    "        cv.imwrite('data/opencv_images/capturecopy.png', frame)\n",
    "        print('image saved')\n",
    "    elif k == ord(\"q\"):\n",
    "        print('quit')\n",
    "        break\n",
    "    else:\n",
    "        pass\n",
    "\n",
    "#closes all windows opened by cv\n",
    "cv.destroyAllWindows()    \n",
    "    "
   ]
  },
  {
   "cell_type": "markdown",
   "metadata": {},
   "source": [
    "## Foreground detection"
   ]
  },
  {
   "cell_type": "markdown",
   "metadata": {},
   "source": [
    "By subtracting the background from images, the background may contribute less to CNN readings."
   ]
  },
  {
   "cell_type": "markdown",
   "metadata": {},
   "source": [
    "First try, subtracting an image of the background from the current image.\n",
    "This may mess up the hand's pixel values a lot."
   ]
  },
  {
   "cell_type": "code",
   "execution_count": 2,
   "metadata": {},
   "outputs": [
    {
     "name": "stdout",
     "output_type": "stream",
     "text": [
      "video feed launching\n",
      "quit\n"
     ]
    }
   ],
   "source": [
    "vid_feed = cv.VideoCapture(0) #  goes with the first camera it can find in this device\n",
    "\n",
    "#  creates a new window titled by the input string\n",
    "cv.namedWindow('test')\n",
    "print('video feed launching')\n",
    "\n",
    "success_bool, bg_frame = vid_feed.read()\n",
    "    \n",
    "if (not success_bool):\n",
    "    print('error reading video feed')\n",
    "    \n",
    "while True:\n",
    "    success_bool, frame = vid_feed.read()\n",
    "    \n",
    "    if (not success_bool):\n",
    "        print('error reading video feed')\n",
    "        break \n",
    "        \n",
    "    #background subtraction\n",
    "    frame = frame - bg_frame\n",
    "        \n",
    "    #cropping frame\n",
    "    frame = frame[150:420, 0:250] #  [ V , > ]\n",
    "\n",
    "    #showing image\n",
    "    cv.imshow('test', frame)\n",
    "    \n",
    "    # cv.waitKey(1) waits 1ms for a key press,\n",
    "    # returning that pressed key as a string\n",
    "    k = cv.waitKey(1) \n",
    "\n",
    "    # press 's' to save the image into the following directory with the following name\n",
    "    if k == ord(\"s\"):\n",
    "        cv.imwrite('data/opencv_images/capturecopy.png', frame)\n",
    "        print('image saved')\n",
    "    elif k == ord(\"q\"):\n",
    "        print('quit')\n",
    "        break\n",
    "    else:\n",
    "        pass\n",
    "\n",
    "#closes all windows opened by cv\n",
    "cv.destroyAllWindows()    \n",
    "    "
   ]
  },
  {
   "cell_type": "markdown",
   "metadata": {},
   "source": [
    "This was very cool looking. It made a print of the bookshelf appear along the silhouette of my hand, and multicolor noise filled the background, seeming to vary as the camera experienced noise and as it automatically adjusted its settings to maintain image quality."
   ]
  },
  {
   "cell_type": "code",
   "execution_count": null,
   "metadata": {},
   "outputs": [],
   "source": []
  },
  {
   "cell_type": "markdown",
   "metadata": {},
   "source": [
    "Second try, background Subtraction via BackgroundSubtractorMOG()."
   ]
  },
  {
   "cell_type": "code",
   "execution_count": 18,
   "metadata": {},
   "outputs": [],
   "source": [
    "import numpy as np\n",
    "import cv2\n",
    "\n",
    "cap = cv2.VideoCapture(0)\n",
    "\n",
    "fgbg = cv2.createBackgroundSubtractorMOG2(history = 50000,detectShadows=False)\n",
    "\n",
    "while(1):\n",
    "    ret, frame = cap.read()\n",
    "\n",
    "    fgmask = fgbg.apply(frame)\n",
    "\n",
    "    cv2.imshow('frame',fgmask)\n",
    "    k = cv2.waitKey(30) & 0xff\n",
    "    if k == 27:\n",
    "        break\n",
    "\n",
    "cap.release()\n",
    "cv2.destroyAllWindows()"
   ]
  },
  {
   "cell_type": "markdown",
   "metadata": {},
   "source": [
    "This seems to generate hand outlines well, but parts of the hand as well as hand placement seem to become categorized as background over time, creating pixel blobs within the clear silhouette."
   ]
  },
  {
   "cell_type": "markdown",
   "metadata": {},
   "source": [
    "## Cropping based on hand presence\n",
    "(possibly using machine learning models to crop hands well)"
   ]
  },
  {
   "cell_type": "code",
   "execution_count": null,
   "metadata": {},
   "outputs": [],
   "source": []
  }
 ],
 "metadata": {
  "kernelspec": {
   "display_name": "Python 3",
   "language": "python",
   "name": "python3"
  },
  "language_info": {
   "codemirror_mode": {
    "name": "ipython",
    "version": 3
   },
   "file_extension": ".py",
   "mimetype": "text/x-python",
   "name": "python",
   "nbconvert_exporter": "python",
   "pygments_lexer": "ipython3",
   "version": "3.8.5"
  }
 },
 "nbformat": 4,
 "nbformat_minor": 4
}
